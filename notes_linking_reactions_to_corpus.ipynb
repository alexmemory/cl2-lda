{
 "metadata": {
  "name": "notes_linking_reactions_to_corpus"
 }, 
 "nbformat": 2, 
 "worksheets": [
  {
   "cells": [
    {
     "cell_type": "markdown", 
     "source": [
      "# Linking the reactions to the corpus"
     ]
    }, 
    {
     "cell_type": "markdown", 
     "source": [
      "We want to link the individual reactions from the Oct 3 2012 presidential debate to the corpus for the debate."
     ]
    }, 
    {
     "cell_type": "code", 
     "collapsed": true, 
     "input": [
      "import pandas as pd", 
      "from pandas.tools.plotting import scatter_matrix", 
      "import random", 
      "import numpy as np", 
      "import reactions"
     ], 
     "language": "python", 
     "outputs": [], 
     "prompt_number": 1
    }, 
    {
     "cell_type": "markdown", 
     "source": [
      "## Reactions data"
     ]
    }, 
    {
     "cell_type": "markdown", 
     "source": [
      "Read in the Oct3 2012 debate reactions file and get the reactions part."
     ]
    }, 
    {
     "cell_type": "code", 
     "collapsed": false, 
     "input": [
      "%time parts = reactions.split_reactions_file('data/reactions_oct3_4project.csv')"
     ], 
     "language": "python", 
     "outputs": [
      {
       "output_type": "stream", 
       "stream": "stdout", 
       "text": [
        "CPU times: user 4.77 s, sys: 0.44 s, total: 5.21 s", 
        "Wall time: 5.25 s"
       ]
      }
     ], 
     "prompt_number": 2
    }, 
    {
     "cell_type": "code", 
     "collapsed": true, 
     "input": [
      "r = parts['reactions'].copy()"
     ], 
     "language": "python", 
     "outputs": [], 
     "prompt_number": 3
    }, 
    {
     "cell_type": "markdown", 
     "source": [
      "Add a *start* column to hold the time of the reaction; we will use this to merge with the corpus file later."
     ]
    }, 
    {
     "cell_type": "code", 
     "collapsed": true, 
     "input": [
      "r['start'] = r.Time.apply(lambda t: pd.datetime.time(t))"
     ], 
     "language": "python", 
     "outputs": [], 
     "prompt_number": 4
    }, 
    {
     "cell_type": "code", 
     "collapsed": false, 
     "input": [
      "r.head(2)"
     ], 
     "language": "python", 
     "outputs": [
      {
       "html": [
        "<div style=\"max-height:1000px;max-width:1500px;overflow:auto;\">", 
        "<table border=\"1\" class=\"dataframe\">", 
        "  <thead>", 
        "    <tr style=\"text-align: right;\">", 
        "      <th></th>", 
        "      <th>UserID</th>", 
        "      <th>Time</th>", 
        "      <th>Reaction_who</th>", 
        "      <th>Reaction_what</th>", 
        "      <th>start</th>", 
        "    </tr>", 
        "  </thead>", 
        "  <tbody>", 
        "    <tr>", 
        "      <th>0</th>", 
        "      <td> ag1zfnJlYWN0bGFicy00ciwLEgRVc2VyIiJhX2E0Mjc1MD...</td>", 
        "      <td>2012-10-04 01:03:50.179000</td>", 
        "      <td> Moderator</td>", 
        "      <td> Agree</td>", 
        "      <td> 01:03:50.179000</td>", 
        "    </tr>", 
        "    <tr>", 
        "      <th>1</th>", 
        "      <td> ag1zfnJlYWN0bGFicy00ciwLEgRVc2VyIiJhX2E0Mjc1MD...</td>", 
        "      <td>2012-10-04 01:05:17.907000</td>", 
        "      <td>     Obama</td>", 
        "      <td>  Spin</td>", 
        "      <td> 01:05:17.907000</td>", 
        "    </tr>", 
        "  </tbody>", 
        "</table>", 
        "</div>"
       ], 
       "output_type": "pyout", 
       "prompt_number": 5, 
       "text": [
        "                                              UserID                       Time  \\", 
        "0  ag1zfnJlYWN0bGFicy00ciwLEgRVc2VyIiJhX2E0Mjc1MD... 2012-10-04 01:03:50.179000   ", 
        "1  ag1zfnJlYWN0bGFicy00ciwLEgRVc2VyIiJhX2E0Mjc1MD... 2012-10-04 01:05:17.907000   ", 
        "", 
        "  Reaction_who Reaction_what            start  ", 
        "0    Moderator         Agree  01:03:50.179000  ", 
        "1        Obama          Spin  01:05:17.907000  "
       ]
      }
     ], 
     "prompt_number": 5
    }, 
    {
     "cell_type": "markdown", 
     "source": [
      "## Transcript corpus"
     ]
    }, 
    {
     "cell_type": "markdown", 
     "source": [
      "Load the transcript file."
     ]
    }, 
    {
     "cell_type": "code", 
     "collapsed": true, 
     "input": [
      "c = pd.read_csv('corpora/oct3_coded_transcript_sync.csv')"
     ], 
     "language": "python", 
     "outputs": [], 
     "prompt_number": 6
    }, 
    {
     "cell_type": "markdown", 
     "source": [
      "Add a *start* column like we did for the reactions data."
     ]
    }, 
    {
     "cell_type": "code", 
     "collapsed": true, 
     "input": [
      "c['start'] = pd.to_datetime(c[\"Sync'd start\"]).apply(lambda t: pd.datetime.time(t))"
     ], 
     "language": "python", 
     "outputs": [], 
     "prompt_number": 7
    }, 
    {
     "cell_type": "code", 
     "collapsed": true, 
     "input": [
      "c['statement'] = range(len(c))"
     ], 
     "language": "python", 
     "outputs": [], 
     "prompt_number": 12
    }, 
    {
     "cell_type": "code", 
     "collapsed": false, 
     "input": [
      "c.head(2)"
     ], 
     "language": "python", 
     "outputs": [
      {
       "html": [
        "<div style=\"max-height:1000px;max-width:1500px;overflow:auto;\">", 
        "<table border=\"1\" class=\"dataframe\">", 
        "  <thead>", 
        "    <tr style=\"text-align: right;\">", 
        "      <th></th>", 
        "      <th>Sync'd start</th>", 
        "      <th>Sync'd end</th>", 
        "      <th>Speaker</th>", 
        "      <th>Transcript</th>", 
        "      <th>QuestionTopic</th>", 
        "      <th>Topic</th>", 
        "      <th>Frame</th>", 
        "      <th>Tone</th>", 
        "      <th>start</th>", 
        "      <th>statement</th>", 
        "    </tr>", 
        "  </thead>", 
        "  <tbody>", 
        "    <tr>", 
        "      <th>0</th>", 
        "      <td> 1:02:01</td>", 
        "      <td> 1:02:06</td>", 
        "      <td> 0</td>", 
        "      <td> Good evening from the Magness Arena at the Uni...</td>", 
        "      <td> 99</td>", 
        "      <td> 9</td>", 
        "      <td> 9</td>", 
        "      <td> 0</td>", 
        "      <td> 01:02:01</td>", 
        "      <td> 0</td>", 
        "    </tr>", 
        "    <tr>", 
        "      <th>1</th>", 
        "      <td> 1:02:06</td>", 
        "      <td> 1:02:09</td>", 
        "      <td> 0</td>", 
        "      <td>              I'm Jim Lehrer of the PBS NewsHour, </td>", 
        "      <td> 99</td>", 
        "      <td> 9</td>", 
        "      <td> 9</td>", 
        "      <td> 0</td>", 
        "      <td> 01:02:06</td>", 
        "      <td> 1</td>", 
        "    </tr>", 
        "  </tbody>", 
        "</table>", 
        "</div>"
       ], 
       "output_type": "pyout", 
       "prompt_number": 13, 
       "text": [
        "  Sync'd start Sync'd end  Speaker  \\", 
        "0      1:02:01    1:02:06        0   ", 
        "1      1:02:06    1:02:09        0   ", 
        "", 
        "                                          Transcript  QuestionTopic  Topic  Frame  \\", 
        "0  Good evening from the Magness Arena at the Uni...             99      9      9   ", 
        "1               I'm Jim Lehrer of the PBS NewsHour,              99      9      9   ", 
        "", 
        "   Tone     start  statement  ", 
        "0     0  01:02:01          0  ", 
        "1     0  01:02:06          1  "
       ]
      }
     ], 
     "prompt_number": 13
    }, 
    {
     "cell_type": "markdown", 
     "source": [
      "## Merge"
     ]
    }, 
    {
     "cell_type": "markdown", 
     "source": [
      "The *start* column will be shared, but the times will be out of order, so sort it on *start*."
     ]
    }, 
    {
     "cell_type": "code", 
     "collapsed": true, 
     "input": [
      "m = c.append(r)"
     ], 
     "language": "python", 
     "outputs": [], 
     "prompt_number": 15
    }, 
    {
     "cell_type": "code", 
     "collapsed": true, 
     "input": [
      "m = m.sort(columns='start')"
     ], 
     "language": "python", 
     "outputs": [], 
     "prompt_number": 16
    }, 
    {
     "cell_type": "code", 
     "collapsed": false, 
     "input": [
      "m.head(2)"
     ], 
     "language": "python", 
     "outputs": [
      {
       "html": [
        "<div style=\"max-height:1000px;max-width:1500px;overflow:auto;\">", 
        "<table border=\"1\" class=\"dataframe\">", 
        "  <thead>", 
        "    <tr style=\"text-align: right;\">", 
        "      <th></th>", 
        "      <th>Frame</th>", 
        "      <th>QuestionTopic</th>", 
        "      <th>Reaction_what</th>", 
        "      <th>Reaction_who</th>", 
        "      <th>Speaker</th>", 
        "      <th>Sync'd end</th>", 
        "      <th>Sync'd start</th>", 
        "      <th>Time</th>", 
        "      <th>Tone</th>", 
        "      <th>Topic</th>", 
        "      <th>Transcript</th>", 
        "      <th>UserID</th>", 
        "      <th>start</th>", 
        "      <th>statement</th>", 
        "    </tr>", 
        "  </thead>", 
        "  <tbody>", 
        "    <tr>", 
        "      <th>56965</th>", 
        "      <td>NaN</td>", 
        "      <td>NaN</td>", 
        "      <td> Disagree</td>", 
        "      <td> Moderator</td>", 
        "      <td>NaN</td>", 
        "      <td> NaN</td>", 
        "      <td> NaN</td>", 
        "      <td> 2012-10-04 00:30:00.429000</td>", 
        "      <td>NaN</td>", 
        "      <td>NaN</td>", 
        "      <td> NaN</td>", 
        "      <td> ag1zfnJlYWN0bGFicy01ciwLEgRVc2VyIiJhX2U4ODllMG...</td>", 
        "      <td> 00:30:00.429000</td>", 
        "      <td>NaN</td>", 
        "    </tr>", 
        "    <tr>", 
        "      <th>92001</th>", 
        "      <td>NaN</td>", 
        "      <td>NaN</td>", 
        "      <td>    Agree</td>", 
        "      <td>     Obama</td>", 
        "      <td>NaN</td>", 
        "      <td> NaN</td>", 
        "      <td> NaN</td>", 
        "      <td> 2012-10-04 00:30:02.337000</td>", 
        "      <td>NaN</td>", 
        "      <td>NaN</td>", 
        "      <td> NaN</td>", 
        "      <td> ag1zfnJlYWN0bGFicy0xciwLEgRVc2VyIiJhX2U5NDA5Zj...</td>", 
        "      <td> 00:30:02.337000</td>", 
        "      <td>NaN</td>", 
        "    </tr>", 
        "  </tbody>", 
        "</table>", 
        "</div>"
       ], 
       "output_type": "pyout", 
       "prompt_number": 17, 
       "text": [
        "       Frame  QuestionTopic Reaction_what Reaction_who  Speaker Sync'd end  \\", 
        "56965    NaN            NaN      Disagree    Moderator      NaN        NaN   ", 
        "92001    NaN            NaN         Agree        Obama      NaN        NaN   ", 
        "", 
        "      Sync'd start                        Time  Tone  Topic Transcript  \\", 
        "56965          NaN  2012-10-04 00:30:00.429000   NaN    NaN        NaN   ", 
        "92001          NaN  2012-10-04 00:30:02.337000   NaN    NaN        NaN   ", 
        "", 
        "                                                  UserID            start  \\", 
        "56965  ag1zfnJlYWN0bGFicy01ciwLEgRVc2VyIiJhX2U4ODllMG...  00:30:00.429000   ", 
        "92001  ag1zfnJlYWN0bGFicy0xciwLEgRVc2VyIiJhX2U5NDA5Zj...  00:30:02.337000   ", 
        "", 
        "       statement  ", 
        "56965        NaN  ", 
        "92001        NaN  "
       ]
      }
     ], 
     "prompt_number": 17
    }, 
    {
     "cell_type": "markdown", 
     "source": [
      "Assuming the times are already synchronized and that reactions happen *after* a statement is made, we will assign reactions between two transcript entries to the *prior* entry.  We do this by filling forward the blank columns of the table."
     ]
    }, 
    {
     "cell_type": "code", 
     "collapsed": true, 
     "input": [
      "m = m.fillna(method='ffill')"
     ], 
     "language": "python", 
     "outputs": [], 
     "prompt_number": 18
    }, 
    {
     "cell_type": "markdown", 
     "source": [
      "It appears that the app accepted clicks a 1/2 hour before the start of the debate (we will see that the same happened for a 1/2 hour at the end as well).  Let's get rid of those reactions at the start, which contain NAs."
     ]
    }, 
    {
     "cell_type": "code", 
     "collapsed": true, 
     "input": [
      "m2 = m.dropna()"
     ], 
     "language": "python", 
     "outputs": [], 
     "prompt_number": 19
    }, 
    {
     "cell_type": "code", 
     "collapsed": false, 
     "input": [
      "print len(m), len(m2), len(m)-len(m2)"
     ], 
     "language": "python", 
     "outputs": [
      {
       "output_type": "stream", 
       "stream": "stdout", 
       "text": [
        "194458 193033 1425"
       ]
      }
     ], 
     "prompt_number": 20
    }, 
    {
     "cell_type": "markdown", 
     "source": [
      "So that removed ~1400 reactions."
     ]
    }, 
    {
     "cell_type": "markdown", 
     "source": [
      "Now notice that the last reaction happened at ~3pm and the last transcript record happened at ~2:30p.  Let's get rid of those really late reactions."
     ]
    }, 
    {
     "cell_type": "code", 
     "collapsed": false, 
     "input": [
      "m2[[\"Sync'd start\",'Time','start','UserID']].tail(1)"
     ], 
     "language": "python", 
     "outputs": [
      {
       "html": [
        "<div style=\"max-height:1000px;max-width:1500px;overflow:auto;\">", 
        "<table border=\"1\" class=\"dataframe\">", 
        "  <thead>", 
        "    <tr style=\"text-align: right;\">", 
        "      <th></th>", 
        "      <th>Sync'd start</th>", 
        "      <th>Time</th>", 
        "      <th>start</th>", 
        "      <th>UserID</th>", 
        "    </tr>", 
        "  </thead>", 
        "  <tbody>", 
        "    <tr>", 
        "      <th>141777</th>", 
        "      <td> 2:32:41</td>", 
        "      <td> 2012-10-04 02:59:59.396000</td>", 
        "      <td> 02:59:59.396000</td>", 
        "      <td> ag1zfnJlYWN0bGFicy0yciwLEgRVc2VyIiJhX2NlOTc1M2...</td>", 
        "    </tr>", 
        "  </tbody>", 
        "</table>", 
        "</div>"
       ], 
       "output_type": "pyout", 
       "prompt_number": 21, 
       "text": [
        "       Sync'd start                        Time            start  \\", 
        "141777      2:32:41  2012-10-04 02:59:59.396000  02:59:59.396000   ", 
        "", 
        "                                                   UserID  ", 
        "141777  ag1zfnJlYWN0bGFicy0yciwLEgRVc2VyIiJhX2NlOTc1M2...  "
       ]
      }
     ], 
     "prompt_number": 21
    }, 
    {
     "cell_type": "code", 
     "collapsed": true, 
     "input": [
      "m3 = m2[m2.start < pd.datetime.time(pd.to_datetime('2:33'))]"
     ], 
     "language": "python", 
     "outputs": [], 
     "prompt_number": 22
    }, 
    {
     "cell_type": "code", 
     "collapsed": false, 
     "input": [
      "m3[[\"Sync'd start\",'Time','start','UserID']].tail(1)"
     ], 
     "language": "python", 
     "outputs": [
      {
       "html": [
        "<div style=\"max-height:1000px;max-width:1500px;overflow:auto;\">", 
        "<table border=\"1\" class=\"dataframe\">", 
        "  <thead>", 
        "    <tr style=\"text-align: right;\">", 
        "      <th></th>", 
        "      <th>Sync'd start</th>", 
        "      <th>Time</th>", 
        "      <th>start</th>", 
        "      <th>UserID</th>", 
        "    </tr>", 
        "  </thead>", 
        "  <tbody>", 
        "    <tr>", 
        "      <th>191634</th>", 
        "      <td> 2:32:41</td>", 
        "      <td> 2012-10-04 02:32:59.840000</td>", 
        "      <td> 02:32:59.840000</td>", 
        "      <td> ag1zfnJlYWN0bGFicy0zciwLEgRVc2VyIiJhXzBkNGVlZT...</td>", 
        "    </tr>", 
        "  </tbody>", 
        "</table>", 
        "</div>"
       ], 
       "output_type": "pyout", 
       "prompt_number": 23, 
       "text": [
        "       Sync'd start                        Time            start  \\", 
        "191634      2:32:41  2012-10-04 02:32:59.840000  02:32:59.840000   ", 
        "", 
        "                                                   UserID  ", 
        "191634  ag1zfnJlYWN0bGFicy0zciwLEgRVc2VyIiJhXzBkNGVlZT...  "
       ]
      }
     ], 
     "prompt_number": 23
    }, 
    {
     "cell_type": "markdown", 
     "source": [
      "## Turns"
     ]
    }, 
    {
     "cell_type": "markdown", 
     "source": [
      "Let's find the turns, i.e. the contiguous records where the same speaker was speaking."
     ]
    }, 
    {
     "cell_type": "code", 
     "collapsed": true, 
     "input": [
      "m3['turn'] = (m3.Speaker.shift(1) != m3.Speaker).astype(int).cumsum()"
     ], 
     "language": "python", 
     "outputs": [], 
     "prompt_number": 24
    }, 
    {
     "cell_type": "code", 
     "collapsed": false, 
     "input": [
      "m3[['Speaker','Transcript','start','turn','Reaction_what','Reaction_who','statement']].head(5)"
     ], 
     "language": "python", 
     "outputs": [
      {
       "html": [
        "<div style=\"max-height:1000px;max-width:1500px;overflow:auto;\">", 
        "<table border=\"1\" class=\"dataframe\">", 
        "  <thead>", 
        "    <tr style=\"text-align: right;\">", 
        "      <th></th>", 
        "      <th>Speaker</th>", 
        "      <th>Transcript</th>", 
        "      <th>start</th>", 
        "      <th>turn</th>", 
        "      <th>Reaction_what</th>", 
        "      <th>Reaction_who</th>", 
        "      <th>statement</th>", 
        "    </tr>", 
        "  </thead>", 
        "  <tbody>", 
        "    <tr>", 
        "      <th>0     </th>", 
        "      <td> 0</td>", 
        "      <td> Good evening from the Magness Arena at the Uni...</td>", 
        "      <td>        01:02:01</td>", 
        "      <td> 1</td>", 
        "      <td>    Agree</td>", 
        "      <td> Moderator</td>", 
        "      <td> 0</td>", 
        "    </tr>", 
        "    <tr>", 
        "      <th>56861 </th>", 
        "      <td> 0</td>", 
        "      <td> Good evening from the Magness Arena at the Uni...</td>", 
        "      <td> 01:02:01.401000</td>", 
        "      <td> 1</td>", 
        "      <td> Disagree</td>", 
        "      <td> Moderator</td>", 
        "      <td> 0</td>", 
        "    </tr>", 
        "    <tr>", 
        "      <th>60192 </th>", 
        "      <td> 0</td>", 
        "      <td> Good evening from the Magness Arena at the Uni...</td>", 
        "      <td> 01:02:02.011000</td>", 
        "      <td> 1</td>", 
        "      <td> Disagree</td>", 
        "      <td>    Romney</td>", 
        "      <td> 0</td>", 
        "    </tr>", 
        "    <tr>", 
        "      <th>117568</th>", 
        "      <td> 0</td>", 
        "      <td> Good evening from the Magness Arena at the Uni...</td>", 
        "      <td> 01:02:02.268000</td>", 
        "      <td> 1</td>", 
        "      <td>    Agree</td>", 
        "      <td> Moderator</td>", 
        "      <td> 0</td>", 
        "    </tr>", 
        "    <tr>", 
        "      <th>48989 </th>", 
        "      <td> 0</td>", 
        "      <td> Good evening from the Magness Arena at the Uni...</td>", 
        "      <td> 01:02:02.482000</td>", 
        "      <td> 1</td>", 
        "      <td> Disagree</td>", 
        "      <td> Moderator</td>", 
        "      <td> 0</td>", 
        "    </tr>", 
        "  </tbody>", 
        "</table>", 
        "</div>"
       ], 
       "output_type": "pyout", 
       "prompt_number": 30, 
       "text": [
        "        Speaker                                         Transcript  \\", 
        "0             0  Good evening from the Magness Arena at the Uni...   ", 
        "56861         0  Good evening from the Magness Arena at the Uni...   ", 
        "60192         0  Good evening from the Magness Arena at the Uni...   ", 
        "117568        0  Good evening from the Magness Arena at the Uni...   ", 
        "48989         0  Good evening from the Magness Arena at the Uni...   ", 
        "", 
        "                  start  turn Reaction_what Reaction_who  statement  ", 
        "0              01:02:01     1         Agree    Moderator          0  ", 
        "56861   01:02:01.401000     1      Disagree    Moderator          0  ", 
        "60192   01:02:02.011000     1      Disagree       Romney          0  ", 
        "117568  01:02:02.268000     1         Agree    Moderator          0  ", 
        "48989   01:02:02.482000     1      Disagree    Moderator          0  "
       ]
      }
     ], 
     "prompt_number": 30
    }, 
    {
     "cell_type": "code", 
     "collapsed": false, 
     "input": [
      "m3[['Speaker','Transcript','start','turn','Reaction_what','Reaction_who','statement']].tail(5)"
     ], 
     "language": "python", 
     "outputs": [
      {
       "html": [
        "<div style=\"max-height:1000px;max-width:1500px;overflow:auto;\">", 
        "<table border=\"1\" class=\"dataframe\">", 
        "  <thead>", 
        "    <tr style=\"text-align: right;\">", 
        "      <th></th>", 
        "      <th>Speaker</th>", 
        "      <th>Transcript</th>", 
        "      <th>start</th>", 
        "      <th>turn</th>", 
        "      <th>Reaction_what</th>", 
        "      <th>Reaction_who</th>", 
        "      <th>statement</th>", 
        "    </tr>", 
        "  </thead>", 
        "  <tbody>", 
        "    <tr>", 
        "      <th>188581</th>", 
        "      <td> 0</td>", 
        "      <td> Thank you, and good night.</td>", 
        "      <td> 02:32:58.844000</td>", 
        "      <td> 190</td>", 
        "      <td> Disagree</td>", 
        "      <td>    Romney</td>", 
        "      <td> 1171</td>", 
        "    </tr>", 
        "    <tr>", 
        "      <th>178766</th>", 
        "      <td> 0</td>", 
        "      <td> Thank you, and good night.</td>", 
        "      <td> 02:32:58.890000</td>", 
        "      <td> 190</td>", 
        "      <td>    Agree</td>", 
        "      <td> Moderator</td>", 
        "      <td> 1171</td>", 
        "    </tr>", 
        "    <tr>", 
        "      <th>167646</th>", 
        "      <td> 0</td>", 
        "      <td> Thank you, and good night.</td>", 
        "      <td> 02:32:59.280000</td>", 
        "      <td> 190</td>", 
        "      <td>    Agree</td>", 
        "      <td>    Romney</td>", 
        "      <td> 1171</td>", 
        "    </tr>", 
        "    <tr>", 
        "      <th>68397 </th>", 
        "      <td> 0</td>", 
        "      <td> Thank you, and good night.</td>", 
        "      <td> 02:32:59.726000</td>", 
        "      <td> 190</td>", 
        "      <td> Disagree</td>", 
        "      <td>    Romney</td>", 
        "      <td> 1171</td>", 
        "    </tr>", 
        "    <tr>", 
        "      <th>191634</th>", 
        "      <td> 0</td>", 
        "      <td> Thank you, and good night.</td>", 
        "      <td> 02:32:59.840000</td>", 
        "      <td> 190</td>", 
        "      <td>    Agree</td>", 
        "      <td>    Romney</td>", 
        "      <td> 1171</td>", 
        "    </tr>", 
        "  </tbody>", 
        "</table>", 
        "</div>"
       ], 
       "output_type": "pyout", 
       "prompt_number": 29, 
       "text": [
        "        Speaker                  Transcript            start  turn Reaction_what  \\", 
        "188581        0  Thank you, and good night.  02:32:58.844000   190      Disagree   ", 
        "178766        0  Thank you, and good night.  02:32:58.890000   190         Agree   ", 
        "167646        0  Thank you, and good night.  02:32:59.280000   190         Agree   ", 
        "68397         0  Thank you, and good night.  02:32:59.726000   190      Disagree   ", 
        "191634        0  Thank you, and good night.  02:32:59.840000   190         Agree   ", 
        "", 
        "       Reaction_who  statement  ", 
        "188581       Romney       1171  ", 
        "178766    Moderator       1171  ", 
        "167646       Romney       1171  ", 
        "68397        Romney       1171  ", 
        "191634       Romney       1171  "
       ]
      }
     ], 
     "prompt_number": 29
    }, 
    {
     "cell_type": "markdown", 
     "source": [
      "It looks like early turns got lot of turns, then there was perhaps some dull spots, then more attention at the end."
     ]
    }, 
    {
     "cell_type": "code", 
     "collapsed": false, 
     "input": [
      "m3.groupby('turn').count().plot(legend=False)"
     ], 
     "language": "python", 
     "outputs": [
      {
       "output_type": "pyout", 
       "prompt_number": 27, 
       "text": [
        "<matplotlib.axes.AxesSubplot at 0x7a44b90>"
       ]
      }, 
      {
       "output_type": "display_data", 
       "png": "[encoded data removed]"
      }
     ], 
     "prompt_number": 27
    }, 
    {
     "cell_type": "code", 
     "collapsed": true, 
     "input": [], 
     "language": "python", 
     "outputs": []
    }
   ]
  }
 ]
}