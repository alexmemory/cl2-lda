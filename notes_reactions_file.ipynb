{
 "metadata": {
  "name": "notes_reactions_file"
 }, 
 "nbformat": 2, 
 "worksheets": [
  {
   "cells": [
    {
     "cell_type": "markdown", 
     "source": [
      "# Reactions file from Oct 3, 2012 debate"
     ]
    }, 
    {
     "cell_type": "markdown", 
     "source": [
      "We are looking at the debates reaction data for the Oct 3 2012 presidential debate."
     ]
    }, 
    {
     "cell_type": "markdown", 
     "source": [
      "## Load and cleanup"
     ]
    }, 
    {
     "cell_type": "code", 
     "collapsed": true, 
     "input": [
      "import pandas", 
      "from pandas.tools.plotting import scatter_matrix", 
      "import random"
     ], 
     "language": "python", 
     "outputs": [], 
     "prompt_number": 35
    }, 
    {
     "cell_type": "markdown", 
     "source": [
      "Read in the Oct3 2012 debate file."
     ]
    }, 
    {
     "cell_type": "code", 
     "collapsed": false, 
     "input": [
      "%time reactions = pandas.read_csv('resources_symlink/data/reactions_oct3_4project.csv')"
     ], 
     "language": "python", 
     "outputs": [
      {
       "output_type": "stream", 
       "stream": "stdout", 
       "text": [
        "CPU times: user 1.82 s, sys: 0.16 s, total: 1.98 s", 
        "Wall time: 1.99 s"
       ]
      }
     ], 
     "prompt_number": 3
    }, 
    {
     "cell_type": "markdown", 
     "source": [
      "The columns are hard to read.  Rename."
     ]
    }, 
    {
     "cell_type": "code", 
     "collapsed": false, 
     "input": [
      "for i,c in enumerate(reactions.columns.tolist()): print c"
     ], 
     "language": "python", 
     "outputs": [
      {
       "output_type": "stream", 
       "stream": "stdout", 
       "text": [
        "UserID", 
        "Time", 
        "Reaction", 
        "<b>25.</b> How are you watching the debate? (It is especially important that we know if you are watching online, so please answer accurately.)#", 
        "<br /><b>10.</b> Economy:#", 
        "<br /><b>12.</b> Health Care:#", 
        "<br /><b>13.</b> Foreign Policy:#", 
        "<br /><b>14.</b> Abortion:#", 
        "<br /><b>15.</b> Economy:#", 
        "<br /><b>7.</b> Health Care:#", 
        "<br /><b>8.</b> Foreign Policy:#", 
        "<br /><b>9.</b> Abortion:#", 
        "<hr><b>23.</b> Some people don't pay much attention to political campaigns.  How about you? How interested have you been in the political campaigns (so far) this year?#", 
        "<hr><b>24.</b> What specific sources (newspapers, radio shows, television programs, websites) have you been using to get most of your campaign and election news? Just name a few specific sources you use MOST often.#", 
        "<hr><br /><b>16.</b> What is your gender?#", 
        "<hr><br /><b>17.</b> What is your age?#", 
        "<hr><br /><b>18.</b> What is your family's income?#", 
        "<hr><br /><b>19.</b> What is your race?#", 
        "<hr><br /><b>20.</b> What is your religion?#", 
        "<hr><br /><b>21.</b> If Christian, please be more specific. (Otherwise, skip this question.)#", 
        "<hr><br /><b>22.</b> In what state do you live? (Use 2-letter abbreviation, e.g., CA)#", 
        "<hr><br /><b>26.</b> If you are watching on TV, exactly how are you watching?#", 
        "<hr><br /><b>27.</b> Thinking about the economy, which candidate do you prefer at the moment?#", 
        "<hr><br /><b>28.</b> Thinking about foreign policy, which candidate do you prefer at the moment?#", 
        "<hr><br /><b>29.</b> Which candidate do you prefer at the moment?#", 
        "<hr><br /><b>3.</b> If the election was today, which one of the candidates would you pick?#", 
        "<hr><br /><b>4.</b> If you selected a candidate in the question above, how confident are you that this candidate is the best candidate for president? (Otherwise, skip this question.)#", 
        "<hr><br /><b>5.</b> How likely are you to vote in the 2012 presidential election?#", 
        "<hr><br /><i>Some of the following questions allow you to use a slider to register your answer anywhere you want along the scale.</i><br /><br /><b>2.</b> How would you describe your overall views on politics in general?#", 
        "<hr><br />Now we're ready to watch the debate! Use the app to respond in real time by selecting a person and then clicking a response button. If you see a question pop up, answer and then click Next. And don't forget to complete the brief follow-up questions that will appear once the debate ends. Ready to begin?#", 
        "<hr>Please indicate the priority of each of the following issue areas to you personally.<br /><br /><b>6.</b> Immigration:#", 
        "<hr>Which political party, if any, do you think is better at dealing with each of these issues?<br /><br /><b>11.</b> Immigration:#", 
        "<i>Remember, scroll down to answer all questions, then be sure to click Next to move to the next page of questions.</i><br /><br /><b>1.</b> Generally speaking, do you think of yourself as being closer to the Democratic Party or the Republican Party?#", 
        "This app allows you to react to the 2012 debates. We begin with a short pre-debate survey. Then, during the debate, additional questions may appear on your screen; answer these questions and then continue using the app. At the end of the debate, you will see a brief set of follow-up questions.  Please complete these questions -- we want to know what you think!  Students who have been offered credit for participating MUST complete these follow-up questions (including your name and the Course ID you have been given, but remember all other responses are anonymous).<br /><br />IMPORTANT: On each page, be sure to scroll down and answer all the questions.  After completing all the questions on each page (including this one), be sure to click Next.  Note that it might take each page several seconds to load; please be patient.#"
       ]
      }
     ], 
     "prompt_number": 4
    }, 
    {
     "cell_type": "code", 
     "collapsed": true, 
     "input": [
      "r2 = reactions.copy()"
     ], 
     "language": "python", 
     "outputs": [], 
     "prompt_number": 5
    }, 
    {
     "cell_type": "code", 
     "collapsed": true, 
     "input": [
      "r2.columns = [c.strip() for c in \"\"\"", 
      "UserID", 
      "Time", 
      "Reaction", 
      "how_watching_25", 
      "economy_priority_10", 
      "health_care_party_12", 
      "foreign_policy_party_13", 
      "abortion_party_14", 
      "economy_party_15", 
      "health_care_priority_7", 
      "foreign_policy_priority_8", 
      "abortion_priority_9", 
      "interested_23", 
      "news_sources_24", 
      "gender_16", 
      "age_17", 
      "family_income_18", 
      "race_19", 
      "religion_20", 
      "christian_21", 
      "state_22", 
      "tv_channel_26", 
      "economy_candidate_27", 
      "foreign_policy_candidate_28", 
      "candidate_preferred_29", 
      "candidate_choice_3", 
      "confidence_in_choice_4", 
      "likely_to_vote_5", 
      "political_views_2", 
      "ready", 
      "immigration_priority_6", 
      "immigration_party_11", 
      "party_1", 
      "next", 
      "\"\"\".split('\\n') if not c.strip()=='']"
     ], 
     "language": "python", 
     "outputs": [], 
     "prompt_number": 6
    }, 
    {
     "cell_type": "markdown", 
     "source": [
      "Reorder."
     ]
    }, 
    {
     "cell_type": "code", 
     "collapsed": true, 
     "input": [
      "r3 = r2.reindex(columns=[c.strip() for c in \"\"\"", 
      "UserID", 
      "Time", 
      "Reaction", 
      "party_1", 
      "political_views_2", 
      "candidate_choice_3", 
      "confidence_in_choice_4", 
      "likely_to_vote_5", 
      "immigration_priority_6", 
      "health_care_priority_7", 
      "foreign_policy_priority_8", 
      "abortion_priority_9", 
      "economy_priority_10", 
      "immigration_party_11", 
      "health_care_party_12", 
      "foreign_policy_party_13", 
      "abortion_party_14", 
      "economy_party_15", 
      "gender_16", 
      "age_17", 
      "family_income_18", 
      "race_19", 
      "religion_20", 
      "christian_21", 
      "state_22", 
      "interested_23", 
      "news_sources_24", 
      "how_watching_25", 
      "tv_channel_26", 
      "economy_candidate_27", 
      "foreign_policy_candidate_28", 
      "candidate_preferred_29", 
      "ready", 
      "next", 
      "\"\"\".split('\\n') if not c.strip()==''])"
     ], 
     "language": "python", 
     "outputs": [], 
     "prompt_number": 7
    }, 
    {
     "cell_type": "code", 
     "collapsed": false, 
     "input": [
      "r3[['UserID','Time','Reaction']].head()"
     ], 
     "language": "python", 
     "outputs": [
      {
       "html": [
        "<div style=\"max-height:1000px;max-width:1500px;overflow:auto;\">", 
        "<table border=\"1\" class=\"dataframe\">", 
        "  <thead>", 
        "    <tr style=\"text-align: right;\">", 
        "      <th></th>", 
        "      <th>UserID</th>", 
        "      <th>Time</th>", 
        "      <th>Reaction</th>", 
        "    </tr>", 
        "  </thead>", 
        "  <tbody>", 
        "    <tr>", 
        "      <th>0</th>", 
        "      <td> ag1zfnJlYWN0bGFicy00ciwLEgRVc2VyIiJhX2E0Mjc1MD...</td>", 
        "      <td> Moderator:Agree</td>", 
        "      <td> 2012-10-04 01:03:50.179</td>", 
        "    </tr>", 
        "    <tr>", 
        "      <th>1</th>", 
        "      <td> ag1zfnJlYWN0bGFicy00ciwLEgRVc2VyIiJhX2E0Mjc1MD...</td>", 
        "      <td>      Obama:Spin</td>", 
        "      <td> 2012-10-04 01:05:17.907</td>", 
        "    </tr>", 
        "    <tr>", 
        "      <th>2</th>", 
        "      <td> ag1zfnJlYWN0bGFicy00ciwLEgRVc2VyIiJhX2E0Mjc1MD...</td>", 
        "      <td>     Obama:Dodge</td>", 
        "      <td> 2012-10-04 01:05:50.337</td>", 
        "    </tr>", 
        "    <tr>", 
        "      <th>3</th>", 
        "      <td> ag1zfnJlYWN0bGFicy00ciwLEgRVc2VyIiJhX2E0Mjc1MD...</td>", 
        "      <td>     Obama:Agree</td>", 
        "      <td> 2012-10-04 01:06:18.192</td>", 
        "    </tr>", 
        "    <tr>", 
        "      <th>4</th>", 
        "      <td> ag1zfnJlYWN0bGFicy00ciwLEgRVc2VyIiJhX2E0Mjc1MD...</td>", 
        "      <td>     Romney:Spin</td>", 
        "      <td> 2012-10-04 01:07:08.096</td>", 
        "    </tr>", 
        "  </tbody>", 
        "</table>", 
        "</div>"
       ], 
       "output_type": "pyout", 
       "prompt_number": 8, 
       "text": [
        "                                              UserID             Time  \\", 
        "0  ag1zfnJlYWN0bGFicy00ciwLEgRVc2VyIiJhX2E0Mjc1MD...  Moderator:Agree   ", 
        "1  ag1zfnJlYWN0bGFicy00ciwLEgRVc2VyIiJhX2E0Mjc1MD...       Obama:Spin   ", 
        "2  ag1zfnJlYWN0bGFicy00ciwLEgRVc2VyIiJhX2E0Mjc1MD...      Obama:Dodge   ", 
        "3  ag1zfnJlYWN0bGFicy00ciwLEgRVc2VyIiJhX2E0Mjc1MD...      Obama:Agree   ", 
        "4  ag1zfnJlYWN0bGFicy00ciwLEgRVc2VyIiJhX2E0Mjc1MD...      Romney:Spin   ", 
        "", 
        "                  Reaction  ", 
        "0  2012-10-04 01:03:50.179  ", 
        "1  2012-10-04 01:05:17.907  ", 
        "2  2012-10-04 01:05:50.337  ", 
        "3  2012-10-04 01:06:18.192  ", 
        "4  2012-10-04 01:07:08.096  "
       ]
      }
     ], 
     "prompt_number": 8
    }, 
    {
     "cell_type": "markdown", 
     "source": [
      "##The questionnaire part"
     ]
    }, 
    {
     "cell_type": "markdown", 
     "source": [
      "Some of the questionaire questions are difficult to interpret.  Also, the answers are duplicated for each reaction."
     ]
    }, 
    {
     "cell_type": "code", 
     "collapsed": true, 
     "input": [
      "questionnaire = r3[[c.strip() for c in \"\"\"", 
      "UserID", 
      "party_1", 
      "political_views_2", 
      "candidate_choice_3", 
      "confidence_in_choice_4", 
      "likely_to_vote_5", 
      "immigration_priority_6", 
      "health_care_priority_7", 
      "foreign_policy_priority_8", 
      "abortion_priority_9", 
      "economy_priority_10", 
      "immigration_party_11", 
      "health_care_party_12", 
      "foreign_policy_party_13", 
      "abortion_party_14", 
      "economy_party_15", 
      "gender_16", 
      "age_17", 
      "family_income_18", 
      "race_19", 
      "religion_20", 
      "christian_21", 
      "state_22", 
      "interested_23", 
      "news_sources_24", 
      "how_watching_25", 
      "tv_channel_26", 
      "economy_candidate_27", 
      "foreign_policy_candidate_28", 
      "candidate_preferred_29", 
      "ready", 
      "next", 
      "\"\"\".split('\\n') if not c.strip()=='']]"
     ], 
     "language": "python", 
     "outputs": [], 
     "prompt_number": 9
    }, 
    {
     "cell_type": "code", 
     "collapsed": false, 
     "input": [
      "len(questionnaire)"
     ], 
     "language": "python", 
     "outputs": [
      {
       "output_type": "pyout", 
       "prompt_number": 10, 
       "text": [
        "193286"
       ]
      }
     ], 
     "prompt_number": 10
    }, 
    {
     "cell_type": "code", 
     "collapsed": false, 
     "input": [
      "%time q2 = questionnaire.drop_duplicates()", 
      "len(q2)"
     ], 
     "language": "python", 
     "outputs": [
      {
       "output_type": "stream", 
       "stream": "stdout", 
       "text": [
        "CPU times: user 1.15 s, sys: 0.07 s, total: 1.21 s", 
        "Wall time: 1.22 s"
       ]
      }, 
      {
       "output_type": "pyout", 
       "prompt_number": 11, 
       "text": [
        "3767"
       ]
      }
     ], 
     "prompt_number": 11
    }, 
    {
     "cell_type": "markdown", 
     "source": [
      "So, there were ~190k reactions by 3767 users."
     ]
    }, 
    {
     "cell_type": "markdown", 
     "source": [
      "### Questionnaire: demographics"
     ]
    }, 
    {
     "cell_type": "markdown", 
     "source": [
      "We look at the demographic parts of the questionnaire."
     ]
    }, 
    {
     "cell_type": "code", 
     "collapsed": true, 
     "input": [
      "demos = q2[[c.strip() for c in \"\"\"", 
      "gender_16", 
      "age_17", 
      "family_income_18", 
      "race_19", 
      "religion_20", 
      "christian_21", 
      "state_22", 
      "\"\"\".split('\\n') if not c.strip()=='']]"
     ], 
     "language": "python", 
     "outputs": [], 
     "prompt_number": 12
    }, 
    {
     "cell_type": "code", 
     "collapsed": false, 
     "input": [
      "demos.head()"
     ], 
     "language": "python", 
     "outputs": [
      {
       "html": [
        "<div style=\"max-height:1000px;max-width:1500px;overflow:auto;\">", 
        "<table border=\"1\" class=\"dataframe\">", 
        "  <thead>", 
        "    <tr style=\"text-align: right;\">", 
        "      <th></th>", 
        "      <th>gender_16</th>", 
        "      <th>age_17</th>", 
        "      <th>family_income_18</th>", 
        "      <th>race_19</th>", 
        "      <th>religion_20</th>", 
        "      <th>christian_21</th>", 
        "      <th>state_22</th>", 
        "    </tr>", 
        "  </thead>", 
        "  <tbody>", 
        "    <tr>", 
        "      <th>0  </th>", 
        "      <td>    female</td>", 
        "      <td>     18-24</td>", 
        "      <td> $100,000 or above</td>", 
        "      <td> white/caucasian</td>", 
        "      <td>  christian (see next question)</td>", 
        "      <td>  catholic</td>", 
        "      <td>        pa</td>", 
        "    </tr>", 
        "    <tr>", 
        "      <th>62 </th>", 
        "      <td>      male</td>", 
        "      <td>     18-24</td>", 
        "      <td>   $25,000-$49,999</td>", 
        "      <td>        hispanic</td>", 
        "      <td>  christian (see next question)</td>", 
        "      <td>  catholic</td>", 
        "      <td>        tx</td>", 
        "    </tr>", 
        "    <tr>", 
        "      <th>70 </th>", 
        "      <td>      male</td>", 
        "      <td>     18-24</td>", 
        "      <td> $100,000 or above</td>", 
        "      <td>       no answer</td>", 
        "      <td> none (e.g., atheist, agnostic)</td>", 
        "      <td> no answer</td>", 
        "      <td>        tx</td>", 
        "    </tr>", 
        "    <tr>", 
        "      <th>105</th>", 
        "      <td> no answer</td>", 
        "      <td> no answer</td>", 
        "      <td>         no answer</td>", 
        "      <td>       no answer</td>", 
        "      <td>                      no answer</td>", 
        "      <td> no answer</td>", 
        "      <td> no answer</td>", 
        "    </tr>", 
        "    <tr>", 
        "      <th>121</th>", 
        "      <td>    female</td>", 
        "      <td>     18-24</td>", 
        "      <td>         no answer</td>", 
        "      <td> white/caucasian</td>", 
        "      <td>  christian (see next question)</td>", 
        "      <td>  catholic</td>", 
        "      <td>        tx</td>", 
        "    </tr>", 
        "  </tbody>", 
        "</table>", 
        "</div>"
       ], 
       "output_type": "pyout", 
       "prompt_number": 13, 
       "text": [
        "     gender_16     age_17   family_income_18          race_19  \\", 
        "0       female      18-24  $100,000 or above  white/caucasian   ", 
        "62        male      18-24    $25,000-$49,999         hispanic   ", 
        "70        male      18-24  $100,000 or above        no answer   ", 
        "105  no answer  no answer          no answer        no answer   ", 
        "121     female      18-24          no answer  white/caucasian   ", 
        "", 
        "                        religion_20 christian_21   state_22  ", 
        "0     christian (see next question)     catholic         pa  ", 
        "62    christian (see next question)     catholic         tx  ", 
        "70   none (e.g., atheist, agnostic)    no answer         tx  ", 
        "105                       no answer    no answer  no answer  ", 
        "121   christian (see next question)     catholic         tx  "
       ]
      }
     ], 
     "prompt_number": 13
    }, 
    {
     "cell_type": "code", 
     "collapsed": false, 
     "input": [
      "demos.describe()"
     ], 
     "language": "python", 
     "outputs": [
      {
       "html": [
        "<div style=\"max-height:1000px;max-width:1500px;overflow:auto;\">", 
        "<table border=\"1\" class=\"dataframe\">", 
        "  <thead>", 
        "    <tr style=\"text-align: right;\">", 
        "      <th></th>", 
        "      <th>gender_16</th>", 
        "      <th>age_17</th>", 
        "      <th>family_income_18</th>", 
        "      <th>race_19</th>", 
        "      <th>religion_20</th>", 
        "      <th>christian_21</th>", 
        "      <th>state_22</th>", 
        "    </tr>", 
        "  </thead>", 
        "  <tbody>", 
        "    <tr>", 
        "      <th>count</th>", 
        "      <td> 3724</td>", 
        "      <td>  3724</td>", 
        "      <td>              3724</td>", 
        "      <td>            3724</td>", 
        "      <td>                          3724</td>", 
        "      <td>      3724</td>", 
        "      <td>      3724</td>", 
        "    </tr>", 
        "    <tr>", 
        "      <th>unique</th>", 
        "      <td>    3</td>", 
        "      <td>     6</td>", 
        "      <td>                 6</td>", 
        "      <td>               6</td>", 
        "      <td>                             6</td>", 
        "      <td>         6</td>", 
        "      <td>        86</td>", 
        "    </tr>", 
        "    <tr>", 
        "      <th>top</th>", 
        "      <td> male</td>", 
        "      <td> 18-24</td>", 
        "      <td> $100,000 or above</td>", 
        "      <td> white/caucasian</td>", 
        "      <td> christian (see next question)</td>", 
        "      <td> no answer</td>", 
        "      <td> no answer</td>", 
        "    </tr>", 
        "    <tr>", 
        "      <th>freq</th>", 
        "      <td> 1485</td>", 
        "      <td>  2511</td>", 
        "      <td>              1014</td>", 
        "      <td>            1890</td>", 
        "      <td>                          1764</td>", 
        "      <td>      2062</td>", 
        "      <td>       769</td>", 
        "    </tr>", 
        "  </tbody>", 
        "</table>", 
        "</div>"
       ], 
       "output_type": "pyout", 
       "prompt_number": 14, 
       "text": [
        "       gender_16 age_17   family_income_18          race_19  \\", 
        "count       3724   3724               3724             3724   ", 
        "unique         3      6                  6                6   ", 
        "top         male  18-24  $100,000 or above  white/caucasian   ", 
        "freq        1485   2511               1014             1890   ", 
        "", 
        "                          religion_20 christian_21   state_22  ", 
        "count                            3724         3724       3724  ", 
        "unique                              6            6         86  ", 
        "top     christian (see next question)    no answer  no answer  ", 
        "freq                             1764         2062        769  "
       ]
      }
     ], 
     "prompt_number": 14
    }, 
    {
     "cell_type": "code", 
     "collapsed": false, 
     "input": [
      "demos.gender_16.value_counts().plot(kind='barh')"
     ], 
     "language": "python", 
     "outputs": [
      {
       "output_type": "pyout", 
       "prompt_number": 15, 
       "text": [
        "<matplotlib.axes.AxesSubplot at 0x9a3d330>"
       ]
      }, 
      {
       "output_type": "display_data", 
       "png": "[encoded data removed]"
      }
     ], 
     "prompt_number": 15
    }, 
    {
     "cell_type": "code", 
     "collapsed": false, 
     "input": [
      "demos.age_17.value_counts().plot(kind='barh')"
     ], 
     "language": "python", 
     "outputs": [
      {
       "output_type": "pyout", 
       "prompt_number": 16, 
       "text": [
        "<matplotlib.axes.AxesSubplot at 0x88299f0>"
       ]
      }, 
      {
       "output_type": "display_data", 
       "png": "[encoded data removed]"
      }
     ], 
     "prompt_number": 16
    }, 
    {
     "cell_type": "code", 
     "collapsed": false, 
     "input": [
      "demos.family_income_18.value_counts().plot(kind='barh')"
     ], 
     "language": "python", 
     "outputs": [
      {
       "output_type": "pyout", 
       "prompt_number": 17, 
       "text": [
        "<matplotlib.axes.AxesSubplot at 0x7f74b70>"
       ]
      }, 
      {
       "output_type": "display_data", 
       "png": "[encoded data removed]"
      }
     ], 
     "prompt_number": 17
    }, 
    {
     "cell_type": "code", 
     "collapsed": false, 
     "input": [
      "demos.race_19.value_counts().plot(kind='barh')"
     ], 
     "language": "python", 
     "outputs": [
      {
       "output_type": "pyout", 
       "prompt_number": 18, 
       "text": [
        "<matplotlib.axes.AxesSubplot at 0x7d65e10>"
       ]
      }, 
      {
       "output_type": "display_data", 
       "png": "[encoded data removed]"
      }
     ], 
     "prompt_number": 18
    }, 
    {
     "cell_type": "code", 
     "collapsed": false, 
     "input": [
      "demos.religion_20.value_counts().plot(kind='barh')"
     ], 
     "language": "python", 
     "outputs": [
      {
       "output_type": "pyout", 
       "prompt_number": 19, 
       "text": [
        "<matplotlib.axes.AxesSubplot at 0x7d322d0>"
       ]
      }, 
      {
       "output_type": "display_data", 
       "png": "[encoded data removed]"
      }
     ], 
     "prompt_number": 19
    }, 
    {
     "cell_type": "code", 
     "collapsed": false, 
     "input": [
      "demos.christian_21.value_counts().plot(kind='barh')"
     ], 
     "language": "python", 
     "outputs": [
      {
       "output_type": "pyout", 
       "prompt_number": 20, 
       "text": [
        "<matplotlib.axes.AxesSubplot at 0x4e56090>"
       ]
      }, 
      {
       "output_type": "display_data", 
       "png": "[encoded data removed]"
      }
     ], 
     "prompt_number": 20
    }, 
    {
     "cell_type": "code", 
     "collapsed": false, 
     "input": [
      "demos.state_22.value_counts()[:25].plot(kind='barh')"
     ], 
     "language": "python", 
     "outputs": [
      {
       "output_type": "pyout", 
       "prompt_number": 21, 
       "text": [
        "<matplotlib.axes.AxesSubplot at 0x547ddf0>"
       ]
      }, 
      {
       "output_type": "display_data", 
       "png": "[encoded data removed]"
      }
     ], 
     "prompt_number": 21
    }, 
    {
     "cell_type": "markdown", 
     "source": [
      "### Questionnaire: political"
     ]
    }, 
    {
     "cell_type": "markdown", 
     "source": [
      "Now the part of the questionnaire with political questions."
     ]
    }, 
    {
     "cell_type": "code", 
     "collapsed": true, 
     "input": [
      "pols = questionnaire[[c.strip() for c in \"\"\"", 
      "party_1", 
      "political_views_2", 
      "candidate_choice_3", 
      "confidence_in_choice_4", 
      "likely_to_vote_5", 
      "immigration_priority_6", 
      "health_care_priority_7", 
      "foreign_policy_priority_8", 
      "abortion_priority_9", 
      "economy_priority_10", 
      "immigration_party_11", 
      "health_care_party_12", 
      "foreign_policy_party_13", 
      "abortion_party_14", 
      "economy_party_15", 
      "interested_23", 
      "news_sources_24", 
      "economy_candidate_27", 
      "foreign_policy_candidate_28", 
      "candidate_preferred_29", 
      "\"\"\".split('\\n') if not c.strip()=='']]"
     ], 
     "language": "python", 
     "outputs": [], 
     "prompt_number": 22
    }, 
    {
     "cell_type": "code", 
     "collapsed": false, 
     "input": [
      "pols.head()"
     ], 
     "language": "python", 
     "outputs": [
      {
       "html": [
        "<div style=\"max-height:1000px;max-width:1500px;overflow:auto;\">", 
        "<table border=\"1\" class=\"dataframe\">", 
        "  <thead>", 
        "    <tr style=\"text-align: right;\">", 
        "      <th></th>", 
        "      <th>party_1</th>", 
        "      <th>political_views_2</th>", 
        "      <th>candidate_choice_3</th>", 
        "      <th>confidence_in_choice_4</th>", 
        "      <th>likely_to_vote_5</th>", 
        "      <th>immigration_priority_6</th>", 
        "      <th>health_care_priority_7</th>", 
        "      <th>foreign_policy_priority_8</th>", 
        "      <th>abortion_priority_9</th>", 
        "      <th>economy_priority_10</th>", 
        "      <th>immigration_party_11</th>", 
        "      <th>health_care_party_12</th>", 
        "      <th>foreign_policy_party_13</th>", 
        "      <th>abortion_party_14</th>", 
        "      <th>economy_party_15</th>", 
        "      <th>interested_23</th>", 
        "      <th>news_sources_24</th>", 
        "      <th>economy_candidate_27</th>", 
        "      <th>foreign_policy_candidate_28</th>", 
        "      <th>candidate_preferred_29</th>", 
        "    </tr>", 
        "  </thead>", 
        "  <tbody>", 
        "    <tr>", 
        "      <th>0</th>", 
        "      <td> closest to republican party</td>", 
        "      <td> 73</td>", 
        "      <td> romney</td>", 
        "      <td> 100</td>", 
        "      <td> 100</td>", 
        "      <td> 72</td>", 
        "      <td> 99</td>", 
        "      <td> 100</td>", 
        "      <td> 100</td>", 
        "      <td> 100</td>", 
        "      <td> 68</td>", 
        "      <td> 100</td>", 
        "      <td> 100</td>", 
        "      <td> 56</td>", 
        "      <td> 100</td>", 
        "      <td> 78</td>", 
        "      <td> internet</td>", 
        "      <td>NaN</td>", 
        "      <td> 100</td>", 
        "      <td>NaN</td>", 
        "    </tr>", 
        "    <tr>", 
        "      <th>1</th>", 
        "      <td> closest to republican party</td>", 
        "      <td> 73</td>", 
        "      <td> romney</td>", 
        "      <td> 100</td>", 
        "      <td> 100</td>", 
        "      <td> 72</td>", 
        "      <td> 99</td>", 
        "      <td> 100</td>", 
        "      <td> 100</td>", 
        "      <td> 100</td>", 
        "      <td> 68</td>", 
        "      <td> 100</td>", 
        "      <td> 100</td>", 
        "      <td> 56</td>", 
        "      <td> 100</td>", 
        "      <td> 78</td>", 
        "      <td> internet</td>", 
        "      <td>NaN</td>", 
        "      <td> 100</td>", 
        "      <td>NaN</td>", 
        "    </tr>", 
        "    <tr>", 
        "      <th>2</th>", 
        "      <td> closest to republican party</td>", 
        "      <td> 73</td>", 
        "      <td> romney</td>", 
        "      <td> 100</td>", 
        "      <td> 100</td>", 
        "      <td> 72</td>", 
        "      <td> 99</td>", 
        "      <td> 100</td>", 
        "      <td> 100</td>", 
        "      <td> 100</td>", 
        "      <td> 68</td>", 
        "      <td> 100</td>", 
        "      <td> 100</td>", 
        "      <td> 56</td>", 
        "      <td> 100</td>", 
        "      <td> 78</td>", 
        "      <td> internet</td>", 
        "      <td>NaN</td>", 
        "      <td> 100</td>", 
        "      <td>NaN</td>", 
        "    </tr>", 
        "    <tr>", 
        "      <th>3</th>", 
        "      <td> closest to republican party</td>", 
        "      <td> 73</td>", 
        "      <td> romney</td>", 
        "      <td> 100</td>", 
        "      <td> 100</td>", 
        "      <td> 72</td>", 
        "      <td> 99</td>", 
        "      <td> 100</td>", 
        "      <td> 100</td>", 
        "      <td> 100</td>", 
        "      <td> 68</td>", 
        "      <td> 100</td>", 
        "      <td> 100</td>", 
        "      <td> 56</td>", 
        "      <td> 100</td>", 
        "      <td> 78</td>", 
        "      <td> internet</td>", 
        "      <td>NaN</td>", 
        "      <td> 100</td>", 
        "      <td>NaN</td>", 
        "    </tr>", 
        "    <tr>", 
        "      <th>4</th>", 
        "      <td> closest to republican party</td>", 
        "      <td> 73</td>", 
        "      <td> romney</td>", 
        "      <td> 100</td>", 
        "      <td> 100</td>", 
        "      <td> 72</td>", 
        "      <td> 99</td>", 
        "      <td> 100</td>", 
        "      <td> 100</td>", 
        "      <td> 100</td>", 
        "      <td> 68</td>", 
        "      <td> 100</td>", 
        "      <td> 100</td>", 
        "      <td> 56</td>", 
        "      <td> 100</td>", 
        "      <td> 78</td>", 
        "      <td> internet</td>", 
        "      <td>NaN</td>", 
        "      <td> 100</td>", 
        "      <td>NaN</td>", 
        "    </tr>", 
        "  </tbody>", 
        "</table>", 
        "</div>"
       ], 
       "output_type": "pyout", 
       "prompt_number": 23, 
       "text": [
        "                       party_1  political_views_2 candidate_choice_3  \\", 
        "0  closest to republican party                 73             romney   ", 
        "1  closest to republican party                 73             romney   ", 
        "2  closest to republican party                 73             romney   ", 
        "3  closest to republican party                 73             romney   ", 
        "4  closest to republican party                 73             romney   ", 
        "", 
        "   confidence_in_choice_4  likely_to_vote_5  immigration_priority_6  \\", 
        "0                     100               100                      72   ", 
        "1                     100               100                      72   ", 
        "2                     100               100                      72   ", 
        "3                     100               100                      72   ", 
        "4                     100               100                      72   ", 
        "", 
        "   health_care_priority_7  foreign_policy_priority_8  abortion_priority_9  \\", 
        "0                      99                        100                  100   ", 
        "1                      99                        100                  100   ", 
        "2                      99                        100                  100   ", 
        "3                      99                        100                  100   ", 
        "4                      99                        100                  100   ", 
        "", 
        "   economy_priority_10  immigration_party_11  health_care_party_12  \\", 
        "0                  100                    68                   100   ", 
        "1                  100                    68                   100   ", 
        "2                  100                    68                   100   ", 
        "3                  100                    68                   100   ", 
        "4                  100                    68                   100   ", 
        "", 
        "   foreign_policy_party_13  abortion_party_14  economy_party_15  interested_23  \\", 
        "0                      100                 56               100             78   ", 
        "1                      100                 56               100             78   ", 
        "2                      100                 56               100             78   ", 
        "3                      100                 56               100             78   ", 
        "4                      100                 56               100             78   ", 
        "", 
        "  news_sources_24  economy_candidate_27  foreign_policy_candidate_28  \\", 
        "0        internet                   NaN                          100   ", 
        "1        internet                   NaN                          100   ", 
        "2        internet                   NaN                          100   ", 
        "3        internet                   NaN                          100   ", 
        "4        internet                   NaN                          100   ", 
        "", 
        "   candidate_preferred_29  ", 
        "0                     NaN  ", 
        "1                     NaN  ", 
        "2                     NaN  ", 
        "3                     NaN  ", 
        "4                     NaN  "
       ]
      }
     ], 
     "prompt_number": 23
    }, 
    {
     "cell_type": "code", 
     "collapsed": false, 
     "input": [
      "pols.describe()"
     ], 
     "language": "python", 
     "outputs": [
      {
       "html": [
        "<div style=\"max-height:1000px;max-width:1500px;overflow:auto;\">", 
        "<table border=\"1\" class=\"dataframe\">", 
        "  <thead>", 
        "    <tr style=\"text-align: right;\">", 
        "      <th></th>", 
        "      <th>political_views_2</th>", 
        "      <th>confidence_in_choice_4</th>", 
        "      <th>likely_to_vote_5</th>", 
        "      <th>immigration_priority_6</th>", 
        "      <th>health_care_priority_7</th>", 
        "      <th>foreign_policy_priority_8</th>", 
        "      <th>abortion_priority_9</th>", 
        "      <th>economy_priority_10</th>", 
        "      <th>immigration_party_11</th>", 
        "      <th>health_care_party_12</th>", 
        "      <th>foreign_policy_party_13</th>", 
        "      <th>abortion_party_14</th>", 
        "      <th>economy_party_15</th>", 
        "      <th>interested_23</th>", 
        "      <th>economy_candidate_27</th>", 
        "      <th>foreign_policy_candidate_28</th>", 
        "      <th>candidate_preferred_29</th>", 
        "    </tr>", 
        "  </thead>", 
        "  <tbody>", 
        "    <tr>", 
        "      <th>count</th>", 
        "      <td> 191841.000000</td>", 
        "      <td> 191841.000000</td>", 
        "      <td> 191841.000000</td>", 
        "      <td> 191841.000000</td>", 
        "      <td> 191841.000000</td>", 
        "      <td> 191841.000000</td>", 
        "      <td> 191841.000000</td>", 
        "      <td> 191841.000000</td>", 
        "      <td> 191841.000000</td>", 
        "      <td> 191841.000000</td>", 
        "      <td> 191841.000000</td>", 
        "      <td> 191841.000000</td>", 
        "      <td> 191841.000000</td>", 
        "      <td> 191696.000000</td>", 
        "      <td> 28585.000000</td>", 
        "      <td> 47908.000000</td>", 
        "      <td> 115203.000000</td>", 
        "    </tr>", 
        "    <tr>", 
        "      <th>mean</th>", 
        "      <td>     40.546567</td>", 
        "      <td>     75.755011</td>", 
        "      <td>     87.692302</td>", 
        "      <td>     63.013485</td>", 
        "      <td>     77.507128</td>", 
        "      <td>     75.696139</td>", 
        "      <td>     60.767985</td>", 
        "      <td>     86.688393</td>", 
        "      <td>     38.314437</td>", 
        "      <td>     34.607816</td>", 
        "      <td>     43.009930</td>", 
        "      <td>     31.870815</td>", 
        "      <td>     44.824115</td>", 
        "      <td>     71.459394</td>", 
        "      <td>    36.568480</td>", 
        "      <td>    35.639643</td>", 
        "      <td>     33.145916</td>", 
        "    </tr>", 
        "    <tr>", 
        "      <th>std</th>", 
        "      <td>     25.575280</td>", 
        "      <td>     22.215299</td>", 
        "      <td>     26.482706</td>", 
        "      <td>     23.840604</td>", 
        "      <td>     20.024258</td>", 
        "      <td>     19.675739</td>", 
        "      <td>     31.344281</td>", 
        "      <td>     15.996298</td>", 
        "      <td>     30.370757</td>", 
        "      <td>     31.451872</td>", 
        "      <td>     29.526781</td>", 
        "      <td>     32.563023</td>", 
        "      <td>     31.674727</td>", 
        "      <td>     24.401624</td>", 
        "      <td>    34.282127</td>", 
        "      <td>    30.504289</td>", 
        "      <td>     35.377988</td>", 
        "    </tr>", 
        "    <tr>", 
        "      <th>min</th>", 
        "      <td>      0.000000</td>", 
        "      <td>      0.000000</td>", 
        "      <td>      0.000000</td>", 
        "      <td>      0.000000</td>", 
        "      <td>      0.000000</td>", 
        "      <td>      0.000000</td>", 
        "      <td>      0.000000</td>", 
        "      <td>      0.000000</td>", 
        "      <td>      0.000000</td>", 
        "      <td>      0.000000</td>", 
        "      <td>      0.000000</td>", 
        "      <td>      0.000000</td>", 
        "      <td>      0.000000</td>", 
        "      <td>      0.000000</td>", 
        "      <td>     0.000000</td>", 
        "      <td>     0.000000</td>", 
        "      <td>      0.000000</td>", 
        "    </tr>", 
        "    <tr>", 
        "      <th>25%</th>", 
        "      <td>     21.000000</td>", 
        "      <td>     59.000000</td>", 
        "      <td>     95.000000</td>", 
        "      <td>     50.000000</td>", 
        "      <td>     66.000000</td>", 
        "      <td>     64.000000</td>", 
        "      <td>     42.000000</td>", 
        "      <td>     78.000000</td>", 
        "      <td>     11.000000</td>", 
        "      <td>      3.000000</td>", 
        "      <td>     20.000000</td>", 
        "      <td>      1.000000</td>", 
        "      <td>     18.000000</td>", 
        "      <td>     50.000000</td>", 
        "      <td>     5.000000</td>", 
        "      <td>     5.000000</td>", 
        "      <td>      1.000000</td>", 
        "    </tr>", 
        "    <tr>", 
        "      <th>50%</th>", 
        "      <td>     39.000000</td>", 
        "      <td>     79.000000</td>", 
        "      <td>    100.000000</td>", 
        "      <td>     65.000000</td>", 
        "      <td>     79.000000</td>", 
        "      <td>     77.000000</td>", 
        "      <td>     64.000000</td>", 
        "      <td>     93.000000</td>", 
        "      <td>     36.000000</td>", 
        "      <td>     28.000000</td>", 
        "      <td>     50.000000</td>", 
        "      <td>     23.000000</td>", 
        "      <td>     50.000000</td>", 
        "      <td>     73.000000</td>", 
        "      <td>    29.000000</td>", 
        "      <td>    33.000000</td>", 
        "      <td>     19.000000</td>", 
        "    </tr>", 
        "    <tr>", 
        "      <th>75%</th>", 
        "      <td>     55.000000</td>", 
        "      <td>     99.000000</td>", 
        "      <td>    100.000000</td>", 
        "      <td>     79.000000</td>", 
        "      <td>     97.000000</td>", 
        "      <td>     94.000000</td>", 
        "      <td>     88.000000</td>", 
        "      <td>    100.000000</td>", 
        "      <td>     51.000000</td>", 
        "      <td>     50.000000</td>", 
        "      <td>     61.000000</td>", 
        "      <td>     50.000000</td>", 
        "      <td>     67.000000</td>", 
        "      <td>     98.000000</td>", 
        "      <td>    62.000000</td>", 
        "      <td>    50.000000</td>", 
        "      <td>     56.000000</td>", 
        "    </tr>", 
        "    <tr>", 
        "      <th>max</th>", 
        "      <td>    100.000000</td>", 
        "      <td>    100.000000</td>", 
        "      <td>    100.000000</td>", 
        "      <td>    100.000000</td>", 
        "      <td>    100.000000</td>", 
        "      <td>    100.000000</td>", 
        "      <td>    100.000000</td>", 
        "      <td>    100.000000</td>", 
        "      <td>    100.000000</td>", 
        "      <td>    100.000000</td>", 
        "      <td>    100.000000</td>", 
        "      <td>    100.000000</td>", 
        "      <td>    100.000000</td>", 
        "      <td>    100.000000</td>", 
        "      <td>   100.000000</td>", 
        "      <td>   100.000000</td>", 
        "      <td>    100.000000</td>", 
        "    </tr>", 
        "  </tbody>", 
        "</table>", 
        "</div>"
       ], 
       "output_type": "pyout", 
       "prompt_number": 24, 
       "text": [
        "       political_views_2  confidence_in_choice_4  likely_to_vote_5  \\", 
        "count      191841.000000           191841.000000     191841.000000   ", 
        "mean           40.546567               75.755011         87.692302   ", 
        "std            25.575280               22.215299         26.482706   ", 
        "min             0.000000                0.000000          0.000000   ", 
        "25%            21.000000               59.000000         95.000000   ", 
        "50%            39.000000               79.000000        100.000000   ", 
        "75%            55.000000               99.000000        100.000000   ", 
        "max           100.000000              100.000000        100.000000   ", 
        "", 
        "       immigration_priority_6  health_care_priority_7  foreign_policy_priority_8  \\", 
        "count           191841.000000           191841.000000              191841.000000   ", 
        "mean                63.013485               77.507128                  75.696139   ", 
        "std                 23.840604               20.024258                  19.675739   ", 
        "min                  0.000000                0.000000                   0.000000   ", 
        "25%                 50.000000               66.000000                  64.000000   ", 
        "50%                 65.000000               79.000000                  77.000000   ", 
        "75%                 79.000000               97.000000                  94.000000   ", 
        "max                100.000000              100.000000                 100.000000   ", 
        "", 
        "       abortion_priority_9  economy_priority_10  immigration_party_11  \\", 
        "count        191841.000000        191841.000000         191841.000000   ", 
        "mean             60.767985            86.688393             38.314437   ", 
        "std              31.344281            15.996298             30.370757   ", 
        "min               0.000000             0.000000              0.000000   ", 
        "25%              42.000000            78.000000             11.000000   ", 
        "50%              64.000000            93.000000             36.000000   ", 
        "75%              88.000000           100.000000             51.000000   ", 
        "max             100.000000           100.000000            100.000000   ", 
        "", 
        "       health_care_party_12  foreign_policy_party_13  abortion_party_14  \\", 
        "count         191841.000000            191841.000000      191841.000000   ", 
        "mean              34.607816                43.009930          31.870815   ", 
        "std               31.451872                29.526781          32.563023   ", 
        "min                0.000000                 0.000000           0.000000   ", 
        "25%                3.000000                20.000000           1.000000   ", 
        "50%               28.000000                50.000000          23.000000   ", 
        "75%               50.000000                61.000000          50.000000   ", 
        "max              100.000000               100.000000         100.000000   ", 
        "", 
        "       economy_party_15  interested_23  economy_candidate_27  \\", 
        "count     191841.000000  191696.000000          28585.000000   ", 
        "mean          44.824115      71.459394             36.568480   ", 
        "std           31.674727      24.401624             34.282127   ", 
        "min            0.000000       0.000000              0.000000   ", 
        "25%           18.000000      50.000000              5.000000   ", 
        "50%           50.000000      73.000000             29.000000   ", 
        "75%           67.000000      98.000000             62.000000   ", 
        "max          100.000000     100.000000            100.000000   ", 
        "", 
        "       foreign_policy_candidate_28  candidate_preferred_29  ", 
        "count                 47908.000000           115203.000000  ", 
        "mean                     35.639643               33.145916  ", 
        "std                      30.504289               35.377988  ", 
        "min                       0.000000                0.000000  ", 
        "25%                       5.000000                1.000000  ", 
        "50%                      33.000000               19.000000  ", 
        "75%                      50.000000               56.000000  ", 
        "max                     100.000000              100.000000  "
       ]
      }
     ], 
     "prompt_number": 24
    }, 
    {
     "cell_type": "code", 
     "collapsed": false, 
     "input": [
      "pols.party_1.value_counts().plot(kind='barh')"
     ], 
     "language": "python", 
     "outputs": [
      {
       "output_type": "pyout", 
       "prompt_number": 25, 
       "text": [
        "<matplotlib.axes.AxesSubplot at 0x5639bb0>"
       ]
      }, 
      {
       "output_type": "display_data", 
       "png": "[encoded data removed]"
      }
     ], 
     "prompt_number": 25
    }, 
    {
     "cell_type": "code", 
     "collapsed": false, 
     "input": [
      "pols.candidate_choice_3.value_counts().plot(kind='barh')"
     ], 
     "language": "python", 
     "outputs": [
      {
       "output_type": "pyout", 
       "prompt_number": 26, 
       "text": [
        "<matplotlib.axes.AxesSubplot at 0x581c070>"
       ]
      }, 
      {
       "output_type": "display_data", 
       "png": "[encoded data removed]"
      }
     ], 
     "prompt_number": 26
    }, 
    {
     "cell_type": "code", 
     "collapsed": false, 
     "input": [
      "pols.news_sources_24.value_counts()[:25].plot(kind='barh')"
     ], 
     "language": "python", 
     "outputs": [
      {
       "output_type": "pyout", 
       "prompt_number": 27, 
       "text": [
        "<matplotlib.axes.AxesSubplot at 0x5693870>"
       ]
      }, 
      {
       "output_type": "display_data", 
       "png": "[encoded data removed]"
      }
     ], 
     "prompt_number": 27
    }, 
    {
     "cell_type": "markdown", 
     "source": [
      "## Interpreting questionnaire answers that are given with a slider"
     ]
    }, 
    {
     "cell_type": "markdown", 
     "source": [
      "#### What does a high or low value in the party-specific slider questions mean?"
     ]
    }, 
    {
     "cell_type": "code", 
     "collapsed": false, 
     "input": [
      "%time scatter(pols.political_views_2, pols.candidate_preferred_29, alpha=1.0/400)"
     ], 
     "language": "python", 
     "outputs": [
      {
       "output_type": "stream", 
       "stream": "stdout", 
       "text": [
        "CPU times: user 1.24 s, sys: 0.01 s, total: 1.25 s", 
        "Wall time: 1.25 s"
       ]
      }, 
      {
       "output_type": "pyout", 
       "prompt_number": 52, 
       "text": [
        "<matplotlib.collections.PathCollection at 0x1df82f50>"
       ]
      }, 
      {
       "output_type": "display_data", 
       "png": "[encoded data removed]"
      }
     ], 
     "prompt_number": 52
    }, 
    {
     "cell_type": "markdown", 
     "source": [
      "Clearly the political views slider correlates with the candidate slider, which suggests that the conservative choice is always on one side and the liberal on the other, for example."
     ]
    }, 
    {
     "cell_type": "code", 
     "collapsed": false, 
     "input": [
      "p2 = pols[[c.strip() for c in \"\"\"", 
      "party_1", 
      "political_views_2", 
      "foreign_policy_party_13", 
      "abortion_party_14", 
      "economy_party_15", 
      "economy_candidate_27", 
      "foreign_policy_candidate_28", 
      "candidate_preferred_29", 
      "\"\"\".split('\\n') if not c.strip()=='']].groupby('party_1')"
     ], 
     "language": "python", 
     "outputs": [], 
     "prompt_number": 61
    }, 
    {
     "cell_type": "code", 
     "collapsed": false, 
     "input": [
      "p2.head(2)"
     ], 
     "language": "python", 
     "outputs": [
      {
       "html": [
        "<div style=\"max-height:1000px;max-width:1500px;overflow:auto;\">", 
        "<table border=\"1\" class=\"dataframe\">", 
        "  <thead>", 
        "    <tr style=\"text-align: right;\">", 
        "      <th></th>", 
        "      <th></th>", 
        "      <th>party_1</th>", 
        "      <th>political_views_2</th>", 
        "      <th>foreign_policy_party_13</th>", 
        "      <th>abortion_party_14</th>", 
        "      <th>economy_party_15</th>", 
        "      <th>economy_candidate_27</th>", 
        "      <th>foreign_policy_candidate_28</th>", 
        "      <th>candidate_preferred_29</th>", 
        "    </tr>", 
        "    <tr>", 
        "      <th>party_1</th>", 
        "      <th></th>", 
        "      <th></th>", 
        "      <th></th>", 
        "      <th></th>", 
        "      <th></th>", 
        "      <th></th>", 
        "      <th></th>", 
        "      <th></th>", 
        "      <th></th>", 
        "    </tr>", 
        "  </thead>", 
        "  <tbody>", 
        "    <tr>", 
        "      <th rowspan=\"2\" valign=\"top\">closest to democratic party</th>", 
        "      <th>62 </th>", 
        "      <td> closest to democratic party</td>", 
        "      <td> 20</td>", 
        "      <td>  23</td>", 
        "      <td> 50</td>", 
        "      <td>  27</td>", 
        "      <td>NaN</td>", 
        "      <td>  28</td>", 
        "      <td>NaN</td>", 
        "    </tr>", 
        "    <tr>", 
        "      <th>63 </th>", 
        "      <td> closest to democratic party</td>", 
        "      <td> 20</td>", 
        "      <td>  23</td>", 
        "      <td> 50</td>", 
        "      <td>  27</td>", 
        "      <td>NaN</td>", 
        "      <td>  28</td>", 
        "      <td>NaN</td>", 
        "    </tr>", 
        "    <tr>", 
        "      <th rowspan=\"2\" valign=\"top\">closest to republican party</th>", 
        "      <th>0  </th>", 
        "      <td> closest to republican party</td>", 
        "      <td> 73</td>", 
        "      <td> 100</td>", 
        "      <td> 56</td>", 
        "      <td> 100</td>", 
        "      <td>NaN</td>", 
        "      <td> 100</td>", 
        "      <td>NaN</td>", 
        "    </tr>", 
        "    <tr>", 
        "      <th>1  </th>", 
        "      <td> closest to republican party</td>", 
        "      <td> 73</td>", 
        "      <td> 100</td>", 
        "      <td> 56</td>", 
        "      <td> 100</td>", 
        "      <td>NaN</td>", 
        "      <td> 100</td>", 
        "      <td>NaN</td>", 
        "    </tr>", 
        "    <tr>", 
        "      <th rowspan=\"2\" valign=\"top\">independent</th>", 
        "      <th>581</th>", 
        "      <td>                 independent</td>", 
        "      <td> 23</td>", 
        "      <td>   5</td>", 
        "      <td>  5</td>", 
        "      <td>   4</td>", 
        "      <td>NaN</td>", 
        "      <td>  50</td>", 
        "      <td>NaN</td>", 
        "    </tr>", 
        "    <tr>", 
        "      <th>582</th>", 
        "      <td>                 independent</td>", 
        "      <td> 23</td>", 
        "      <td>   5</td>", 
        "      <td>  5</td>", 
        "      <td>   4</td>", 
        "      <td>NaN</td>", 
        "      <td>  50</td>", 
        "      <td>NaN</td>", 
        "    </tr>", 
        "    <tr>", 
        "      <th rowspan=\"2\" valign=\"top\">lean democrat</th>", 
        "      <th>105</th>", 
        "      <td>               lean democrat</td>", 
        "      <td> 34</td>", 
        "      <td>  31</td>", 
        "      <td> 10</td>", 
        "      <td>  21</td>", 
        "      <td>NaN</td>", 
        "      <td>   0</td>", 
        "      <td>NaN</td>", 
        "    </tr>", 
        "    <tr>", 
        "      <th>106</th>", 
        "      <td>               lean democrat</td>", 
        "      <td> 34</td>", 
        "      <td>  31</td>", 
        "      <td> 10</td>", 
        "      <td>  21</td>", 
        "      <td>NaN</td>", 
        "      <td>   0</td>", 
        "      <td>NaN</td>", 
        "    </tr>", 
        "    <tr>", 
        "      <th rowspan=\"2\" valign=\"top\">lean republican</th>", 
        "      <th>168</th>", 
        "      <td>             lean republican</td>", 
        "      <td> 63</td>", 
        "      <td>  78</td>", 
        "      <td> 46</td>", 
        "      <td>  90</td>", 
        "      <td>NaN</td>", 
        "      <td>  81</td>", 
        "      <td>NaN</td>", 
        "    </tr>", 
        "    <tr>", 
        "      <th>169</th>", 
        "      <td>             lean republican</td>", 
        "      <td> 63</td>", 
        "      <td>  78</td>", 
        "      <td> 46</td>", 
        "      <td>  90</td>", 
        "      <td>NaN</td>", 
        "      <td>  81</td>", 
        "      <td>NaN</td>", 
        "    </tr>", 
        "    <tr>", 
        "      <th rowspan=\"2\" valign=\"top\">no answer</th>", 
        "      <th>121</th>", 
        "      <td>                   no answer</td>", 
        "      <td> 58</td>", 
        "      <td>  79</td>", 
        "      <td>  0</td>", 
        "      <td>  27</td>", 
        "      <td>NaN</td>", 
        "      <td>  50</td>", 
        "      <td>NaN</td>", 
        "    </tr>", 
        "    <tr>", 
        "      <th>122</th>", 
        "      <td>                   no answer</td>", 
        "      <td> 58</td>", 
        "      <td>  79</td>", 
        "      <td>  0</td>", 
        "      <td>  27</td>", 
        "      <td>NaN</td>", 
        "      <td>  50</td>", 
        "      <td>NaN</td>", 
        "    </tr>", 
        "  </tbody>", 
        "</table>", 
        "</div>"
       ], 
       "output_type": "pyout", 
       "prompt_number": 62, 
       "text": [
        "                                                     party_1  political_views_2  \\", 
        "party_1                                                                           ", 
        "closest to democratic party 62   closest to democratic party                 20   ", 
        "                            63   closest to democratic party                 20   ", 
        "closest to republican party 0    closest to republican party                 73   ", 
        "                            1    closest to republican party                 73   ", 
        "independent                 581                  independent                 23   ", 
        "                            582                  independent                 23   ", 
        "lean democrat               105                lean democrat                 34   ", 
        "                            106                lean democrat                 34   ", 
        "lean republican             168              lean republican                 63   ", 
        "                            169              lean republican                 63   ", 
        "no answer                   121                    no answer                 58   ", 
        "                            122                    no answer                 58   ", 
        "", 
        "                                 foreign_policy_party_13  abortion_party_14  \\", 
        "party_1                                                                       ", 
        "closest to democratic party 62                        23                 50   ", 
        "                            63                        23                 50   ", 
        "closest to republican party 0                        100                 56   ", 
        "                            1                        100                 56   ", 
        "independent                 581                        5                  5   ", 
        "                            582                        5                  5   ", 
        "lean democrat               105                       31                 10   ", 
        "                            106                       31                 10   ", 
        "lean republican             168                       78                 46   ", 
        "                            169                       78                 46   ", 
        "no answer                   121                       79                  0   ", 
        "                            122                       79                  0   ", 
        "", 
        "                                 economy_party_15  economy_candidate_27  \\", 
        "party_1                                                                   ", 
        "closest to democratic party 62                 27                   NaN   ", 
        "                            63                 27                   NaN   ", 
        "closest to republican party 0                 100                   NaN   ", 
        "                            1                 100                   NaN   ", 
        "independent                 581                 4                   NaN   ", 
        "                            582                 4                   NaN   ", 
        "lean democrat               105                21                   NaN   ", 
        "                            106                21                   NaN   ", 
        "lean republican             168                90                   NaN   ", 
        "                            169                90                   NaN   ", 
        "no answer                   121                27                   NaN   ", 
        "                            122                27                   NaN   ", 
        "", 
        "                                 foreign_policy_candidate_28  \\", 
        "party_1                                                        ", 
        "closest to democratic party 62                            28   ", 
        "                            63                            28   ", 
        "closest to republican party 0                            100   ", 
        "                            1                            100   ", 
        "independent                 581                           50   ", 
        "                            582                           50   ", 
        "lean democrat               105                            0   ", 
        "                            106                            0   ", 
        "lean republican             168                           81   ", 
        "                            169                           81   ", 
        "no answer                   121                           50   ", 
        "                            122                           50   ", 
        "", 
        "                                 candidate_preferred_29  ", 
        "party_1                                                  ", 
        "closest to democratic party 62                      NaN  ", 
        "                            63                      NaN  ", 
        "closest to republican party 0                       NaN  ", 
        "                            1                       NaN  ", 
        "independent                 581                     NaN  ", 
        "                            582                     NaN  ", 
        "lean democrat               105                     NaN  ", 
        "                            106                     NaN  ", 
        "lean republican             168                     NaN  ", 
        "                            169                     NaN  ", 
        "no answer                   121                     NaN  ", 
        "                            122                     NaN  "
       ]
      }
     ], 
     "prompt_number": 62
    }, 
    {
     "cell_type": "code", 
     "collapsed": false, 
     "input": [
      "p2.aggregate(np.average)"
     ], 
     "language": "python", 
     "outputs": [
      {
       "html": [
        "<div style=\"max-height:1000px;max-width:1500px;overflow:auto;\">", 
        "<table border=\"1\" class=\"dataframe\">", 
        "  <thead>", 
        "    <tr style=\"text-align: right;\">", 
        "      <th></th>", 
        "      <th>political_views_2</th>", 
        "      <th>foreign_policy_party_13</th>", 
        "      <th>abortion_party_14</th>", 
        "      <th>economy_party_15</th>", 
        "      <th>economy_candidate_27</th>", 
        "      <th>foreign_policy_candidate_28</th>", 
        "      <th>candidate_preferred_29</th>", 
        "    </tr>", 
        "    <tr>", 
        "      <th>party_1</th>", 
        "      <th></th>", 
        "      <th></th>", 
        "      <th></th>", 
        "      <th></th>", 
        "      <th></th>", 
        "      <th></th>", 
        "      <th></th>", 
        "    </tr>", 
        "  </thead>", 
        "  <tbody>", 
        "    <tr>", 
        "      <th>closest to democratic party</th>", 
        "      <td> 20.332649</td>", 
        "      <td> 24.421116</td>", 
        "      <td> 14.377450</td>", 
        "      <td> 21.843162</td>", 
        "      <td>NaN</td>", 
        "      <td>NaN</td>", 
        "      <td>NaN</td>", 
        "    </tr>", 
        "    <tr>", 
        "      <th>closest to republican party</th>", 
        "      <td> 79.671523</td>", 
        "      <td> 80.305494</td>", 
        "      <td> 68.528184</td>", 
        "      <td> 87.919181</td>", 
        "      <td>NaN</td>", 
        "      <td>NaN</td>", 
        "      <td>NaN</td>", 
        "    </tr>", 
        "    <tr>", 
        "      <th>independent</th>", 
        "      <td> 46.119535</td>", 
        "      <td> 48.697849</td>", 
        "      <td> 40.619739</td>", 
        "      <td> 52.364417</td>", 
        "      <td>NaN</td>", 
        "      <td>NaN</td>", 
        "      <td>NaN</td>", 
        "    </tr>", 
        "    <tr>", 
        "      <th>lean democrat</th>", 
        "      <td> 35.226116</td>", 
        "      <td> 36.128599</td>", 
        "      <td> 24.834810</td>", 
        "      <td> 36.727172</td>", 
        "      <td>NaN</td>", 
        "      <td>NaN</td>", 
        "      <td>NaN</td>", 
        "    </tr>", 
        "    <tr>", 
        "      <th>lean republican</th>", 
        "      <td> 62.788921</td>", 
        "      <td> 64.867993</td>", 
        "      <td> 47.917152</td>", 
        "      <td> 74.031268</td>", 
        "      <td>NaN</td>", 
        "      <td>NaN</td>", 
        "      <td>NaN</td>", 
        "    </tr>", 
        "    <tr>", 
        "      <th>no answer</th>", 
        "      <td> 42.362053</td>", 
        "      <td> 43.073551</td>", 
        "      <td> 32.219754</td>", 
        "      <td> 42.798259</td>", 
        "      <td>NaN</td>", 
        "      <td>NaN</td>", 
        "      <td>NaN</td>", 
        "    </tr>", 
        "  </tbody>", 
        "</table>", 
        "</div>"
       ], 
       "output_type": "pyout", 
       "prompt_number": 63, 
       "text": [
        "                             political_views_2  foreign_policy_party_13  \\", 
        "party_1                                                                   ", 
        "closest to democratic party          20.332649                24.421116   ", 
        "closest to republican party          79.671523                80.305494   ", 
        "independent                          46.119535                48.697849   ", 
        "lean democrat                        35.226116                36.128599   ", 
        "lean republican                      62.788921                64.867993   ", 
        "no answer                            42.362053                43.073551   ", 
        "", 
        "                             abortion_party_14  economy_party_15  \\", 
        "party_1                                                            ", 
        "closest to democratic party          14.377450         21.843162   ", 
        "closest to republican party          68.528184         87.919181   ", 
        "independent                          40.619739         52.364417   ", 
        "lean democrat                        24.834810         36.727172   ", 
        "lean republican                      47.917152         74.031268   ", 
        "no answer                            32.219754         42.798259   ", 
        "", 
        "                             economy_candidate_27  foreign_policy_candidate_28  \\", 
        "party_1                                                                          ", 
        "closest to democratic party                   NaN                          NaN   ", 
        "closest to republican party                   NaN                          NaN   ", 
        "independent                                   NaN                          NaN   ", 
        "lean democrat                                 NaN                          NaN   ", 
        "lean republican                               NaN                          NaN   ", 
        "no answer                                     NaN                          NaN   ", 
        "", 
        "                             candidate_preferred_29  ", 
        "party_1                                              ", 
        "closest to democratic party                     NaN  ", 
        "closest to republican party                     NaN  ", 
        "independent                                     NaN  ", 
        "lean democrat                                   NaN  ", 
        "lean republican                                 NaN  ", 
        "no answer                                       NaN  "
       ]
      }
     ], 
     "prompt_number": 63
    }, 
    {
     "cell_type": "markdown", 
     "source": [
      "Clearly, the slider was set such that the high number (close to 100) was the republican choice and the low number (close to 0) was the democratic choice."
     ]
    }
   ]
  }
 ]
}