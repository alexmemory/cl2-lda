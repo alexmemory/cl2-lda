{
 "metadata": {
  "name": "notes_turns_and_reactions2"
 }, 
 "nbformat": 2, 
 "worksheets": [
  {
   "cells": [
    {
     "cell_type": "markdown", 
     "source": [
      "# Reactions per turn specific to politics of app user"
     ]
    }, 
    {
     "cell_type": "markdown", 
     "source": [
      "Continuing to other task than predicting total reactions in general."
     ]
    }, 
    {
     "cell_type": "code", 
     "collapsed": true, 
     "input": [
      "import pandas as pd", 
      "import reactions", 
      "import nltk", 
      "import random", 
      "import matplotlib.pyplot as plt", 
      "from pandas.tools.plotting import scatter_matrix", 
      "from nltk.corpus import stopwords"
     ], 
     "language": "python", 
     "outputs": [], 
     "prompt_number": 75
    }, 
    {
     "cell_type": "code", 
     "collapsed": false, 
     "input": [
      "%time r = reactions.link_reactions_to_transcript('data/reactions_oct3_4project.csv','corpora/oct3_coded_transcript_sync.csv')"
     ], 
     "language": "python", 
     "outputs": [
      {
       "output_type": "stream", 
       "stream": "stdout", 
       "text": [
        "CPU times: user 8.67 s, sys: 0.46 s, total: 9.13 s", 
        "Wall time: 9.14 s"
       ]
      }
     ], 
     "prompt_number": 35
    }, 
    {
     "cell_type": "code", 
     "collapsed": false, 
     "input": [
      "r2 = r.copy()", 
      "del r2[\"Sync'd start\"]", 
      "del r2[\"Sync'd end\"]", 
      "del r2[\"Time\"]", 
      "del r2[\"Speaker\"]", 
      "r2.head(2)"
     ], 
     "language": "python", 
     "outputs": [
      {
       "html": [
        "<div style=\"max-height:1000px;max-width:1500px;overflow:auto;\">", 
        "<table border=\"1\" class=\"dataframe\">", 
        "  <thead>", 
        "    <tr style=\"text-align: right;\">", 
        "      <th></th>", 
        "      <th>Frame</th>", 
        "      <th>QuestionTopic</th>", 
        "      <th>Reaction_what</th>", 
        "      <th>Reaction_who</th>", 
        "      <th>Tone</th>", 
        "      <th>Topic</th>", 
        "      <th>Transcript</th>", 
        "      <th>UserID</th>", 
        "      <th>start</th>", 
        "      <th>statement</th>", 
        "      <th>turn</th>", 
        "      <th>Speaker_name</th>", 
        "    </tr>", 
        "  </thead>", 
        "  <tbody>", 
        "    <tr>", 
        "      <th>0    </th>", 
        "      <td> 9</td>", 
        "      <td> 99</td>", 
        "      <td>    Agree</td>", 
        "      <td> Moderator</td>", 
        "      <td> 0</td>", 
        "      <td> 9</td>", 
        "      <td> Good evening from the Magness Arena at the Uni...</td>", 
        "      <td> ag1zfnJlYWN0bGFicy00ciwLEgRVc2VyIiJhX2YzNTQxZW...</td>", 
        "      <td>        01:02:01</td>", 
        "      <td> 0</td>", 
        "      <td> 1</td>", 
        "      <td> Moderator</td>", 
        "    </tr>", 
        "    <tr>", 
        "      <th>56861</th>", 
        "      <td> 9</td>", 
        "      <td> 99</td>", 
        "      <td> Disagree</td>", 
        "      <td> Moderator</td>", 
        "      <td> 0</td>", 
        "      <td> 9</td>", 
        "      <td> Good evening from the Magness Arena at the Uni...</td>", 
        "      <td> ag1zfnJlYWN0bGFicy01ciwLEgRVc2VyIiJhX2U3YmFkZT...</td>", 
        "      <td> 01:02:01.401000</td>", 
        "      <td> 0</td>", 
        "      <td> 1</td>", 
        "      <td> Moderator</td>", 
        "    </tr>", 
        "  </tbody>", 
        "</table>", 
        "</div>"
       ], 
       "output_type": "pyout", 
       "prompt_number": 36, 
       "text": [
        "       Frame  QuestionTopic Reaction_what Reaction_who  Tone  Topic  \\", 
        "0          9             99         Agree    Moderator     0      9   ", 
        "56861      9             99      Disagree    Moderator     0      9   ", 
        "", 
        "                                              Transcript  \\", 
        "0      Good evening from the Magness Arena at the Uni...   ", 
        "56861  Good evening from the Magness Arena at the Uni...   ", 
        "", 
        "                                                  UserID            start  \\", 
        "0      ag1zfnJlYWN0bGFicy00ciwLEgRVc2VyIiJhX2YzNTQxZW...         01:02:01   ", 
        "56861  ag1zfnJlYWN0bGFicy01ciwLEgRVc2VyIiJhX2U3YmFkZT...  01:02:01.401000   ", 
        "", 
        "       statement  turn Speaker_name  ", 
        "0              0     1    Moderator  ", 
        "56861          0     1    Moderator  "
       ]
      }
     ], 
     "prompt_number": 36
    }, 
    {
     "cell_type": "markdown", 
     "source": [
      "## Political questionnaire data"
     ]
    }, 
    {
     "cell_type": "code", 
     "collapsed": false, 
     "input": [
      "%time p = reactions.split_reactions_file('data/reactions_oct3_4project.csv')['quest_political']"
     ], 
     "language": "python", 
     "outputs": [
      {
       "output_type": "stream", 
       "stream": "stdout", 
       "text": [
        "CPU times: user 4.60 s, sys: 0.33 s, total: 4.93 s", 
        "Wall time: 4.93 s"
       ]
      }
     ], 
     "prompt_number": 37
    }, 
    {
     "cell_type": "code", 
     "collapsed": false, 
     "input": [
      "p2 = p[['UserID','party_1','political_views_2','candidate_choice_3','confidence_in_choice_4','likely_to_vote_5','candidate_preferred_29']]", 
      "p2.head(2)"
     ], 
     "language": "python", 
     "outputs": [
      {
       "html": [
        "<div style=\"max-height:1000px;max-width:1500px;overflow:auto;\">", 
        "<table border=\"1\" class=\"dataframe\">", 
        "  <thead>", 
        "    <tr style=\"text-align: right;\">", 
        "      <th></th>", 
        "      <th>UserID</th>", 
        "      <th>party_1</th>", 
        "      <th>political_views_2</th>", 
        "      <th>candidate_choice_3</th>", 
        "      <th>confidence_in_choice_4</th>", 
        "      <th>likely_to_vote_5</th>", 
        "      <th>candidate_preferred_29</th>", 
        "    </tr>", 
        "  </thead>", 
        "  <tbody>", 
        "    <tr>", 
        "      <th>0 </th>", 
        "      <td> ag1zfnJlYWN0bGFicy00ciwLEgRVc2VyIiJhX2E0Mjc1MD...</td>", 
        "      <td> closest to republican party</td>", 
        "      <td> 73</td>", 
        "      <td> romney</td>", 
        "      <td> 100</td>", 
        "      <td> 100</td>", 
        "      <td>NaN</td>", 
        "    </tr>", 
        "    <tr>", 
        "      <th>62</th>", 
        "      <td> ag1zfnJlYWN0bGFicy00ciwLEgRVc2VyIiJhX2E0Mzk5OD...</td>", 
        "      <td> closest to democratic party</td>", 
        "      <td> 20</td>", 
        "      <td>  obama</td>", 
        "      <td> 100</td>", 
        "      <td> 100</td>", 
        "      <td>NaN</td>", 
        "    </tr>", 
        "  </tbody>", 
        "</table>", 
        "</div>"
       ], 
       "output_type": "pyout", 
       "prompt_number": 38, 
       "text": [
        "                                               UserID  \\", 
        "0   ag1zfnJlYWN0bGFicy00ciwLEgRVc2VyIiJhX2E0Mjc1MD...   ", 
        "62  ag1zfnJlYWN0bGFicy00ciwLEgRVc2VyIiJhX2E0Mzk5OD...   ", 
        "", 
        "                        party_1  political_views_2 candidate_choice_3  \\", 
        "0   closest to republican party                 73             romney   ", 
        "62  closest to democratic party                 20              obama   ", 
        "", 
        "    confidence_in_choice_4  likely_to_vote_5  candidate_preferred_29  ", 
        "0                      100               100                     NaN  ", 
        "62                     100               100                     NaN  "
       ]
      }
     ], 
     "prompt_number": 38
    }, 
    {
     "cell_type": "code", 
     "collapsed": false, 
     "input": [
      "p2"
     ], 
     "language": "python", 
     "outputs": [
      {
       "output_type": "pyout", 
       "prompt_number": 39, 
       "text": [
        "<class 'pandas.core.frame.DataFrame'>", 
        "Int64Index: 3767 entries, 0 to 193268", 
        "Data columns:", 
        "UserID                    3767  non-null values", 
        "party_1                   3733  non-null values", 
        "political_views_2         3733  non-null values", 
        "candidate_choice_3        3733  non-null values", 
        "confidence_in_choice_4    3733  non-null values", 
        "likely_to_vote_5          3733  non-null values", 
        "candidate_preferred_29    2118  non-null values", 
        "dtypes: float64(4), object(3)"
       ]
      }
     ], 
     "prompt_number": 39
    }, 
    {
     "cell_type": "markdown", 
     "source": [
      "There are ~30 users for whom we don't have political preference info, and the the candidate_preferred_29 col was often left blank."
     ]
    }, 
    {
     "cell_type": "markdown", 
     "source": [
      "### Simplify party membership into R/D/oth"
     ]
    }, 
    {
     "cell_type": "markdown", 
     "source": [
      "Let's group the users into D/R/other."
     ]
    }, 
    {
     "cell_type": "code", 
     "collapsed": false, 
     "input": [
      "p2.groupby('party_1').agg('count').UserID"
     ], 
     "language": "python", 
     "outputs": [
      {
       "output_type": "pyout", 
       "prompt_number": 40, 
       "text": [
        "party_1", 
        "closest to democratic party    1267", 
        "closest to republican party     479", 
        "independent                     598", 
        "lean democrat                   781", 
        "lean republican                 527", 
        "no answer                        81", 
        "Name: UserID"
       ]
      }
     ], 
     "prompt_number": 40
    }, 
    {
     "cell_type": "code", 
     "collapsed": false, 
     "input": [
      "p2['party'] = p2.party_1.apply(lambda a: {'closest to democratic party':'democrat', ", 
      "                                          'lean democrat':'democrat',", 
      "                                          'lean republican':'republican',", 
      "                                          'closest to republican party':'republican'}.get(a,'other'))", 
      "p2.groupby('party').agg('count').UserID"
     ], 
     "language": "python", 
     "outputs": [
      {
       "output_type": "pyout", 
       "prompt_number": 41, 
       "text": [
        "party", 
        "democrat      2048", 
        "other          713", 
        "republican    1006", 
        "Name: UserID"
       ]
      }
     ], 
     "prompt_number": 41
    }, 
    {
     "cell_type": "markdown", 
     "source": [
      "### Merge political questionnaire with reactions"
     ]
    }, 
    {
     "cell_type": "code", 
     "collapsed": false, 
     "input": [
      "%time r3 = r2.merge(p2[['UserID','party']])", 
      "print 'pre-merge:',len(r2),'post-merge:',len(r3)", 
      "r3.head(2)"
     ], 
     "language": "python", 
     "outputs": [
      {
       "output_type": "stream", 
       "stream": "stdout", 
       "text": [
        "CPU times: user 0.53 s, sys: 0.04 s, total: 0.57 s", 
        "Wall time: 0.57 s", 
        "pre-merge: 189015 post-merge: 189015"
       ]
      }, 
      {
       "html": [
        "<div style=\"max-height:1000px;max-width:1500px;overflow:auto;\">", 
        "<table border=\"1\" class=\"dataframe\">", 
        "  <thead>", 
        "    <tr style=\"text-align: right;\">", 
        "      <th></th>", 
        "      <th>Frame</th>", 
        "      <th>QuestionTopic</th>", 
        "      <th>Reaction_what</th>", 
        "      <th>Reaction_who</th>", 
        "      <th>Tone</th>", 
        "      <th>Topic</th>", 
        "      <th>Transcript</th>", 
        "      <th>UserID</th>", 
        "      <th>start</th>", 
        "      <th>statement</th>", 
        "      <th>turn</th>", 
        "      <th>Speaker_name</th>", 
        "      <th>party</th>", 
        "    </tr>", 
        "  </thead>", 
        "  <tbody>", 
        "    <tr>", 
        "      <th>0</th>", 
        "      <td> 9</td>", 
        "      <td> 99</td>", 
        "      <td> Agree</td>", 
        "      <td> Moderator</td>", 
        "      <td> 0</td>", 
        "      <td> 9</td>", 
        "      <td> Good evening from the Magness Arena at the Uni...</td>", 
        "      <td> ag1zfnJlYWN0bGFicy00ciwLEgRVc2VyIiJhX2YzNTQxZW...</td>", 
        "      <td>        01:02:01</td>", 
        "      <td>  0</td>", 
        "      <td> 1</td>", 
        "      <td> Moderator</td>", 
        "      <td> democrat</td>", 
        "    </tr>", 
        "    <tr>", 
        "      <th>1</th>", 
        "      <td> 3</td>", 
        "      <td>  5</td>", 
        "      <td> Dodge</td>", 
        "      <td>     Obama</td>", 
        "      <td> 1</td>", 
        "      <td> 5</td>", 
        "      <td> Over the last 30 months, we've seen 5 million ...</td>", 
        "      <td> ag1zfnJlYWN0bGFicy00ciwLEgRVc2VyIiJhX2YzNTQxZW...</td>", 
        "      <td> 01:05:34.890000</td>", 
        "      <td> 30</td>", 
        "      <td> 2</td>", 
        "      <td>     Obama</td>", 
        "      <td> democrat</td>", 
        "    </tr>", 
        "  </tbody>", 
        "</table>", 
        "</div>"
       ], 
       "output_type": "pyout", 
       "prompt_number": 42, 
       "text": [
        "   Frame  QuestionTopic Reaction_what Reaction_who  Tone  Topic  \\", 
        "0      9             99         Agree    Moderator     0      9   ", 
        "1      3              5         Dodge        Obama     1      5   ", 
        "", 
        "                                          Transcript  \\", 
        "0  Good evening from the Magness Arena at the Uni...   ", 
        "1  Over the last 30 months, we've seen 5 million ...   ", 
        "", 
        "                                              UserID            start  statement  \\", 
        "0  ag1zfnJlYWN0bGFicy00ciwLEgRVc2VyIiJhX2YzNTQxZW...         01:02:01          0   ", 
        "1  ag1zfnJlYWN0bGFicy00ciwLEgRVc2VyIiJhX2YzNTQxZW...  01:05:34.890000         30   ", 
        "", 
        "   turn Speaker_name     party  ", 
        "0     1    Moderator  democrat  ", 
        "1     2        Obama  democrat  "
       ]
      }
     ], 
     "prompt_number": 42
    }, 
    {
     "cell_type": "markdown", 
     "source": [
      "## Group by turn"
     ]
    }, 
    {
     "cell_type": "markdown", 
     "source": [
      "Statements"
     ]
    }, 
    {
     "cell_type": "code", 
     "collapsed": false, 
     "input": [
      "st = r3.groupby(['statement']).first()[['Speaker_name','Transcript','turn']]", 
      "st.head(2)"
     ], 
     "language": "python", 
     "outputs": [
      {
       "html": [
        "<div style=\"max-height:1000px;max-width:1500px;overflow:auto;\">", 
        "<table border=\"1\" class=\"dataframe\">", 
        "  <thead>", 
        "    <tr style=\"text-align: right;\">", 
        "      <th></th>", 
        "      <th>Speaker_name</th>", 
        "      <th>Transcript</th>", 
        "      <th>turn</th>", 
        "    </tr>", 
        "    <tr>", 
        "      <th>statement</th>", 
        "      <th></th>", 
        "      <th></th>", 
        "      <th></th>", 
        "    </tr>", 
        "  </thead>", 
        "  <tbody>", 
        "    <tr>", 
        "      <th>0</th>", 
        "      <td> Moderator</td>", 
        "      <td> Good evening from the Magness Arena at the Uni...</td>", 
        "      <td> 1</td>", 
        "    </tr>", 
        "    <tr>", 
        "      <th>1</th>", 
        "      <td> Moderator</td>", 
        "      <td>              I'm Jim Lehrer of the PBS NewsHour, </td>", 
        "      <td> 1</td>", 
        "    </tr>", 
        "  </tbody>", 
        "</table>", 
        "</div>"
       ], 
       "output_type": "pyout", 
       "prompt_number": 43, 
       "text": [
        "          Speaker_name                                         Transcript  turn", 
        "statement                                                                      ", 
        "0            Moderator  Good evening from the Magness Arena at the Uni...     1", 
        "1            Moderator               I'm Jim Lehrer of the PBS NewsHour,      1"
       ]
      }
     ], 
     "prompt_number": 43
    }, 
    {
     "cell_type": "markdown", 
     "source": [
      "Turns"
     ]
    }, 
    {
     "cell_type": "code", 
     "collapsed": false, 
     "input": [
      "t = pd.DataFrame({'speaker':st.groupby('turn').first().Speaker_name, ", 
      "                  'reactions':r3.groupby('turn').count().Speaker_name, ", 
      "                  'statements':st.groupby('turn').count().turn, ", 
      "                  'text':st.groupby('turn').apply(lambda x: ''.join(x.Transcript)),", 
      "                  'agree':r3[r3.Reaction_what=='Agree'].groupby('turn').count().turn,", 
      "                  'agree_dem':r3[(r3.party=='democrat') & (r3.Reaction_what=='Agree')].groupby('turn').count().turn,", 
      "                  'agree_rep':r3[(r3.party=='republican') & (r3.Reaction_what=='Agree')].groupby('turn').count().turn,", 
      "                  'disagree':r3[r3.Reaction_what=='Disagree'].groupby('turn').count().turn,", 
      "                  'disagree_dem':r3[(r3.party=='democrat') & (r3.Reaction_what=='Disagree')].groupby('turn').count().turn,", 
      "                  'disagree_rep':r3[(r3.party=='republican') & (r3.Reaction_what=='Disagree')].groupby('turn').count().turn,", 
      "                  })", 
      "t['words'] = t.text.apply(lambda txt: [tok.lower() for tok in nltk.tokenize.word_tokenize(txt) if tok.isalpha()])", 
      "t['word_count'] = t.words.apply(lambda words: len(words))", 
      "t['r_per_st'] = 1.0 * t.reactions / t.statements", 
      "t['r_per_w'] = 1.0 * t.reactions / t.word_count", 
      "t['a_to_d_dems'] = t.agree_dem / t.disagree_dem", 
      "t['a_to_d_reps'] = t.agree_rep / t.disagree_rep"
     ], 
     "language": "python", 
     "outputs": [], 
     "prompt_number": 85
    }, 
    {
     "cell_type": "code", 
     "collapsed": true, 
     "input": [
      "ranked_unigrams = nltk.FreqDist([w for word_list in t.words for w in word_list]).keys()", 
      "MAX_FEATURES = 700 # avoid overfitting", 
      "t['unigrams'] = t.words.apply(lambda words: {w:True for w in words if w in ranked_unigrams[:MAX_FEATURES] and not w in stopwords.words('english')})", 
      "t['unigram_count'] = t.unigrams.apply(lambda unigrams: len(unigrams))"
     ], 
     "language": "python", 
     "outputs": [], 
     "prompt_number": 86
    }, 
    {
     "cell_type": "code", 
     "collapsed": false, 
     "input": [
      "t.head(2)"
     ], 
     "language": "python", 
     "outputs": [
      {
       "html": [
        "<div style=\"max-height:1000px;max-width:1500px;overflow:auto;\">", 
        "<table border=\"1\" class=\"dataframe\">", 
        "  <thead>", 
        "    <tr style=\"text-align: right;\">", 
        "      <th></th>", 
        "      <th>agree</th>", 
        "      <th>agree_dem</th>", 
        "      <th>agree_rep</th>", 
        "      <th>disagree</th>", 
        "      <th>disagree_dem</th>", 
        "      <th>disagree_rep</th>", 
        "      <th>reactions</th>", 
        "      <th>speaker</th>", 
        "      <th>statements</th>", 
        "      <th>text</th>", 
        "      <th>words</th>", 
        "      <th>word_count</th>", 
        "      <th>r_per_st</th>", 
        "      <th>r_per_w</th>", 
        "      <th>a_to_d_dems</th>", 
        "      <th>a_to_d_reps</th>", 
        "      <th>unigrams</th>", 
        "      <th>unigram_count</th>", 
        "    </tr>", 
        "    <tr>", 
        "      <th>turn</th>", 
        "      <th></th>", 
        "      <th></th>", 
        "      <th></th>", 
        "      <th></th>", 
        "      <th></th>", 
        "      <th></th>", 
        "      <th></th>", 
        "      <th></th>", 
        "      <th></th>", 
        "      <th></th>", 
        "      <th></th>", 
        "      <th></th>", 
        "      <th></th>", 
        "      <th></th>", 
        "      <th></th>", 
        "      <th></th>", 
        "      <th></th>", 
        "      <th></th>", 
        "    </tr>", 
        "  </thead>", 
        "  <tbody>", 
        "    <tr>", 
        "      <th>1</th>", 
        "      <td>  488</td>", 
        "      <td>  313</td>", 
        "      <td>  94</td>", 
        "      <td> 161</td>", 
        "      <td> 54</td>", 
        "      <td>  44</td>", 
        "      <td>  812</td>", 
        "      <td> Moderator</td>", 
        "      <td> 20</td>", 
        "      <td> Good evening from the Magness Arena at the Uni...</td>", 
        "      <td> [good, evening, from, the, magness, arena, at,...</td>", 
        "      <td> 257</td>", 
        "      <td>  40.6</td>", 
        "      <td>  3.159533</td>", 
        "      <td>  5.796296</td>", 
        "      <td> 2.136364</td>", 
        "      <td> {'governing': True, 'among': True, 'major': Tr...</td>", 
        "      <td> 56</td>", 
        "    </tr>", 
        "    <tr>", 
        "      <th>2</th>", 
        "      <td> 2678</td>", 
        "      <td> 1958</td>", 
        "      <td> 273</td>", 
        "      <td> 460</td>", 
        "      <td> 85</td>", 
        "      <td> 299</td>", 
        "      <td> 4213</td>", 
        "      <td>     Obama</td>", 
        "      <td> 22</td>", 
        "      <td> Well, thank you very much, Jim, for this oppor...</td>", 
        "      <td> [well, thank, you, very, much, jim, for, this,...</td>", 
        "      <td> 278</td>", 
        "      <td> 191.5</td>", 
        "      <td> 15.154676</td>", 
        "      <td> 23.035294</td>", 
        "      <td> 0.913043</td>", 
        "      <td> {'sector': True, 'two': True, 'reduce': True, ...</td>", 
        "      <td> 82</td>", 
        "    </tr>", 
        "  </tbody>", 
        "</table>", 
        "</div>"
       ], 
       "output_type": "pyout", 
       "prompt_number": 87, 
       "text": [
        "      agree  agree_dem  agree_rep  disagree  disagree_dem  disagree_rep  reactions  \\", 
        "turn                                                                                 ", 
        "1       488        313         94       161            54            44        812   ", 
        "2      2678       1958        273       460            85           299       4213   ", 
        "", 
        "        speaker  statements                                               text  \\", 
        "turn                                                                             ", 
        "1     Moderator          20  Good evening from the Magness Arena at the Uni...   ", 
        "2         Obama          22  Well, thank you very much, Jim, for this oppor...   ", 
        "", 
        "                                                  words  word_count  r_per_st  \\", 
        "turn                                                                            ", 
        "1     [good, evening, from, the, magness, arena, at,...         257      40.6   ", 
        "2     [well, thank, you, very, much, jim, for, this,...         278     191.5   ", 
        "", 
        "        r_per_w  a_to_d_dems  a_to_d_reps  \\", 
        "turn                                        ", 
        "1      3.159533     5.796296     2.136364   ", 
        "2     15.154676    23.035294     0.913043   ", 
        "", 
        "                                               unigrams  unigram_count  ", 
        "turn                                                                    ", 
        "1     {'governing': True, 'among': True, 'major': Tr...             56  ", 
        "2     {'sector': True, 'two': True, 'reduce': True, ...             82  "
       ]
      }
     ], 
     "prompt_number": 87
    }, 
    {
     "cell_type": "markdown", 
     "source": [
      "### Filter"
     ]
    }, 
    {
     "cell_type": "markdown", 
     "source": [
      "For now, we get rid of the really short turns, which would seem to likely have noise from adjacent turns and the small numbers of words make the math more sketchy."
     ]
    }, 
    {
     "cell_type": "code", 
     "collapsed": false, 
     "input": [
      "MIN_WORDS = 30", 
      "t2 = t[t.word_count >= MIN_WORDS]", 
      "print len(t),'->',len(t2)"
     ], 
     "language": "python", 
     "outputs": [
      {
       "output_type": "stream", 
       "stream": "stdout", 
       "text": [
        "190 -> 71"
       ]
      }
     ], 
     "prompt_number": 88
    }, 
    {
     "cell_type": "markdown", 
     "source": [
      "## What to predict?"
     ]
    }, 
    {
     "cell_type": "markdown", 
     "source": [
      "### Agree - to - disagree ratio"
     ]
    }, 
    {
     "cell_type": "markdown", 
     "source": [
      "At least one person of each party agrees and disagrees for each turn."
     ]
    }, 
    {
     "cell_type": "code", 
     "collapsed": false, 
     "input": [
      "t.describe()"
     ], 
     "language": "python", 
     "outputs": [
      {
       "html": [
        "<div style=\"max-height:1000px;max-width:1500px;overflow:auto;\">", 
        "<table border=\"1\" class=\"dataframe\">", 
        "  <thead>", 
        "    <tr style=\"text-align: right;\">", 
        "      <th></th>", 
        "      <th>agree</th>", 
        "      <th>agree_dem</th>", 
        "      <th>agree_rep</th>", 
        "      <th>disagree</th>", 
        "      <th>disagree_dem</th>", 
        "      <th>disagree_rep</th>", 
        "      <th>reactions</th>", 
        "      <th>statements</th>", 
        "      <th>word_count</th>", 
        "      <th>r_per_st</th>", 
        "      <th>r_per_w</th>", 
        "      <th>a_to_d_dems</th>", 
        "      <th>a_to_d_reps</th>", 
        "      <th>unigram_count</th>", 
        "    </tr>", 
        "  </thead>", 
        "  <tbody>", 
        "    <tr>", 
        "      <th>count</th>", 
        "      <td>  187.000000</td>", 
        "      <td>  185.000000</td>", 
        "      <td>  184.000000</td>", 
        "      <td>  188.000000</td>", 
        "      <td>  180.000000</td>", 
        "      <td> 170.000000</td>", 
        "      <td>  190.000000</td>", 
        "      <td> 190.000000</td>", 
        "      <td> 190.000000</td>", 
        "      <td> 190.000000</td>", 
        "      <td> 190.000000</td>", 
        "      <td> 179.000000</td>", 
        "      <td> 168.000000</td>", 
        "      <td> 190.000000</td>", 
        "    </tr>", 
        "    <tr>", 
        "      <th>mean</th>", 
        "      <td>  577.540107</td>", 
        "      <td>  322.135135</td>", 
        "      <td>  162.570652</td>", 
        "      <td>  226.239362</td>", 
        "      <td>  150.044444</td>", 
        "      <td>  55.376471</td>", 
        "      <td>  994.815789</td>", 
        "      <td>   6.168421</td>", 
        "      <td>  77.452632</td>", 
        "      <td> 111.787644</td>", 
        "      <td>        inf</td>", 
        "      <td>   4.667936</td>", 
        "      <td>   5.777967</td>", 
        "      <td>  20.578947</td>", 
        "    </tr>", 
        "    <tr>", 
        "      <th>std</th>", 
        "      <td>  983.398743</td>", 
        "      <td>  658.687742</td>", 
        "      <td>  305.054748</td>", 
        "      <td>  392.908027</td>", 
        "      <td>  309.975595</td>", 
        "      <td> 114.853287</td>", 
        "      <td> 1622.915791</td>", 
        "      <td>   8.907107</td>", 
        "      <td> 121.482315</td>", 
        "      <td>  81.179389</td>", 
        "      <td>        NaN</td>", 
        "      <td>   5.658037</td>", 
        "      <td>   6.285685</td>", 
        "      <td>  29.380942</td>", 
        "    </tr>", 
        "    <tr>", 
        "      <th>min</th>", 
        "      <td>    1.000000</td>", 
        "      <td>    1.000000</td>", 
        "      <td>    1.000000</td>", 
        "      <td>    1.000000</td>", 
        "      <td>    1.000000</td>", 
        "      <td>   1.000000</td>", 
        "      <td>    1.000000</td>", 
        "      <td>   1.000000</td>", 
        "      <td>   0.000000</td>", 
        "      <td>   1.000000</td>", 
        "      <td>   0.166667</td>", 
        "      <td>   0.130435</td>", 
        "      <td>   0.142857</td>", 
        "      <td>   0.000000</td>", 
        "    </tr>", 
        "    <tr>", 
        "      <th>25%</th>", 
        "      <td>   29.000000</td>", 
        "      <td>   16.000000</td>", 
        "      <td>    9.000000</td>", 
        "      <td>   12.000000</td>", 
        "      <td>    8.000000</td>", 
        "      <td>   3.000000</td>", 
        "      <td>   53.500000</td>", 
        "      <td>   1.000000</td>", 
        "      <td>   5.000000</td>", 
        "      <td>  43.125000</td>", 
        "      <td>   9.045092</td>", 
        "      <td>   0.750000</td>", 
        "      <td>   1.333333</td>", 
        "      <td>   2.000000</td>", 
        "    </tr>", 
        "    <tr>", 
        "      <th>50%</th>", 
        "      <td>   83.000000</td>", 
        "      <td>   42.000000</td>", 
        "      <td>   21.500000</td>", 
        "      <td>   38.500000</td>", 
        "      <td>   24.500000</td>", 
        "      <td>   9.500000</td>", 
        "      <td>  141.500000</td>", 
        "      <td>   2.000000</td>", 
        "      <td>  14.000000</td>", 
        "      <td>  92.000000</td>", 
        "      <td>  12.493183</td>", 
        "      <td>   2.000000</td>", 
        "      <td>   3.352273</td>", 
        "      <td>   5.000000</td>", 
        "    </tr>", 
        "    <tr>", 
        "      <th>75%</th>", 
        "      <td>  564.500000</td>", 
        "      <td>  247.000000</td>", 
        "      <td>  177.250000</td>", 
        "      <td>  284.250000</td>", 
        "      <td>  124.000000</td>", 
        "      <td>  33.750000</td>", 
        "      <td> 1075.500000</td>", 
        "      <td>   6.750000</td>", 
        "      <td>  84.000000</td>", 
        "      <td> 167.028846</td>", 
        "      <td>  15.500000</td>", 
        "      <td>   6.375000</td>", 
        "      <td>   8.538043</td>", 
        "      <td>  25.750000</td>", 
        "    </tr>", 
        "    <tr>", 
        "      <th>max</th>", 
        "      <td> 4953.000000</td>", 
        "      <td> 3588.000000</td>", 
        "      <td> 1928.000000</td>", 
        "      <td> 2572.000000</td>", 
        "      <td> 2125.000000</td>", 
        "      <td> 580.000000</td>", 
        "      <td> 7777.000000</td>", 
        "      <td>  54.000000</td>", 
        "      <td> 497.000000</td>", 
        "      <td> 393.500000</td>", 
        "      <td>        inf</td>", 
        "      <td>  26.333333</td>", 
        "      <td>  32.800000</td>", 
        "      <td> 112.000000</td>", 
        "    </tr>", 
        "  </tbody>", 
        "</table>", 
        "</div>"
       ], 
       "output_type": "pyout", 
       "prompt_number": 89, 
       "text": [
        "             agree    agree_dem    agree_rep     disagree  disagree_dem  \\", 
        "count   187.000000   185.000000   184.000000   188.000000    180.000000   ", 
        "mean    577.540107   322.135135   162.570652   226.239362    150.044444   ", 
        "std     983.398743   658.687742   305.054748   392.908027    309.975595   ", 
        "min       1.000000     1.000000     1.000000     1.000000      1.000000   ", 
        "25%      29.000000    16.000000     9.000000    12.000000      8.000000   ", 
        "50%      83.000000    42.000000    21.500000    38.500000     24.500000   ", 
        "75%     564.500000   247.000000   177.250000   284.250000    124.000000   ", 
        "max    4953.000000  3588.000000  1928.000000  2572.000000   2125.000000   ", 
        "", 
        "       disagree_rep    reactions  statements  word_count    r_per_st     r_per_w  \\", 
        "count    170.000000   190.000000  190.000000  190.000000  190.000000  190.000000   ", 
        "mean      55.376471   994.815789    6.168421   77.452632  111.787644         inf   ", 
        "std      114.853287  1622.915791    8.907107  121.482315   81.179389         NaN   ", 
        "min        1.000000     1.000000    1.000000    0.000000    1.000000    0.166667   ", 
        "25%        3.000000    53.500000    1.000000    5.000000   43.125000    9.045092   ", 
        "50%        9.500000   141.500000    2.000000   14.000000   92.000000   12.493183   ", 
        "75%       33.750000  1075.500000    6.750000   84.000000  167.028846   15.500000   ", 
        "max      580.000000  7777.000000   54.000000  497.000000  393.500000         inf   ", 
        "", 
        "       a_to_d_dems  a_to_d_reps  unigram_count  ", 
        "count   179.000000   168.000000     190.000000  ", 
        "mean      4.667936     5.777967      20.578947  ", 
        "std       5.658037     6.285685      29.380942  ", 
        "min       0.130435     0.142857       0.000000  ", 
        "25%       0.750000     1.333333       2.000000  ", 
        "50%       2.000000     3.352273       5.000000  ", 
        "75%       6.375000     8.538043      25.750000  ", 
        "max      26.333333    32.800000     112.000000  "
       ]
      }
     ], 
     "prompt_number": 89
    }, 
    {
     "cell_type": "markdown", 
     "source": [
      "Most of the time more people seem to be agreeing than disagreeing.  Republicans especially so.."
     ]
    }, 
    {
     "cell_type": "code", 
     "collapsed": false, 
     "input": [
      "figsize(10,8)", 
      "", 
      "subplot(221)", 
      "log10(t.a_to_d_dems).hist()", 
      "xlabel('agree/disagree')", 
      "title('democrats')", 
      "", 
      "subplot(222)", 
      "log10(t.a_to_d_reps).hist()", 
      "xlabel('agree/disagree')", 
      "title('republicans')", 
      "", 
      "subplot(223)", 
      "log10(t2.a_to_d_dems).hist()", 
      "xlabel('agree/disagree')", 
      "title('democrats (long turns)')", 
      "", 
      "subplot(224)", 
      "log10(t2.a_to_d_reps).hist()", 
      "xlabel('agree/disagree')", 
      "title('republicans (long turns)')", 
      "", 
      "show()"
     ], 
     "language": "python", 
     "outputs": [
      {
       "output_type": "display_data", 
       "png": "[encoded data removed]"
      }
     ], 
     "prompt_number": 90
    }, 
    {
     "cell_type": "markdown", 
     "source": [
      "So it seems that taking out reactions from short turns reveals more polarization.  Perhaps this is because on short turns there is just more noise from adjacent turns?  Or that people become more and more energized in their responses as the speakers continue to talk?"
     ]
    }, 
    {
     "cell_type": "code", 
     "collapsed": false, 
     "input": [
      "PERC = .03", 
      "print '{:_^80}'.format('dems agree'.upper())", 
      "for v in t2[t2.a_to_d_dems > t2.a_to_d_dems.quantile(1-PERC)].text.values: print v+'\\n'", 
      "print '{:_^80}'.format('dems disagree'.upper())", 
      "for v in t2[t2.a_to_d_dems < t2.a_to_d_dems.quantile(PERC)].text.values: print v+'\\n'"
     ], 
     "language": "python", 
     "outputs": [
      {
       "output_type": "stream", 
       "stream": "stdout", 
       "text": [
        "___________________________________DEMS AGREE___________________________________", 
        "Well, thank you very much, Jim, for this opportunity.I want to thank Governor Romney and the University of Denver for your hospitality.There are a lot of points that I want to make tonightbut the most important one is that 20 years ago I became the luckiest man on earth because Michelle Obama agreed to marry me.And so I just want to wish, Sweetie, you happy anniversary and let you know that a year from now, we will not be celebrating it in front of 40 million people.You know, four years ago we went through the worst financial crisis since the Great Depression.Millions of jobs were lost.The auto industry was on the brink of collapse.The financial system had frozen up.And because of the resilience and the determination of the American people, we've begun to fight our way back.Over the last 30 months, we've seen 5 million jobs in the private sector created.The auto industry has come roaring backand housing has begun to rise.But we all know that we've still got a lot of work to do.And so the question here tonight is not where we've been but where we're going.Governor Romney has a perspective that says if we cut taxes, skewed towards the wealthy, and roll back regulations that we'll be better off.I've got a different view.I think we've got to invest in education and training.I think it's important for us to develop new sources of energy here in Americathat we change our tax code to make sure that we're helping small businesses and companies that are investing here in the United States,that we take some of the money that we're saving as we wind down two wars to rebuild Americaand that we reduce our deficit in a balanced way that allows us to make these critical investments.", 
        "", 
        "Well, for 18 months he's been running on this tax plan.And now, five weeks before the election, he's saying that his big, bold idea is \ufffdnever mind.\ufffdAnd the fact is that if you are lowering the rates the way you describe, Governor, then it is not possible to come up with enough deductions and loopholes that only affect high-income individuals to avoid either raising the deficit or burdening the middle class.It's -- it's math.It's arithmetic.Now, Governor Romney and I do share a deep interest in encouraging small-business growth.So at the same time that my tax plan has already lowered taxes for 98 percent of families, I also lowered taxes for small businesses 18 times.And what I want to do is continue the tax rates -- the tax cuts that we put into place for small businesses and families.But I have said that for incomes over $250,000 a year that we should go back to the rates that we had when Bill Clinton was president, when we created 23 million new jobs, went from deficit to surplus and created a whole lot of millionaires to boot.And the reason this is important is because by doing that, we can not only reduce the deficit, we can not only encourage job growth through small businessesbut we're also able to make the investments that are necessary in education or in energy.And we do have a difference, though, when it comes to definitions of small business.Now, under -- under my plan, 97 percent of small businesses would not see their income taxes go upGovernor Romney says, well, those top 3 percent, they're the job creators.They'd be burdened.But under Governor Romney's definition, there are a whole bunch of millionaires and billionaires who are small businesses.Donald Trump is a small business.And I know Donald Trump doesn't like to think of himself as small anythingbut that's how you define small businesses if you're getting business income.And that kind of approach, I believe, will not grow our economy because the only way to pay for it without either burdening the middle class or blowing up our deficit is to make drastic cuts in things like education, making sure that we are continuing to invest in basic science and research, all the things that are helping America grow.And I think that would be a mistake.", 
        "", 
        "You've got to have --If we're serious, we've got to take a balanced, responsible approach.And by the way, this is not just when it comes to individual taxes.Let's talk about corporate taxes.Now, I've identified areas where we can, right away, make a change that I believe would actually help the economy.The -- the oil industry gets $4 billion a year in corporate welfare.Basically, they get deductions that those small businesses that Governor Romney refers to, they don't get.Now, does anybody think that ExxonMobil needs some extra money when they're making money every time you go to the pump?Why wouldn't we want to eliminate that?Why wouldn't we eliminate tax breaks for corporate jets?My attitude is if you got a corporate jet, you can probably afford to pay full freight, not get a special break for it.When it comes to corporate taxes, Governor Romney has said he wants to, in a revenue-neutral way, close loopholes, deductions -- he hasn't identified which ones they are -- but thereby bring down the corporate rate.Well, I want to do the same thing, but I've actually identified how we can do that.And part of the way to do it is to not give tax breaks to companies that are shipping jobs overseas.Right now you can actually take a deduction for moving a plant overseas.I think most Americans would say that doesn't make sense.And all that raises revenue.And so if we take a balanced approach, what that then allows us to do is also to help young people, the way we already have during my administration, make sure that they can afford to go to college.It means that the teacher that I met in Las Vegas, wonderful young lady, who describes to me -- she's got 42 kids in her class.The first two weeks, she's got them -- some of them sitting on the floor until finally they get reassigned.They're using textbooks that are 10 years old.That is not a recipe for growth; that's not how America was built.And so budgets reflect choices.Ultimately we're going to have to make some decisions.And if we're asking for no revenue, then that means that we've got to get rid of a whole bunch of stuffand the magnitude of the tax cuts that you're talking about, Governor, would end up resulting in severe hardship for people but more importantly, would not help us grow.As I indicated before, when you talk about shifting Medicaid to states, we're talking about potentially a -- a 30 -- a 30 percent cut in Medicaid over time.Now, you know, that may not seem like a big deal when it just is -- you know, numbers on a sheet of paperbut if we're talking about a family who's got an autistic kid and is depending on that Medicaid, that's a big problem.And governors are creative.There's no doubt about that.But they're not creatie enough to make up for the 30 percent revenue on something like Medicaid.What ends up happening is some people end up not getting help.", 
        "", 
        "_________________________________DEMS DISAGREE__________________________________", 
        "Let me -- let me repeat -- let me repeat what I said -- (inaudible).I'm not in favor of a $5 trillion tax cut.That's not my plan.My plan is not to put in place any tax cut that will add to the deficit.That's point one.So you may keep referring to it as a $5 trillion tax cut, but that's not my plan.", 
        "", 
        "I sure do.Well, in part, it comes, again, from my experience.I was in New Hampshire.A woman came to me, and she said, look, I can't afford insurance for myself or my son.I met a couple in Appleton, Wisconsin, and they said, we're thinking of dropping our insurance; we can't afford it.And the number of small businesses I've gone to that are saying they're dropping insurance because they can't afford it -- the cost of health care is just prohibitive.And -- and we've got to deal with cost.And unfortunately, when -- when you look at \ufffdObamacare,\ufffd the Congressional Budget Office has said it will cost $2,500 a year more than traditional insurance.So it's adding to cost.And as a matter of fact, when the president ran for office, he said that by this year he would have brought down the cost of insurance for each family by $2,500 a family.Instead, it's gone up by that amount.So it's expensive.Expensive things hurt families.So that's one reason I don't want it.Second reason, it cuts $716 billion from Medicare to pay for it.I want to put that money back in Medicare for our seniors.Number three, it puts in place an unelected board that's going to tell people, ultimately, what kind of treatments they can have.I don't like that idea.Fourth, there was a survey done of small businesses across the country.It said, what's been the effect of \ufffdObamacare\ufffd on your hiring plans?And three-quarters of them said, it makes us less likely to hire people.I just don't know how the president could have come into office, facing 23 million people out of work, rising unemployment, an economic crisis at the -- at the kitchen table and spent his energy and passion for two years fighting for \ufffdObamacare\ufffd instead of fighting for jobs for the American people.It has killed jobs and the best course for health care is to do what we did in my state, craft a plan at the state level that fits the needs of the state.And then let's focus on getting the costs down for people rather than raising it with the $2,500 additional premium.", 
        "", 
        "If I'm elected, we won't have \ufffdObamacare.\ufffd We'll put in place the kind of principles that I put in place in my own state and allow each state to craft their own programs to get people insured. And we'll focus on getting the cost of health care down.If the president were to be re-elected, you're going to see a $716 billion cut to Medicare. You'll have 4 million people who will lose Medicare advantage. You'll have hospitals and providers that'll no longer accept Medicare patients.I'll restore that $716 billion to Medicare.And finally, military. If the president's re-elected, you'll see dramatic cuts to our military. The secretary of defense has said these would be even devastating. I will not cut our commitment to our military. I will keep America strong and get America's middle class working again.Thank you, Jim.", 
        ""
       ]
      }
     ], 
     "prompt_number": 91
    }, 
    {
     "cell_type": "markdown", 
     "source": [
      "How large are the turns where dems either agree or disagree?"
     ]
    }, 
    {
     "cell_type": "code", 
     "collapsed": false, 
     "input": [
      "figsize(10,3)", 
      "subplot(121)", 
      "t2[t2.a_to_d_dems < t2.a_to_d_dems.quantile(.5)].word_count.hist()", 
      "subplot(122)", 
      "t2[t2.a_to_d_dems >= t2.a_to_d_dems.quantile(.5)].word_count.hist()"
     ], 
     "language": "python", 
     "outputs": [
      {
       "output_type": "pyout", 
       "prompt_number": 92, 
       "text": [
        "<matplotlib.axes.AxesSubplot at 0xd9be9b0>"
       ]
      }, 
      {
       "output_type": "display_data", 
       "png": "[encoded data removed]"
      }
     ], 
     "prompt_number": 92
    }, 
    {
     "cell_type": "markdown", 
     "source": [
      "The threshold for converting the ratio to a true/false label is ~1.7 dems agreeing to 1 dem disagreeing."
     ]
    }, 
    {
     "cell_type": "code", 
     "collapsed": false, 
     "input": [
      "t2['label'] = t2.a_to_d_dems >= t2.a_to_d_dems.quantile(.5)", 
      "print t2.a_to_d_dems.quantile(.5)", 
      "t2.label.describe()"
     ], 
     "language": "python", 
     "outputs": [
      {
       "output_type": "stream", 
       "stream": "stdout", 
       "text": [
        "1.7027027027"
       ]
      }, 
      {
       "output_type": "pyout", 
       "prompt_number": 93, 
       "text": [
        "count           71", 
        "mean     0.5070423", 
        "std      0.5035088", 
        "min          False", 
        "25%              0", 
        "50%              1", 
        "75%              1", 
        "max           True"
       ]
      }
     ], 
     "prompt_number": 93
    }, 
    {
     "cell_type": "markdown", 
     "source": [
      "## Train and test experiment on dems"
     ]
    }, 
    {
     "cell_type": "code", 
     "collapsed": true, 
     "input": [
      "ex = t2"
     ], 
     "language": "python", 
     "outputs": [], 
     "prompt_number": 94
    }, 
    {
     "cell_type": "code", 
     "collapsed": false, 
     "input": [
      "train_rows = random.sample(ex.index, len(ex)*9/10)", 
      "trn = ex.ix[train_rows]", 
      "tst = ex.drop(train_rows)", 
      "print len(trn)", 
      "print len(tst)"
     ], 
     "language": "python", 
     "outputs": [
      {
       "output_type": "stream", 
       "stream": "stdout", 
       "text": [
        "63", 
        "8"
       ]
      }
     ], 
     "prompt_number": 95
    }, 
    {
     "cell_type": "code", 
     "collapsed": false, 
     "input": [
      "%time cl = nltk.NaiveBayesClassifier.train(zip(trn.unigrams, trn.label))"
     ], 
     "language": "python", 
     "outputs": [
      {
       "output_type": "stream", 
       "stream": "stdout", 
       "text": [
        "CPU times: user 0.05 s, sys: 0.01 s, total: 0.05 s", 
        "Wall time: 0.05 s"
       ]
      }
     ], 
     "prompt_number": 96
    }, 
    {
     "cell_type": "code", 
     "collapsed": false, 
     "input": [
      "nltk.classify.accuracy(cl, zip(tst.unigrams, tst.label))"
     ], 
     "language": "python", 
     "outputs": [
      {
       "output_type": "pyout", 
       "prompt_number": 97, 
       "text": [
        "1.0"
       ]
      }
     ], 
     "prompt_number": 97
    }, 
    {
     "cell_type": "code", 
     "collapsed": false, 
     "input": [
      "cl.show_most_informative_features(10)"
     ], 
     "language": "python", 
     "outputs": [
      {
       "output_type": "stream", 
       "stream": "stdout", 
       "text": [
        "Most Informative Features", 
        "                  romney = True             True : False  =     10.0 : 1.0", 
        "                   comes = True             True : False  =      6.6 : 1.0", 
        "                   place = True            False : True   =      6.0 : 1.0", 
        "                governor = True             True : False  =      5.8 : 1.0", 
        "               companies = True             True : False  =      5.8 : 1.0", 
        "              difference = True             True : False  =      5.1 : 1.0", 
        "                    made = True             True : False  =      5.1 : 1.0", 
        "                  course = True            False : True   =      4.9 : 1.0", 
        "                 america = True            False : True   =      4.6 : 1.0", 
        "                  making = True             True : False  =      4.4 : 1.0"
       ]
      }
     ], 
     "prompt_number": 98
    }, 
    {
     "cell_type": "markdown", 
     "source": [
      "Whoa! Dems really hate america.. haha"
     ]
    }, 
    {
     "cell_type": "markdown", 
     "source": [
      "## Train and test experiment on reps"
     ]
    }, 
    {
     "cell_type": "markdown", 
     "source": [
      "The threshold we will use for republicans is higher than the threshold for democrats.  This appears to be because more republicans were agreeing with what was said during the debate over all compared to democrats."
     ]
    }, 
    {
     "cell_type": "code", 
     "collapsed": false, 
     "input": [
      "t2['label2'] = t2.a_to_d_reps >= t2.a_to_d_reps.quantile(.5)", 
      "print t2.a_to_d_reps.quantile(.5)", 
      "t2.label2.describe()"
     ], 
     "language": "python", 
     "outputs": [
      {
       "output_type": "stream", 
       "stream": "stdout", 
       "text": [
        "5.23076923077"
       ]
      }, 
      {
       "output_type": "pyout", 
       "prompt_number": 99, 
       "text": [
        "count           71", 
        "mean     0.5070423", 
        "std      0.5035088", 
        "min          False", 
        "25%              0", 
        "50%              1", 
        "75%              1", 
        "max           True"
       ]
      }
     ], 
     "prompt_number": 99
    }, 
    {
     "cell_type": "code", 
     "collapsed": true, 
     "input": [
      "ex = t2"
     ], 
     "language": "python", 
     "outputs": [], 
     "prompt_number": 100
    }, 
    {
     "cell_type": "code", 
     "collapsed": false, 
     "input": [
      "train_rows2 = random.sample(ex.index, len(ex)*9/10)", 
      "trn2 = ex.ix[train_rows2]", 
      "tst2 = ex.drop(train_rows2)", 
      "print len(trn2)", 
      "print len(tst2)"
     ], 
     "language": "python", 
     "outputs": [
      {
       "output_type": "stream", 
       "stream": "stdout", 
       "text": [
        "63", 
        "8"
       ]
      }
     ], 
     "prompt_number": 101
    }, 
    {
     "cell_type": "code", 
     "collapsed": false, 
     "input": [
      "%time cl2 = nltk.NaiveBayesClassifier.train(zip(trn2.unigrams, trn2.label2))"
     ], 
     "language": "python", 
     "outputs": [
      {
       "output_type": "stream", 
       "stream": "stdout", 
       "text": [
        "CPU times: user 0.04 s, sys: 0.01 s, total: 0.05 s", 
        "Wall time: 0.04 s"
       ]
      }
     ], 
     "prompt_number": 102
    }, 
    {
     "cell_type": "code", 
     "collapsed": false, 
     "input": [
      "nltk.classify.accuracy(cl2, zip(tst2.unigrams, tst2.label2))"
     ], 
     "language": "python", 
     "outputs": [
      {
       "output_type": "pyout", 
       "prompt_number": 103, 
       "text": [
        "0.75"
       ]
      }
     ], 
     "prompt_number": 103
    }, 
    {
     "cell_type": "code", 
     "collapsed": false, 
     "input": [
      "cl2.show_most_informative_features(10)"
     ], 
     "language": "python", 
     "outputs": [
      {
       "output_type": "stream", 
       "stream": "stdout", 
       "text": [
        "Most Informative Features", 
        "                 america = True             True : False  =      7.4 : 1.0", 
        "                governor = True            False : True   =      6.9 : 1.0", 
        "               companies = True            False : True   =      6.5 : 1.0", 
        "                  system = True            False : True   =      6.5 : 1.0", 
        "                  romney = True            False : True   =      6.3 : 1.0", 
        "                   comes = True            False : True   =      5.8 : 1.0", 
        "                    idea = True             True : False  =      5.5 : 1.0", 
        "                  course = True             True : False  =      4.8 : 1.0", 
        "                    view = True             True : False  =      4.8 : 1.0", 
        "                   means = True            False : True   =      4.5 : 1.0"
       ]
      }
     ], 
     "prompt_number": 104
    }, 
    {
     "cell_type": "markdown", 
     "source": [
      "Really, these train/test sets are **so** small, that (1) we can't draw much information from them without cross validation and (2) we are very prone to overfitting."
     ]
    }, 
    {
     "cell_type": "markdown", 
     "source": [
      "## Hyperparams grid search on dems"
     ]
    }, 
    {
     "cell_type": "markdown", 
     "source": [
      "Let's see if we can tune the max features hyper parameter (how many of the most frequent unigrams to use as features)."
     ]
    }, 
    {
     "cell_type": "code", 
     "collapsed": true, 
     "input": [
      "gr = t2.copy()"
     ], 
     "language": "python", 
     "outputs": [], 
     "prompt_number": 105
    }, 
    {
     "cell_type": "code", 
     "collapsed": false, 
     "input": [
      "len(ranked_unigrams)"
     ], 
     "language": "python", 
     "outputs": [
      {
       "output_type": "pyout", 
       "prompt_number": 106, 
       "text": [
        "1757"
       ]
      }
     ], 
     "prompt_number": 106
    }, 
    {
     "cell_type": "code", 
     "collapsed": false, 
     "input": [
      "p = []", 
      "trn_means = []", 
      "tst_means = []", 
      "for max_feats in range(1,len(ranked_unigrams),100):", 
      "    gr['unigrams'] = gr.words.apply(lambda words: {w:True for w in words if w in ranked_unigrams[:max_feats] and not w in stopwords.words('english')})", 
      "    trn_ac = []", 
      "    tst_ac = []", 
      "    print max_feats,", 
      "    for i in range(50):", 
      "        print i,", 
      "        train_rows = random.sample(gr.index, len(gr)*9/10)", 
      "        trn,tst = gr.ix[train_rows],gr.drop(train_rows)", 
      "        cl = nltk.NaiveBayesClassifier.train(zip(trn.unigrams, trn.label))", 
      "        trn_ac.append(nltk.classify.accuracy(cl, zip(trn.unigrams, trn.label)))", 
      "        tst_ac.append(nltk.classify.accuracy(cl, zip(tst.unigrams, tst.label)))", 
      "    p.append(max_feats)", 
      "    trn_means.append(mean(trn_ac))", 
      "    tst_means.append(mean(tst_ac))", 
      "    print ''"
     ], 
     "language": "python", 
     "outputs": [
      {
       "output_type": "stream", 
       "stream": "stdout", 
       "text": [
        "1 0 1 2 3 4 5 6 7 8 9 10 11 12 13 14 "
       ]
      }, 
      {
       "output_type": "stream", 
       "stream": "stdout", 
       "text": [
        "15 16 17 18 19 20 21 22 23 24 25 26 27 28 "
       ]
      }, 
      {
       "output_type": "stream", 
       "stream": "stdout", 
       "text": [
        "29 30 31 32 33 34 35 36 37 38 39 40 41 42 43 "
       ]
      }, 
      {
       "output_type": "stream", 
       "stream": "stdout", 
       "text": [
        "44 45 46 47 48 49 ", 
        "101"
       ]
      }, 
      {
       "output_type": "stream", 
       "stream": "stdout", 
       "text": [
        " 0 1 2 3 "
       ]
      }, 
      {
       "output_type": "stream", 
       "stream": "stdout", 
       "text": [
        "4 5 6 "
       ]
      }, 
      {
       "output_type": "stream", 
       "stream": "stdout", 
       "text": [
        "7 8 9 10 "
       ]
      }, 
      {
       "output_type": "stream", 
       "stream": "stdout", 
       "text": [
        "11 12 13 14 "
       ]
      }, 
      {
       "output_type": "stream", 
       "stream": "stdout", 
       "text": [
        "15 16 17 18 "
       ]
      }, 
      {
       "output_type": "stream", 
       "stream": "stdout", 
       "text": [
        "19 20 21 22 "
       ]
      }, 
      {
       "output_type": "stream", 
       "stream": "stdout", 
       "text": [
        "23 24 25 26 "
       ]
      }, 
      {
       "output_type": "stream", 
       "stream": "stdout", 
       "text": [
        "27 28 29 30 "
       ]
      }, 
      {
       "output_type": "stream", 
       "stream": "stdout", 
       "text": [
        "31 32 33 34 "
       ]
      }, 
      {
       "output_type": "stream", 
       "stream": "stdout", 
       "text": [
        "35 36 37 38 "
       ]
      }, 
      {
       "output_type": "stream", 
       "stream": "stdout", 
       "text": [
        "39 40 41 42 "
       ]
      }, 
      {
       "output_type": "stream", 
       "stream": "stdout", 
       "text": [
        "43 44 45 "
       ]
      }, 
      {
       "output_type": "stream", 
       "stream": "stdout", 
       "text": [
        "46 47 48 49 "
       ]
      }, 
      {
       "output_type": "stream", 
       "stream": "stdout", 
       "text": [
        "", 
        "201"
       ]
      }, 
      {
       "output_type": "stream", 
       "stream": "stdout", 
       "text": [
        " 0 1 "
       ]
      }, 
      {
       "output_type": "stream", 
       "stream": "stdout", 
       "text": [
        "2 3 "
       ]
      }, 
      {
       "output_type": "stream", 
       "stream": "stdout", 
       "text": [
        "4 5 "
       ]
      }, 
      {
       "output_type": "stream", 
       "stream": "stdout", 
       "text": [
        "6 7 8 "
       ]
      }, 
      {
       "output_type": "stream", 
       "stream": "stdout", 
       "text": [
        "9 10 11 "
       ]
      }, 
      {
       "output_type": "stream", 
       "stream": "stdout", 
       "text": [
        "12 13 "
       ]
      }, 
      {
       "output_type": "stream", 
       "stream": "stdout", 
       "text": [
        "14 15 "
       ]
      }, 
      {
       "output_type": "stream", 
       "stream": "stdout", 
       "text": [
        "16 17 "
       ]
      }, 
      {
       "output_type": "stream", 
       "stream": "stdout", 
       "text": [
        "18 19 "
       ]
      }, 
      {
       "output_type": "stream", 
       "stream": "stdout", 
       "text": [
        "20 21 "
       ]
      }, 
      {
       "output_type": "stream", 
       "stream": "stdout", 
       "text": [
        "22 23 24 "
       ]
      }, 
      {
       "output_type": "stream", 
       "stream": "stdout", 
       "text": [
        "25 26 "
       ]
      }, 
      {
       "output_type": "stream", 
       "stream": "stdout", 
       "text": [
        "27 28 "
       ]
      }, 
      {
       "output_type": "stream", 
       "stream": "stdout", 
       "text": [
        "29 30 "
       ]
      }, 
      {
       "output_type": "stream", 
       "stream": "stdout", 
       "text": [
        "31 32 "
       ]
      }, 
      {
       "output_type": "stream", 
       "stream": "stdout", 
       "text": [
        "33 34 "
       ]
      }, 
      {
       "output_type": "stream", 
       "stream": "stdout", 
       "text": [
        "35 36 "
       ]
      }, 
      {
       "output_type": "stream", 
       "stream": "stdout", 
       "text": [
        "37 38 39 "
       ]
      }, 
      {
       "output_type": "stream", 
       "stream": "stdout", 
       "text": [
        "40 41 "
       ]
      }, 
      {
       "output_type": "stream", 
       "stream": "stdout", 
       "text": [
        "42 43 "
       ]
      }, 
      {
       "output_type": "stream", 
       "stream": "stdout", 
       "text": [
        "44 45 "
       ]
      }, 
      {
       "output_type": "stream", 
       "stream": "stdout", 
       "text": [
        "46 47 "
       ]
      }, 
      {
       "output_type": "stream", 
       "stream": "stdout", 
       "text": [
        "48 49 "
       ]
      }, 
      {
       "output_type": "stream", 
       "stream": "stdout", 
       "text": [
        "", 
        "301"
       ]
      }, 
      {
       "output_type": "stream", 
       "stream": "stdout", 
       "text": [
        " 0 1 "
       ]
      }, 
      {
       "output_type": "stream", 
       "stream": "stdout", 
       "text": [
        "2 3 "
       ]
      }, 
      {
       "output_type": "stream", 
       "stream": "stdout", 
       "text": [
        "4 5 "
       ]
      }, 
      {
       "output_type": "stream", 
       "stream": "stdout", 
       "text": [
        "6 7 "
       ]
      }, 
      {
       "output_type": "stream", 
       "stream": "stdout", 
       "text": [
        "8 "
       ]
      }, 
      {
       "output_type": "stream", 
       "stream": "stdout", 
       "text": [
        "9 "
       ]
      }, 
      {
       "output_type": "stream", 
       "stream": "stdout", 
       "text": [
        "10 "
       ]
      }, 
      {
       "output_type": "stream", 
       "stream": "stdout", 
       "text": [
        "11 12 "
       ]
      }, 
      {
       "output_type": "stream", 
       "stream": "stdout", 
       "text": [
        "13 14 "
       ]
      }, 
      {
       "output_type": "stream", 
       "stream": "stdout", 
       "text": [
        "15 16 "
       ]
      }, 
      {
       "output_type": "stream", 
       "stream": "stdout", 
       "text": [
        "17 18 "
       ]
      }, 
      {
       "output_type": "stream", 
       "stream": "stdout", 
       "text": [
        "19 20 "
       ]
      }, 
      {
       "output_type": "stream", 
       "stream": "stdout", 
       "text": [
        "21 22 "
       ]
      }, 
      {
       "output_type": "stream", 
       "stream": "stdout", 
       "text": [
        "23 24 "
       ]
      }, 
      {
       "output_type": "stream", 
       "stream": "stdout", 
       "text": [
        "25 26 "
       ]
      }, 
      {
       "output_type": "stream", 
       "stream": "stdout", 
       "text": [
        "27 28 "
       ]
      }, 
      {
       "output_type": "stream", 
       "stream": "stdout", 
       "text": [
        "29 30 "
       ]
      }, 
      {
       "output_type": "stream", 
       "stream": "stdout", 
       "text": [
        "31 32 "
       ]
      }, 
      {
       "output_type": "stream", 
       "stream": "stdout", 
       "text": [
        "33 34 "
       ]
      }, 
      {
       "output_type": "stream", 
       "stream": "stdout", 
       "text": [
        "35 36 "
       ]
      }, 
      {
       "output_type": "stream", 
       "stream": "stdout", 
       "text": [
        "37 38 "
       ]
      }, 
      {
       "output_type": "stream", 
       "stream": "stdout", 
       "text": [
        "39 40 "
       ]
      }, 
      {
       "output_type": "stream", 
       "stream": "stdout", 
       "text": [
        "41 "
       ]
      }, 
      {
       "output_type": "stream", 
       "stream": "stdout", 
       "text": [
        "42 43 "
       ]
      }, 
      {
       "output_type": "stream", 
       "stream": "stdout", 
       "text": [
        "44 45 "
       ]
      }, 
      {
       "output_type": "stream", 
       "stream": "stdout", 
       "text": [
        "46 47 "
       ]
      }, 
      {
       "output_type": "stream", 
       "stream": "stdout", 
       "text": [
        "48 49 "
       ]
      }, 
      {
       "output_type": "stream", 
       "stream": "stdout", 
       "text": [
        "", 
        "401"
       ]
      }, 
      {
       "output_type": "stream", 
       "stream": "stdout", 
       "text": [
        " 0 "
       ]
      }, 
      {
       "output_type": "stream", 
       "stream": "stdout", 
       "text": [
        "1 2 "
       ]
      }, 
      {
       "output_type": "stream", 
       "stream": "stdout", 
       "text": [
        "3 4 "
       ]
      }, 
      {
       "output_type": "stream", 
       "stream": "stdout", 
       "text": [
        "5 6 "
       ]
      }, 
      {
       "output_type": "stream", 
       "stream": "stdout", 
       "text": [
        "7 8 "
       ]
      }, 
      {
       "output_type": "stream", 
       "stream": "stdout", 
       "text": [
        "9 "
       ]
      }, 
      {
       "output_type": "stream", 
       "stream": "stdout", 
       "text": [
        "10 11 "
       ]
      }, 
      {
       "output_type": "stream", 
       "stream": "stdout", 
       "text": [
        "12 13 "
       ]
      }, 
      {
       "output_type": "stream", 
       "stream": "stdout", 
       "text": [
        "14 15 "
       ]
      }, 
      {
       "output_type": "stream", 
       "stream": "stdout", 
       "text": [
        "16 17 "
       ]
      }, 
      {
       "output_type": "stream", 
       "stream": "stdout", 
       "text": [
        "18 19 "
       ]
      }, 
      {
       "output_type": "stream", 
       "stream": "stdout", 
       "text": [
        "20 21 "
       ]
      }, 
      {
       "output_type": "stream", 
       "stream": "stdout", 
       "text": [
        "22 23 "
       ]
      }, 
      {
       "output_type": "stream", 
       "stream": "stdout", 
       "text": [
        "24 25 "
       ]
      }, 
      {
       "output_type": "stream", 
       "stream": "stdout", 
       "text": [
        "26 27 "
       ]
      }, 
      {
       "output_type": "stream", 
       "stream": "stdout", 
       "text": [
        "28 29 "
       ]
      }, 
      {
       "output_type": "stream", 
       "stream": "stdout", 
       "text": [
        "30 31 "
       ]
      }, 
      {
       "output_type": "stream", 
       "stream": "stdout", 
       "text": [
        "32 33 "
       ]
      }, 
      {
       "output_type": "stream", 
       "stream": "stdout", 
       "text": [
        "34 35 "
       ]
      }, 
      {
       "output_type": "stream", 
       "stream": "stdout", 
       "text": [
        "36 37 "
       ]
      }, 
      {
       "output_type": "stream", 
       "stream": "stdout", 
       "text": [
        "38 39 "
       ]
      }, 
      {
       "output_type": "stream", 
       "stream": "stdout", 
       "text": [
        "40 41 "
       ]
      }, 
      {
       "output_type": "stream", 
       "stream": "stdout", 
       "text": [
        "42 43 "
       ]
      }, 
      {
       "output_type": "stream", 
       "stream": "stdout", 
       "text": [
        "44 45 "
       ]
      }, 
      {
       "output_type": "stream", 
       "stream": "stdout", 
       "text": [
        "46 47 "
       ]
      }, 
      {
       "output_type": "stream", 
       "stream": "stdout", 
       "text": [
        "48 49 "
       ]
      }, 
      {
       "output_type": "stream", 
       "stream": "stdout", 
       "text": [
        "", 
        "501"
       ]
      }, 
      {
       "output_type": "stream", 
       "stream": "stdout", 
       "text": [
        " 0 "
       ]
      }, 
      {
       "output_type": "stream", 
       "stream": "stdout", 
       "text": [
        "1 2 "
       ]
      }, 
      {
       "output_type": "stream", 
       "stream": "stdout", 
       "text": [
        "3 4 "
       ]
      }, 
      {
       "output_type": "stream", 
       "stream": "stdout", 
       "text": [
        "5 6 "
       ]
      }, 
      {
       "output_type": "stream", 
       "stream": "stdout", 
       "text": [
        "7 8 "
       ]
      }, 
      {
       "output_type": "stream", 
       "stream": "stdout", 
       "text": [
        "9 10 "
       ]
      }, 
      {
       "output_type": "stream", 
       "stream": "stdout", 
       "text": [
        "11 12 "
       ]
      }, 
      {
       "output_type": "stream", 
       "stream": "stdout", 
       "text": [
        "13 14 "
       ]
      }, 
      {
       "output_type": "stream", 
       "stream": "stdout", 
       "text": [
        "15 16 "
       ]
      }, 
      {
       "output_type": "stream", 
       "stream": "stdout", 
       "text": [
        "17 18 "
       ]
      }, 
      {
       "output_type": "stream", 
       "stream": "stdout", 
       "text": [
        "19 "
       ]
      }, 
      {
       "output_type": "stream", 
       "stream": "stdout", 
       "text": [
        "20 21 "
       ]
      }, 
      {
       "output_type": "stream", 
       "stream": "stdout", 
       "text": [
        "22 "
       ]
      }, 
      {
       "output_type": "stream", 
       "stream": "stdout", 
       "text": [
        "23 "
       ]
      }, 
      {
       "output_type": "stream", 
       "stream": "stdout", 
       "text": [
        "24 "
       ]
      }, 
      {
       "output_type": "stream", 
       "stream": "stdout", 
       "text": [
        "25 "
       ]
      }, 
      {
       "output_type": "stream", 
       "stream": "stdout", 
       "text": [
        "26 "
       ]
      }, 
      {
       "output_type": "stream", 
       "stream": "stdout", 
       "text": [
        "27 "
       ]
      }, 
      {
       "output_type": "stream", 
       "stream": "stdout", 
       "text": [
        "28 29 "
       ]
      }, 
      {
       "output_type": "stream", 
       "stream": "stdout", 
       "text": [
        "30 31 "
       ]
      }, 
      {
       "output_type": "stream", 
       "stream": "stdout", 
       "text": [
        "32 33 "
       ]
      }, 
      {
       "output_type": "stream", 
       "stream": "stdout", 
       "text": [
        "34 "
       ]
      }, 
      {
       "output_type": "stream", 
       "stream": "stdout", 
       "text": [
        "35 "
       ]
      }, 
      {
       "output_type": "stream", 
       "stream": "stdout", 
       "text": [
        "36 "
       ]
      }, 
      {
       "output_type": "stream", 
       "stream": "stdout", 
       "text": [
        "37 "
       ]
      }, 
      {
       "output_type": "stream", 
       "stream": "stdout", 
       "text": [
        "38 39 "
       ]
      }, 
      {
       "output_type": "stream", 
       "stream": "stdout", 
       "text": [
        "40 41 "
       ]
      }, 
      {
       "output_type": "stream", 
       "stream": "stdout", 
       "text": [
        "42 43 "
       ]
      }, 
      {
       "output_type": "stream", 
       "stream": "stdout", 
       "text": [
        "44 45 "
       ]
      }, 
      {
       "output_type": "stream", 
       "stream": "stdout", 
       "text": [
        "46 47 "
       ]
      }, 
      {
       "output_type": "stream", 
       "stream": "stdout", 
       "text": [
        "48 49 "
       ]
      }, 
      {
       "output_type": "stream", 
       "stream": "stdout", 
       "text": [
        "", 
        "601"
       ]
      }, 
      {
       "output_type": "stream", 
       "stream": "stdout", 
       "text": [
        " 0 "
       ]
      }, 
      {
       "output_type": "stream", 
       "stream": "stdout", 
       "text": [
        "1 "
       ]
      }, 
      {
       "output_type": "stream", 
       "stream": "stdout", 
       "text": [
        "2 "
       ]
      }, 
      {
       "output_type": "stream", 
       "stream": "stdout", 
       "text": [
        "3 "
       ]
      }, 
      {
       "output_type": "stream", 
       "stream": "stdout", 
       "text": [
        "4 "
       ]
      }, 
      {
       "output_type": "stream", 
       "stream": "stdout", 
       "text": [
        "5 "
       ]
      }, 
      {
       "output_type": "stream", 
       "stream": "stdout", 
       "text": [
        "6 "
       ]
      }, 
      {
       "output_type": "stream", 
       "stream": "stdout", 
       "text": [
        "7 8 "
       ]
      }, 
      {
       "output_type": "stream", 
       "stream": "stdout", 
       "text": [
        "9 "
       ]
      }, 
      {
       "output_type": "stream", 
       "stream": "stdout", 
       "text": [
        "10 "
       ]
      }, 
      {
       "output_type": "stream", 
       "stream": "stdout", 
       "text": [
        "11 12 "
       ]
      }, 
      {
       "output_type": "stream", 
       "stream": "stdout", 
       "text": [
        "13 14 "
       ]
      }, 
      {
       "output_type": "stream", 
       "stream": "stdout", 
       "text": [
        "15 "
       ]
      }, 
      {
       "output_type": "stream", 
       "stream": "stdout", 
       "text": [
        "16 "
       ]
      }, 
      {
       "output_type": "stream", 
       "stream": "stdout", 
       "text": [
        "17 18 "
       ]
      }, 
      {
       "output_type": "stream", 
       "stream": "stdout", 
       "text": [
        "19 20 "
       ]
      }, 
      {
       "output_type": "stream", 
       "stream": "stdout", 
       "text": [
        "21 "
       ]
      }, 
      {
       "output_type": "stream", 
       "stream": "stdout", 
       "text": [
        "22 23 "
       ]
      }, 
      {
       "output_type": "stream", 
       "stream": "stdout", 
       "text": [
        "24 25 "
       ]
      }, 
      {
       "output_type": "stream", 
       "stream": "stdout", 
       "text": [
        "26 27 "
       ]
      }, 
      {
       "output_type": "stream", 
       "stream": "stdout", 
       "text": [
        "28 "
       ]
      }, 
      {
       "output_type": "stream", 
       "stream": "stdout", 
       "text": [
        "29 30 "
       ]
      }, 
      {
       "output_type": "stream", 
       "stream": "stdout", 
       "text": [
        "31 "
       ]
      }, 
      {
       "output_type": "stream", 
       "stream": "stdout", 
       "text": [
        "32 "
       ]
      }, 
      {
       "output_type": "stream", 
       "stream": "stdout", 
       "text": [
        "33 "
       ]
      }, 
      {
       "output_type": "stream", 
       "stream": "stdout", 
       "text": [
        "34 "
       ]
      }, 
      {
       "output_type": "stream", 
       "stream": "stdout", 
       "text": [
        "35 "
       ]
      }, 
      {
       "output_type": "stream", 
       "stream": "stdout", 
       "text": [
        "36 "
       ]
      }, 
      {
       "output_type": "stream", 
       "stream": "stdout", 
       "text": [
        "37 "
       ]
      }, 
      {
       "output_type": "stream", 
       "stream": "stdout", 
       "text": [
        "38 "
       ]
      }, 
      {
       "output_type": "stream", 
       "stream": "stdout", 
       "text": [
        "39 "
       ]
      }, 
      {
       "output_type": "stream", 
       "stream": "stdout", 
       "text": [
        "40 "
       ]
      }, 
      {
       "output_type": "stream", 
       "stream": "stdout", 
       "text": [
        "41 "
       ]
      }, 
      {
       "output_type": "stream", 
       "stream": "stdout", 
       "text": [
        "42 "
       ]
      }, 
      {
       "output_type": "stream", 
       "stream": "stdout", 
       "text": [
        "43 "
       ]
      }, 
      {
       "output_type": "stream", 
       "stream": "stdout", 
       "text": [
        "44 45 "
       ]
      }, 
      {
       "output_type": "stream", 
       "stream": "stdout", 
       "text": [
        "46 47 "
       ]
      }, 
      {
       "output_type": "stream", 
       "stream": "stdout", 
       "text": [
        "48 49 "
       ]
      }, 
      {
       "output_type": "stream", 
       "stream": "stdout", 
       "text": [
        "", 
        "701"
       ]
      }, 
      {
       "output_type": "stream", 
       "stream": "stdout", 
       "text": [
        " 0 "
       ]
      }, 
      {
       "output_type": "stream", 
       "stream": "stdout", 
       "text": [
        "1 "
       ]
      }, 
      {
       "output_type": "stream", 
       "stream": "stdout", 
       "text": [
        "2 "
       ]
      }, 
      {
       "output_type": "stream", 
       "stream": "stdout", 
       "text": [
        "3 "
       ]
      }, 
      {
       "output_type": "stream", 
       "stream": "stdout", 
       "text": [
        "4 "
       ]
      }, 
      {
       "output_type": "stream", 
       "stream": "stdout", 
       "text": [
        "5 "
       ]
      }, 
      {
       "output_type": "stream", 
       "stream": "stdout", 
       "text": [
        "6 "
       ]
      }, 
      {
       "output_type": "stream", 
       "stream": "stdout", 
       "text": [
        "7 "
       ]
      }, 
      {
       "output_type": "stream", 
       "stream": "stdout", 
       "text": [
        "8 "
       ]
      }, 
      {
       "output_type": "stream", 
       "stream": "stdout", 
       "text": [
        "9 "
       ]
      }, 
      {
       "output_type": "stream", 
       "stream": "stdout", 
       "text": [
        "10 "
       ]
      }, 
      {
       "output_type": "stream", 
       "stream": "stdout", 
       "text": [
        "11 "
       ]
      }, 
      {
       "output_type": "stream", 
       "stream": "stdout", 
       "text": [
        "12 "
       ]
      }, 
      {
       "output_type": "stream", 
       "stream": "stdout", 
       "text": [
        "13 "
       ]
      }, 
      {
       "output_type": "stream", 
       "stream": "stdout", 
       "text": [
        "14 "
       ]
      }, 
      {
       "output_type": "stream", 
       "stream": "stdout", 
       "text": [
        "15 "
       ]
      }, 
      {
       "output_type": "stream", 
       "stream": "stdout", 
       "text": [
        "16 "
       ]
      }, 
      {
       "output_type": "stream", 
       "stream": "stdout", 
       "text": [
        "17 "
       ]
      }, 
      {
       "output_type": "stream", 
       "stream": "stdout", 
       "text": [
        "18 "
       ]
      }, 
      {
       "output_type": "stream", 
       "stream": "stdout", 
       "text": [
        "19 "
       ]
      }, 
      {
       "output_type": "stream", 
       "stream": "stdout", 
       "text": [
        "20 "
       ]
      }, 
      {
       "output_type": "stream", 
       "stream": "stdout", 
       "text": [
        "21 "
       ]
      }, 
      {
       "output_type": "stream", 
       "stream": "stdout", 
       "text": [
        "22 "
       ]
      }, 
      {
       "output_type": "stream", 
       "stream": "stdout", 
       "text": [
        "23 "
       ]
      }, 
      {
       "output_type": "stream", 
       "stream": "stdout", 
       "text": [
        "24 "
       ]
      }, 
      {
       "output_type": "stream", 
       "stream": "stdout", 
       "text": [
        "25 "
       ]
      }, 
      {
       "output_type": "stream", 
       "stream": "stdout", 
       "text": [
        "26 "
       ]
      }, 
      {
       "output_type": "stream", 
       "stream": "stdout", 
       "text": [
        "27 "
       ]
      }, 
      {
       "output_type": "stream", 
       "stream": "stdout", 
       "text": [
        "28 "
       ]
      }, 
      {
       "output_type": "stream", 
       "stream": "stdout", 
       "text": [
        "29 "
       ]
      }, 
      {
       "output_type": "stream", 
       "stream": "stdout", 
       "text": [
        "30 "
       ]
      }, 
      {
       "output_type": "stream", 
       "stream": "stdout", 
       "text": [
        "31 "
       ]
      }, 
      {
       "output_type": "stream", 
       "stream": "stdout", 
       "text": [
        "32 "
       ]
      }, 
      {
       "output_type": "stream", 
       "stream": "stdout", 
       "text": [
        "33 "
       ]
      }, 
      {
       "output_type": "stream", 
       "stream": "stdout", 
       "text": [
        "34 "
       ]
      }, 
      {
       "output_type": "stream", 
       "stream": "stdout", 
       "text": [
        "35 "
       ]
      }, 
      {
       "output_type": "stream", 
       "stream": "stdout", 
       "text": [
        "36 "
       ]
      }, 
      {
       "output_type": "stream", 
       "stream": "stdout", 
       "text": [
        "37 "
       ]
      }, 
      {
       "output_type": "stream", 
       "stream": "stdout", 
       "text": [
        "38 "
       ]
      }, 
      {
       "output_type": "stream", 
       "stream": "stdout", 
       "text": [
        "39 "
       ]
      }, 
      {
       "output_type": "stream", 
       "stream": "stdout", 
       "text": [
        "40 "
       ]
      }, 
      {
       "output_type": "stream", 
       "stream": "stdout", 
       "text": [
        "41 "
       ]
      }, 
      {
       "output_type": "stream", 
       "stream": "stdout", 
       "text": [
        "42 "
       ]
      }, 
      {
       "output_type": "stream", 
       "stream": "stdout", 
       "text": [
        "43 "
       ]
      }, 
      {
       "output_type": "stream", 
       "stream": "stdout", 
       "text": [
        "44 "
       ]
      }, 
      {
       "output_type": "stream", 
       "stream": "stdout", 
       "text": [
        "45 "
       ]
      }, 
      {
       "output_type": "stream", 
       "stream": "stdout", 
       "text": [
        "46 "
       ]
      }, 
      {
       "output_type": "stream", 
       "stream": "stdout", 
       "text": [
        "47 "
       ]
      }, 
      {
       "output_type": "stream", 
       "stream": "stdout", 
       "text": [
        "48 "
       ]
      }, 
      {
       "output_type": "stream", 
       "stream": "stdout", 
       "text": [
        "49 "
       ]
      }, 
      {
       "output_type": "stream", 
       "stream": "stdout", 
       "text": [
        "", 
        "801"
       ]
      }, 
      {
       "output_type": "stream", 
       "stream": "stdout", 
       "text": [
        " 0 "
       ]
      }, 
      {
       "output_type": "stream", 
       "stream": "stdout", 
       "text": [
        "1 "
       ]
      }, 
      {
       "output_type": "stream", 
       "stream": "stdout", 
       "text": [
        "2 "
       ]
      }, 
      {
       "output_type": "stream", 
       "stream": "stdout", 
       "text": [
        "3 "
       ]
      }, 
      {
       "output_type": "stream", 
       "stream": "stdout", 
       "text": [
        "4 "
       ]
      }, 
      {
       "output_type": "stream", 
       "stream": "stdout", 
       "text": [
        "5 "
       ]
      }, 
      {
       "output_type": "stream", 
       "stream": "stdout", 
       "text": [
        "6 "
       ]
      }, 
      {
       "output_type": "stream", 
       "stream": "stdout", 
       "text": [
        "7 "
       ]
      }, 
      {
       "output_type": "stream", 
       "stream": "stdout", 
       "text": [
        "8 "
       ]
      }, 
      {
       "output_type": "stream", 
       "stream": "stdout", 
       "text": [
        "9 "
       ]
      }, 
      {
       "output_type": "stream", 
       "stream": "stdout", 
       "text": [
        "10 "
       ]
      }, 
      {
       "output_type": "stream", 
       "stream": "stdout", 
       "text": [
        "11 "
       ]
      }, 
      {
       "output_type": "stream", 
       "stream": "stdout", 
       "text": [
        "12 "
       ]
      }, 
      {
       "output_type": "stream", 
       "stream": "stdout", 
       "text": [
        "13 "
       ]
      }, 
      {
       "output_type": "stream", 
       "stream": "stdout", 
       "text": [
        "14 "
       ]
      }, 
      {
       "output_type": "stream", 
       "stream": "stdout", 
       "text": [
        "15 "
       ]
      }, 
      {
       "output_type": "stream", 
       "stream": "stdout", 
       "text": [
        "16 "
       ]
      }, 
      {
       "output_type": "stream", 
       "stream": "stdout", 
       "text": [
        "17 "
       ]
      }, 
      {
       "output_type": "stream", 
       "stream": "stdout", 
       "text": [
        "18 "
       ]
      }, 
      {
       "output_type": "stream", 
       "stream": "stdout", 
       "text": [
        "19 "
       ]
      }, 
      {
       "output_type": "stream", 
       "stream": "stdout", 
       "text": [
        "20 "
       ]
      }, 
      {
       "output_type": "stream", 
       "stream": "stdout", 
       "text": [
        "21 "
       ]
      }, 
      {
       "output_type": "stream", 
       "stream": "stdout", 
       "text": [
        "22 "
       ]
      }, 
      {
       "output_type": "stream", 
       "stream": "stdout", 
       "text": [
        "23 "
       ]
      }, 
      {
       "output_type": "stream", 
       "stream": "stdout", 
       "text": [
        "24 "
       ]
      }, 
      {
       "output_type": "stream", 
       "stream": "stdout", 
       "text": [
        "25 "
       ]
      }, 
      {
       "output_type": "stream", 
       "stream": "stdout", 
       "text": [
        "26 "
       ]
      }, 
      {
       "output_type": "stream", 
       "stream": "stdout", 
       "text": [
        "27 "
       ]
      }, 
      {
       "output_type": "stream", 
       "stream": "stdout", 
       "text": [
        "28 "
       ]
      }, 
      {
       "output_type": "stream", 
       "stream": "stdout", 
       "text": [
        "29 "
       ]
      }, 
      {
       "output_type": "stream", 
       "stream": "stdout", 
       "text": [
        "30 "
       ]
      }, 
      {
       "output_type": "stream", 
       "stream": "stdout", 
       "text": [
        "31 "
       ]
      }, 
      {
       "output_type": "stream", 
       "stream": "stdout", 
       "text": [
        "32 "
       ]
      }, 
      {
       "output_type": "stream", 
       "stream": "stdout", 
       "text": [
        "33 "
       ]
      }, 
      {
       "output_type": "stream", 
       "stream": "stdout", 
       "text": [
        "34 "
       ]
      }, 
      {
       "output_type": "stream", 
       "stream": "stdout", 
       "text": [
        "35 "
       ]
      }, 
      {
       "output_type": "stream", 
       "stream": "stdout", 
       "text": [
        "36 "
       ]
      }, 
      {
       "output_type": "stream", 
       "stream": "stdout", 
       "text": [
        "37 "
       ]
      }, 
      {
       "output_type": "stream", 
       "stream": "stdout", 
       "text": [
        "38 "
       ]
      }, 
      {
       "output_type": "stream", 
       "stream": "stdout", 
       "text": [
        "39 "
       ]
      }, 
      {
       "output_type": "stream", 
       "stream": "stdout", 
       "text": [
        "40 "
       ]
      }, 
      {
       "output_type": "stream", 
       "stream": "stdout", 
       "text": [
        "41 "
       ]
      }, 
      {
       "output_type": "stream", 
       "stream": "stdout", 
       "text": [
        "42 "
       ]
      }, 
      {
       "output_type": "stream", 
       "stream": "stdout", 
       "text": [
        "43 "
       ]
      }, 
      {
       "output_type": "stream", 
       "stream": "stdout", 
       "text": [
        "44 "
       ]
      }, 
      {
       "output_type": "stream", 
       "stream": "stdout", 
       "text": [
        "45 "
       ]
      }, 
      {
       "output_type": "stream", 
       "stream": "stdout", 
       "text": [
        "46 "
       ]
      }, 
      {
       "output_type": "stream", 
       "stream": "stdout", 
       "text": [
        "47 "
       ]
      }, 
      {
       "output_type": "stream", 
       "stream": "stdout", 
       "text": [
        "48 "
       ]
      }, 
      {
       "output_type": "stream", 
       "stream": "stdout", 
       "text": [
        "49 "
       ]
      }, 
      {
       "output_type": "stream", 
       "stream": "stdout", 
       "text": [
        "", 
        "901"
       ]
      }, 
      {
       "output_type": "stream", 
       "stream": "stdout", 
       "text": [
        " 0 "
       ]
      }, 
      {
       "output_type": "stream", 
       "stream": "stdout", 
       "text": [
        "1 "
       ]
      }, 
      {
       "output_type": "stream", 
       "stream": "stdout", 
       "text": [
        "2 "
       ]
      }, 
      {
       "output_type": "stream", 
       "stream": "stdout", 
       "text": [
        "3 "
       ]
      }, 
      {
       "output_type": "stream", 
       "stream": "stdout", 
       "text": [
        "4 "
       ]
      }, 
      {
       "output_type": "stream", 
       "stream": "stdout", 
       "text": [
        "5 "
       ]
      }, 
      {
       "output_type": "stream", 
       "stream": "stdout", 
       "text": [
        "6 "
       ]
      }, 
      {
       "output_type": "stream", 
       "stream": "stdout", 
       "text": [
        "7 "
       ]
      }, 
      {
       "output_type": "stream", 
       "stream": "stdout", 
       "text": [
        "8 "
       ]
      }, 
      {
       "output_type": "stream", 
       "stream": "stdout", 
       "text": [
        "9 "
       ]
      }, 
      {
       "output_type": "stream", 
       "stream": "stdout", 
       "text": [
        "10 "
       ]
      }, 
      {
       "output_type": "stream", 
       "stream": "stdout", 
       "text": [
        "11 "
       ]
      }, 
      {
       "output_type": "stream", 
       "stream": "stdout", 
       "text": [
        "12 "
       ]
      }, 
      {
       "output_type": "stream", 
       "stream": "stdout", 
       "text": [
        "13 "
       ]
      }, 
      {
       "output_type": "stream", 
       "stream": "stdout", 
       "text": [
        "14 "
       ]
      }, 
      {
       "output_type": "stream", 
       "stream": "stdout", 
       "text": [
        "15 "
       ]
      }, 
      {
       "output_type": "stream", 
       "stream": "stdout", 
       "text": [
        "16 "
       ]
      }, 
      {
       "output_type": "stream", 
       "stream": "stdout", 
       "text": [
        "17 "
       ]
      }, 
      {
       "output_type": "stream", 
       "stream": "stdout", 
       "text": [
        "18 "
       ]
      }, 
      {
       "output_type": "stream", 
       "stream": "stdout", 
       "text": [
        "19 "
       ]
      }, 
      {
       "output_type": "stream", 
       "stream": "stdout", 
       "text": [
        "20 "
       ]
      }, 
      {
       "output_type": "stream", 
       "stream": "stdout", 
       "text": [
        "21 "
       ]
      }, 
      {
       "output_type": "stream", 
       "stream": "stdout", 
       "text": [
        "22 "
       ]
      }, 
      {
       "output_type": "stream", 
       "stream": "stdout", 
       "text": [
        "23 "
       ]
      }, 
      {
       "output_type": "stream", 
       "stream": "stdout", 
       "text": [
        "24 "
       ]
      }, 
      {
       "output_type": "stream", 
       "stream": "stdout", 
       "text": [
        "25 "
       ]
      }, 
      {
       "output_type": "stream", 
       "stream": "stdout", 
       "text": [
        "26 "
       ]
      }, 
      {
       "output_type": "stream", 
       "stream": "stdout", 
       "text": [
        "27 "
       ]
      }, 
      {
       "output_type": "stream", 
       "stream": "stdout", 
       "text": [
        "28 "
       ]
      }, 
      {
       "output_type": "stream", 
       "stream": "stdout", 
       "text": [
        "29 "
       ]
      }, 
      {
       "output_type": "stream", 
       "stream": "stdout", 
       "text": [
        "30 "
       ]
      }, 
      {
       "output_type": "stream", 
       "stream": "stdout", 
       "text": [
        "31 "
       ]
      }, 
      {
       "output_type": "stream", 
       "stream": "stdout", 
       "text": [
        "32 "
       ]
      }, 
      {
       "output_type": "stream", 
       "stream": "stdout", 
       "text": [
        "33 "
       ]
      }, 
      {
       "output_type": "stream", 
       "stream": "stdout", 
       "text": [
        "34 "
       ]
      }, 
      {
       "output_type": "stream", 
       "stream": "stdout", 
       "text": [
        "35 "
       ]
      }, 
      {
       "output_type": "stream", 
       "stream": "stdout", 
       "text": [
        "36 "
       ]
      }, 
      {
       "output_type": "stream", 
       "stream": "stdout", 
       "text": [
        "37 "
       ]
      }, 
      {
       "output_type": "stream", 
       "stream": "stdout", 
       "text": [
        "38 "
       ]
      }, 
      {
       "output_type": "stream", 
       "stream": "stdout", 
       "text": [
        "39 "
       ]
      }, 
      {
       "output_type": "stream", 
       "stream": "stdout", 
       "text": [
        "40 "
       ]
      }, 
      {
       "output_type": "stream", 
       "stream": "stdout", 
       "text": [
        "41 "
       ]
      }, 
      {
       "output_type": "stream", 
       "stream": "stdout", 
       "text": [
        "42 "
       ]
      }, 
      {
       "output_type": "stream", 
       "stream": "stdout", 
       "text": [
        "43 "
       ]
      }, 
      {
       "output_type": "stream", 
       "stream": "stdout", 
       "text": [
        "44 "
       ]
      }, 
      {
       "output_type": "stream", 
       "stream": "stdout", 
       "text": [
        "45 "
       ]
      }, 
      {
       "output_type": "stream", 
       "stream": "stdout", 
       "text": [
        "46 "
       ]
      }, 
      {
       "output_type": "stream", 
       "stream": "stdout", 
       "text": [
        "47 "
       ]
      }, 
      {
       "output_type": "stream", 
       "stream": "stdout", 
       "text": [
        "48 "
       ]
      }, 
      {
       "output_type": "stream", 
       "stream": "stdout", 
       "text": [
        "49 "
       ]
      }, 
      {
       "output_type": "stream", 
       "stream": "stdout", 
       "text": [
        "", 
        "1001"
       ]
      }, 
      {
       "output_type": "stream", 
       "stream": "stdout", 
       "text": [
        " 0 "
       ]
      }, 
      {
       "output_type": "stream", 
       "stream": "stdout", 
       "text": [
        "1 "
       ]
      }, 
      {
       "output_type": "stream", 
       "stream": "stdout", 
       "text": [
        "2 "
       ]
      }, 
      {
       "output_type": "stream", 
       "stream": "stdout", 
       "text": [
        "3 "
       ]
      }, 
      {
       "output_type": "stream", 
       "stream": "stdout", 
       "text": [
        "4 "
       ]
      }, 
      {
       "output_type": "stream", 
       "stream": "stdout", 
       "text": [
        "5 "
       ]
      }, 
      {
       "output_type": "stream", 
       "stream": "stdout", 
       "text": [
        "6 "
       ]
      }, 
      {
       "output_type": "stream", 
       "stream": "stdout", 
       "text": [
        "7 "
       ]
      }, 
      {
       "output_type": "stream", 
       "stream": "stdout", 
       "text": [
        "8 "
       ]
      }, 
      {
       "output_type": "stream", 
       "stream": "stdout", 
       "text": [
        "9 "
       ]
      }, 
      {
       "output_type": "stream", 
       "stream": "stdout", 
       "text": [
        "10 "
       ]
      }, 
      {
       "output_type": "stream", 
       "stream": "stdout", 
       "text": [
        "11 "
       ]
      }, 
      {
       "output_type": "stream", 
       "stream": "stdout", 
       "text": [
        "12 "
       ]
      }, 
      {
       "output_type": "stream", 
       "stream": "stdout", 
       "text": [
        "13 "
       ]
      }, 
      {
       "output_type": "stream", 
       "stream": "stdout", 
       "text": [
        "14 "
       ]
      }, 
      {
       "output_type": "stream", 
       "stream": "stdout", 
       "text": [
        "15 "
       ]
      }, 
      {
       "output_type": "stream", 
       "stream": "stdout", 
       "text": [
        "16 "
       ]
      }, 
      {
       "output_type": "stream", 
       "stream": "stdout", 
       "text": [
        "17 "
       ]
      }, 
      {
       "output_type": "stream", 
       "stream": "stdout", 
       "text": [
        "18 "
       ]
      }, 
      {
       "output_type": "stream", 
       "stream": "stdout", 
       "text": [
        "19 "
       ]
      }, 
      {
       "output_type": "stream", 
       "stream": "stdout", 
       "text": [
        "20 "
       ]
      }, 
      {
       "output_type": "stream", 
       "stream": "stdout", 
       "text": [
        "21 "
       ]
      }, 
      {
       "output_type": "stream", 
       "stream": "stdout", 
       "text": [
        "22 "
       ]
      }, 
      {
       "output_type": "stream", 
       "stream": "stdout", 
       "text": [
        "23 "
       ]
      }, 
      {
       "output_type": "stream", 
       "stream": "stdout", 
       "text": [
        "24 "
       ]
      }, 
      {
       "output_type": "stream", 
       "stream": "stdout", 
       "text": [
        "25 "
       ]
      }, 
      {
       "output_type": "stream", 
       "stream": "stdout", 
       "text": [
        "26 "
       ]
      }, 
      {
       "output_type": "stream", 
       "stream": "stdout", 
       "text": [
        "27 "
       ]
      }, 
      {
       "output_type": "stream", 
       "stream": "stdout", 
       "text": [
        "28 "
       ]
      }, 
      {
       "output_type": "stream", 
       "stream": "stdout", 
       "text": [
        "29 "
       ]
      }, 
      {
       "output_type": "stream", 
       "stream": "stdout", 
       "text": [
        "30 "
       ]
      }, 
      {
       "output_type": "stream", 
       "stream": "stdout", 
       "text": [
        "31 "
       ]
      }, 
      {
       "output_type": "stream", 
       "stream": "stdout", 
       "text": [
        "32 "
       ]
      }, 
      {
       "output_type": "stream", 
       "stream": "stdout", 
       "text": [
        "33 "
       ]
      }, 
      {
       "output_type": "stream", 
       "stream": "stdout", 
       "text": [
        "34 "
       ]
      }, 
      {
       "output_type": "stream", 
       "stream": "stdout", 
       "text": [
        "35 "
       ]
      }, 
      {
       "output_type": "stream", 
       "stream": "stdout", 
       "text": [
        "36 "
       ]
      }, 
      {
       "output_type": "stream", 
       "stream": "stdout", 
       "text": [
        "37 "
       ]
      }, 
      {
       "output_type": "stream", 
       "stream": "stdout", 
       "text": [
        "38 "
       ]
      }, 
      {
       "output_type": "stream", 
       "stream": "stdout", 
       "text": [
        "39 "
       ]
      }, 
      {
       "output_type": "stream", 
       "stream": "stdout", 
       "text": [
        "40 "
       ]
      }, 
      {
       "output_type": "stream", 
       "stream": "stdout", 
       "text": [
        "41 "
       ]
      }, 
      {
       "output_type": "stream", 
       "stream": "stdout", 
       "text": [
        "42 "
       ]
      }, 
      {
       "output_type": "stream", 
       "stream": "stdout", 
       "text": [
        "43 "
       ]
      }, 
      {
       "output_type": "stream", 
       "stream": "stdout", 
       "text": [
        "44 "
       ]
      }, 
      {
       "output_type": "stream", 
       "stream": "stdout", 
       "text": [
        "45 "
       ]
      }, 
      {
       "output_type": "stream", 
       "stream": "stdout", 
       "text": [
        "46 "
       ]
      }, 
      {
       "output_type": "stream", 
       "stream": "stdout", 
       "text": [
        "47 "
       ]
      }, 
      {
       "output_type": "stream", 
       "stream": "stdout", 
       "text": [
        "48 "
       ]
      }, 
      {
       "output_type": "stream", 
       "stream": "stdout", 
       "text": [
        "49 "
       ]
      }, 
      {
       "output_type": "stream", 
       "stream": "stdout", 
       "text": [
        "", 
        "1101"
       ]
      }, 
      {
       "output_type": "stream", 
       "stream": "stdout", 
       "text": [
        " 0 "
       ]
      }, 
      {
       "output_type": "stream", 
       "stream": "stdout", 
       "text": [
        "1 "
       ]
      }, 
      {
       "output_type": "stream", 
       "stream": "stdout", 
       "text": [
        "2 "
       ]
      }, 
      {
       "output_type": "stream", 
       "stream": "stdout", 
       "text": [
        "3 "
       ]
      }, 
      {
       "output_type": "stream", 
       "stream": "stdout", 
       "text": [
        "4 "
       ]
      }, 
      {
       "output_type": "stream", 
       "stream": "stdout", 
       "text": [
        "5 "
       ]
      }, 
      {
       "output_type": "stream", 
       "stream": "stdout", 
       "text": [
        "6 "
       ]
      }, 
      {
       "output_type": "stream", 
       "stream": "stdout", 
       "text": [
        "7 "
       ]
      }, 
      {
       "output_type": "stream", 
       "stream": "stdout", 
       "text": [
        "8 "
       ]
      }, 
      {
       "output_type": "stream", 
       "stream": "stdout", 
       "text": [
        "9 "
       ]
      }, 
      {
       "output_type": "stream", 
       "stream": "stdout", 
       "text": [
        "10 "
       ]
      }, 
      {
       "output_type": "stream", 
       "stream": "stdout", 
       "text": [
        "11 "
       ]
      }, 
      {
       "output_type": "stream", 
       "stream": "stdout", 
       "text": [
        "12 "
       ]
      }, 
      {
       "output_type": "stream", 
       "stream": "stdout", 
       "text": [
        "13 "
       ]
      }, 
      {
       "output_type": "stream", 
       "stream": "stdout", 
       "text": [
        "14 "
       ]
      }, 
      {
       "output_type": "stream", 
       "stream": "stdout", 
       "text": [
        "15 "
       ]
      }, 
      {
       "output_type": "stream", 
       "stream": "stdout", 
       "text": [
        "16 "
       ]
      }, 
      {
       "output_type": "stream", 
       "stream": "stdout", 
       "text": [
        "17 "
       ]
      }, 
      {
       "output_type": "stream", 
       "stream": "stdout", 
       "text": [
        "18 "
       ]
      }, 
      {
       "output_type": "stream", 
       "stream": "stdout", 
       "text": [
        "19 "
       ]
      }, 
      {
       "output_type": "stream", 
       "stream": "stdout", 
       "text": [
        "20 "
       ]
      }, 
      {
       "output_type": "stream", 
       "stream": "stdout", 
       "text": [
        "21 "
       ]
      }, 
      {
       "output_type": "stream", 
       "stream": "stdout", 
       "text": [
        "22 "
       ]
      }, 
      {
       "output_type": "stream", 
       "stream": "stdout", 
       "text": [
        "23 "
       ]
      }, 
      {
       "output_type": "stream", 
       "stream": "stdout", 
       "text": [
        "24 "
       ]
      }, 
      {
       "output_type": "stream", 
       "stream": "stdout", 
       "text": [
        "25 "
       ]
      }, 
      {
       "output_type": "stream", 
       "stream": "stdout", 
       "text": [
        "26 "
       ]
      }, 
      {
       "output_type": "stream", 
       "stream": "stdout", 
       "text": [
        "27 "
       ]
      }, 
      {
       "output_type": "stream", 
       "stream": "stdout", 
       "text": [
        "28 "
       ]
      }, 
      {
       "output_type": "stream", 
       "stream": "stdout", 
       "text": [
        "29 "
       ]
      }, 
      {
       "output_type": "stream", 
       "stream": "stdout", 
       "text": [
        "30 "
       ]
      }, 
      {
       "output_type": "stream", 
       "stream": "stdout", 
       "text": [
        "31 "
       ]
      }, 
      {
       "output_type": "stream", 
       "stream": "stdout", 
       "text": [
        "32 "
       ]
      }, 
      {
       "output_type": "stream", 
       "stream": "stdout", 
       "text": [
        "33 "
       ]
      }, 
      {
       "output_type": "stream", 
       "stream": "stdout", 
       "text": [
        "34 "
       ]
      }, 
      {
       "output_type": "stream", 
       "stream": "stdout", 
       "text": [
        "35 "
       ]
      }, 
      {
       "output_type": "stream", 
       "stream": "stdout", 
       "text": [
        "36 "
       ]
      }, 
      {
       "output_type": "stream", 
       "stream": "stdout", 
       "text": [
        "37 "
       ]
      }, 
      {
       "output_type": "stream", 
       "stream": "stdout", 
       "text": [
        "38 "
       ]
      }, 
      {
       "output_type": "stream", 
       "stream": "stdout", 
       "text": [
        "39 "
       ]
      }, 
      {
       "output_type": "stream", 
       "stream": "stdout", 
       "text": [
        "40 "
       ]
      }, 
      {
       "output_type": "stream", 
       "stream": "stdout", 
       "text": [
        "41 "
       ]
      }, 
      {
       "output_type": "stream", 
       "stream": "stdout", 
       "text": [
        "42 "
       ]
      }, 
      {
       "output_type": "stream", 
       "stream": "stdout", 
       "text": [
        "43 "
       ]
      }, 
      {
       "output_type": "stream", 
       "stream": "stdout", 
       "text": [
        "44 "
       ]
      }, 
      {
       "output_type": "stream", 
       "stream": "stdout", 
       "text": [
        "45 "
       ]
      }, 
      {
       "output_type": "stream", 
       "stream": "stdout", 
       "text": [
        "46 "
       ]
      }, 
      {
       "output_type": "stream", 
       "stream": "stdout", 
       "text": [
        "47 "
       ]
      }, 
      {
       "output_type": "stream", 
       "stream": "stdout", 
       "text": [
        "48 "
       ]
      }, 
      {
       "output_type": "stream", 
       "stream": "stdout", 
       "text": [
        "49 "
       ]
      }, 
      {
       "output_type": "stream", 
       "stream": "stdout", 
       "text": [
        "", 
        "1201"
       ]
      }, 
      {
       "output_type": "stream", 
       "stream": "stdout", 
       "text": [
        " 0 "
       ]
      }, 
      {
       "output_type": "stream", 
       "stream": "stdout", 
       "text": [
        "1 "
       ]
      }, 
      {
       "output_type": "stream", 
       "stream": "stdout", 
       "text": [
        "2 "
       ]
      }, 
      {
       "output_type": "stream", 
       "stream": "stdout", 
       "text": [
        "3 "
       ]
      }, 
      {
       "output_type": "stream", 
       "stream": "stdout", 
       "text": [
        "4 "
       ]
      }, 
      {
       "output_type": "stream", 
       "stream": "stdout", 
       "text": [
        "5 "
       ]
      }, 
      {
       "output_type": "stream", 
       "stream": "stdout", 
       "text": [
        "6 "
       ]
      }, 
      {
       "output_type": "stream", 
       "stream": "stdout", 
       "text": [
        "7 "
       ]
      }, 
      {
       "output_type": "stream", 
       "stream": "stdout", 
       "text": [
        "8 "
       ]
      }, 
      {
       "output_type": "stream", 
       "stream": "stdout", 
       "text": [
        "9 "
       ]
      }, 
      {
       "output_type": "stream", 
       "stream": "stdout", 
       "text": [
        "10 "
       ]
      }, 
      {
       "output_type": "stream", 
       "stream": "stdout", 
       "text": [
        "11 "
       ]
      }, 
      {
       "output_type": "stream", 
       "stream": "stdout", 
       "text": [
        "12 "
       ]
      }, 
      {
       "output_type": "stream", 
       "stream": "stdout", 
       "text": [
        "13 "
       ]
      }, 
      {
       "output_type": "stream", 
       "stream": "stdout", 
       "text": [
        "14 "
       ]
      }, 
      {
       "output_type": "stream", 
       "stream": "stdout", 
       "text": [
        "15 "
       ]
      }, 
      {
       "output_type": "stream", 
       "stream": "stdout", 
       "text": [
        "16 "
       ]
      }, 
      {
       "output_type": "stream", 
       "stream": "stdout", 
       "text": [
        "17 "
       ]
      }, 
      {
       "output_type": "stream", 
       "stream": "stdout", 
       "text": [
        "18 "
       ]
      }, 
      {
       "output_type": "stream", 
       "stream": "stdout", 
       "text": [
        "19 "
       ]
      }, 
      {
       "output_type": "stream", 
       "stream": "stdout", 
       "text": [
        "20 "
       ]
      }, 
      {
       "output_type": "stream", 
       "stream": "stdout", 
       "text": [
        "21 "
       ]
      }, 
      {
       "output_type": "stream", 
       "stream": "stdout", 
       "text": [
        "22 "
       ]
      }, 
      {
       "output_type": "stream", 
       "stream": "stdout", 
       "text": [
        "23 "
       ]
      }, 
      {
       "output_type": "stream", 
       "stream": "stdout", 
       "text": [
        "24 "
       ]
      }, 
      {
       "output_type": "stream", 
       "stream": "stdout", 
       "text": [
        "25 "
       ]
      }, 
      {
       "output_type": "stream", 
       "stream": "stdout", 
       "text": [
        "26 "
       ]
      }, 
      {
       "output_type": "stream", 
       "stream": "stdout", 
       "text": [
        "27 "
       ]
      }, 
      {
       "output_type": "stream", 
       "stream": "stdout", 
       "text": [
        "28 "
       ]
      }, 
      {
       "output_type": "stream", 
       "stream": "stdout", 
       "text": [
        "29 "
       ]
      }, 
      {
       "output_type": "stream", 
       "stream": "stdout", 
       "text": [
        "30 "
       ]
      }, 
      {
       "output_type": "stream", 
       "stream": "stdout", 
       "text": [
        "31 "
       ]
      }, 
      {
       "output_type": "stream", 
       "stream": "stdout", 
       "text": [
        "32 "
       ]
      }, 
      {
       "output_type": "stream", 
       "stream": "stdout", 
       "text": [
        "33 "
       ]
      }, 
      {
       "output_type": "stream", 
       "stream": "stdout", 
       "text": [
        "34 "
       ]
      }, 
      {
       "output_type": "stream", 
       "stream": "stdout", 
       "text": [
        "35 "
       ]
      }, 
      {
       "output_type": "stream", 
       "stream": "stdout", 
       "text": [
        "36 "
       ]
      }, 
      {
       "output_type": "stream", 
       "stream": "stdout", 
       "text": [
        "37 "
       ]
      }, 
      {
       "output_type": "stream", 
       "stream": "stdout", 
       "text": [
        "38 "
       ]
      }, 
      {
       "output_type": "stream", 
       "stream": "stdout", 
       "text": [
        "39 "
       ]
      }, 
      {
       "output_type": "stream", 
       "stream": "stdout", 
       "text": [
        "40 "
       ]
      }, 
      {
       "output_type": "stream", 
       "stream": "stdout", 
       "text": [
        "41 "
       ]
      }, 
      {
       "output_type": "stream", 
       "stream": "stdout", 
       "text": [
        "42 "
       ]
      }, 
      {
       "output_type": "stream", 
       "stream": "stdout", 
       "text": [
        "43 "
       ]
      }, 
      {
       "output_type": "stream", 
       "stream": "stdout", 
       "text": [
        "44 "
       ]
      }, 
      {
       "output_type": "stream", 
       "stream": "stdout", 
       "text": [
        "45 "
       ]
      }, 
      {
       "output_type": "stream", 
       "stream": "stdout", 
       "text": [
        "46 "
       ]
      }, 
      {
       "output_type": "stream", 
       "stream": "stdout", 
       "text": [
        "47 "
       ]
      }, 
      {
       "output_type": "stream", 
       "stream": "stdout", 
       "text": [
        "48 "
       ]
      }, 
      {
       "output_type": "stream", 
       "stream": "stdout", 
       "text": [
        "49 "
       ]
      }, 
      {
       "output_type": "stream", 
       "stream": "stdout", 
       "text": [
        "", 
        "1301"
       ]
      }, 
      {
       "output_type": "stream", 
       "stream": "stdout", 
       "text": [
        " 0 "
       ]
      }, 
      {
       "output_type": "stream", 
       "stream": "stdout", 
       "text": [
        "1 "
       ]
      }, 
      {
       "output_type": "stream", 
       "stream": "stdout", 
       "text": [
        "2 "
       ]
      }, 
      {
       "output_type": "stream", 
       "stream": "stdout", 
       "text": [
        "3 "
       ]
      }, 
      {
       "output_type": "stream", 
       "stream": "stdout", 
       "text": [
        "4 "
       ]
      }, 
      {
       "output_type": "stream", 
       "stream": "stdout", 
       "text": [
        "5 "
       ]
      }, 
      {
       "output_type": "stream", 
       "stream": "stdout", 
       "text": [
        "6 "
       ]
      }, 
      {
       "output_type": "stream", 
       "stream": "stdout", 
       "text": [
        "7 "
       ]
      }, 
      {
       "output_type": "stream", 
       "stream": "stdout", 
       "text": [
        "8 "
       ]
      }, 
      {
       "output_type": "stream", 
       "stream": "stdout", 
       "text": [
        "9 "
       ]
      }, 
      {
       "output_type": "stream", 
       "stream": "stdout", 
       "text": [
        "10 "
       ]
      }, 
      {
       "output_type": "stream", 
       "stream": "stdout", 
       "text": [
        "11 "
       ]
      }, 
      {
       "output_type": "stream", 
       "stream": "stdout", 
       "text": [
        "12 "
       ]
      }, 
      {
       "output_type": "stream", 
       "stream": "stdout", 
       "text": [
        "13 "
       ]
      }, 
      {
       "output_type": "stream", 
       "stream": "stdout", 
       "text": [
        "14 "
       ]
      }, 
      {
       "output_type": "stream", 
       "stream": "stdout", 
       "text": [
        "15 "
       ]
      }, 
      {
       "output_type": "stream", 
       "stream": "stdout", 
       "text": [
        "16 "
       ]
      }, 
      {
       "output_type": "stream", 
       "stream": "stdout", 
       "text": [
        "17 "
       ]
      }, 
      {
       "output_type": "stream", 
       "stream": "stdout", 
       "text": [
        "18 "
       ]
      }, 
      {
       "output_type": "stream", 
       "stream": "stdout", 
       "text": [
        "19 "
       ]
      }, 
      {
       "output_type": "stream", 
       "stream": "stdout", 
       "text": [
        "20 "
       ]
      }, 
      {
       "output_type": "stream", 
       "stream": "stdout", 
       "text": [
        "21 "
       ]
      }, 
      {
       "output_type": "stream", 
       "stream": "stdout", 
       "text": [
        "22 "
       ]
      }, 
      {
       "output_type": "stream", 
       "stream": "stdout", 
       "text": [
        "23 "
       ]
      }, 
      {
       "output_type": "stream", 
       "stream": "stdout", 
       "text": [
        "24 "
       ]
      }, 
      {
       "output_type": "stream", 
       "stream": "stdout", 
       "text": [
        "25 "
       ]
      }, 
      {
       "output_type": "stream", 
       "stream": "stdout", 
       "text": [
        "26 "
       ]
      }, 
      {
       "output_type": "stream", 
       "stream": "stdout", 
       "text": [
        "27 "
       ]
      }, 
      {
       "output_type": "stream", 
       "stream": "stdout", 
       "text": [
        "28 "
       ]
      }, 
      {
       "output_type": "stream", 
       "stream": "stdout", 
       "text": [
        "29 "
       ]
      }, 
      {
       "output_type": "stream", 
       "stream": "stdout", 
       "text": [
        "30 "
       ]
      }, 
      {
       "output_type": "stream", 
       "stream": "stdout", 
       "text": [
        "31 "
       ]
      }, 
      {
       "output_type": "stream", 
       "stream": "stdout", 
       "text": [
        "32 "
       ]
      }, 
      {
       "output_type": "stream", 
       "stream": "stdout", 
       "text": [
        "33 "
       ]
      }, 
      {
       "output_type": "stream", 
       "stream": "stdout", 
       "text": [
        "34 "
       ]
      }, 
      {
       "output_type": "stream", 
       "stream": "stdout", 
       "text": [
        "35 "
       ]
      }, 
      {
       "output_type": "stream", 
       "stream": "stdout", 
       "text": [
        "36 "
       ]
      }, 
      {
       "output_type": "stream", 
       "stream": "stdout", 
       "text": [
        "37 "
       ]
      }, 
      {
       "output_type": "stream", 
       "stream": "stdout", 
       "text": [
        "38 "
       ]
      }, 
      {
       "output_type": "stream", 
       "stream": "stdout", 
       "text": [
        "39 "
       ]
      }, 
      {
       "output_type": "stream", 
       "stream": "stdout", 
       "text": [
        "40 "
       ]
      }, 
      {
       "output_type": "stream", 
       "stream": "stdout", 
       "text": [
        "41 "
       ]
      }, 
      {
       "output_type": "stream", 
       "stream": "stdout", 
       "text": [
        "42 "
       ]
      }, 
      {
       "output_type": "stream", 
       "stream": "stdout", 
       "text": [
        "43 "
       ]
      }, 
      {
       "output_type": "stream", 
       "stream": "stdout", 
       "text": [
        "44 "
       ]
      }, 
      {
       "output_type": "stream", 
       "stream": "stdout", 
       "text": [
        "45 "
       ]
      }, 
      {
       "output_type": "stream", 
       "stream": "stdout", 
       "text": [
        "46 "
       ]
      }, 
      {
       "output_type": "stream", 
       "stream": "stdout", 
       "text": [
        "47 "
       ]
      }, 
      {
       "output_type": "stream", 
       "stream": "stdout", 
       "text": [
        "48 "
       ]
      }, 
      {
       "output_type": "stream", 
       "stream": "stdout", 
       "text": [
        "49 "
       ]
      }, 
      {
       "output_type": "stream", 
       "stream": "stdout", 
       "text": [
        "", 
        "1401"
       ]
      }, 
      {
       "output_type": "stream", 
       "stream": "stdout", 
       "text": [
        " 0 "
       ]
      }, 
      {
       "output_type": "stream", 
       "stream": "stdout", 
       "text": [
        "1 "
       ]
      }, 
      {
       "output_type": "stream", 
       "stream": "stdout", 
       "text": [
        "2 "
       ]
      }, 
      {
       "output_type": "stream", 
       "stream": "stdout", 
       "text": [
        "3 "
       ]
      }, 
      {
       "output_type": "stream", 
       "stream": "stdout", 
       "text": [
        "4 "
       ]
      }, 
      {
       "output_type": "stream", 
       "stream": "stdout", 
       "text": [
        "5 "
       ]
      }, 
      {
       "output_type": "stream", 
       "stream": "stdout", 
       "text": [
        "6 "
       ]
      }, 
      {
       "output_type": "stream", 
       "stream": "stdout", 
       "text": [
        "7 "
       ]
      }, 
      {
       "output_type": "stream", 
       "stream": "stdout", 
       "text": [
        "8 "
       ]
      }, 
      {
       "output_type": "stream", 
       "stream": "stdout", 
       "text": [
        "9 "
       ]
      }, 
      {
       "output_type": "stream", 
       "stream": "stdout", 
       "text": [
        "10 "
       ]
      }, 
      {
       "output_type": "stream", 
       "stream": "stdout", 
       "text": [
        "11 "
       ]
      }, 
      {
       "output_type": "stream", 
       "stream": "stdout", 
       "text": [
        "12 "
       ]
      }, 
      {
       "output_type": "stream", 
       "stream": "stdout", 
       "text": [
        "13 "
       ]
      }, 
      {
       "output_type": "stream", 
       "stream": "stdout", 
       "text": [
        "14 "
       ]
      }, 
      {
       "output_type": "stream", 
       "stream": "stdout", 
       "text": [
        "15 "
       ]
      }, 
      {
       "output_type": "stream", 
       "stream": "stdout", 
       "text": [
        "16 "
       ]
      }, 
      {
       "output_type": "stream", 
       "stream": "stdout", 
       "text": [
        "17 "
       ]
      }, 
      {
       "output_type": "stream", 
       "stream": "stdout", 
       "text": [
        "18 "
       ]
      }, 
      {
       "output_type": "stream", 
       "stream": "stdout", 
       "text": [
        "19 "
       ]
      }, 
      {
       "output_type": "stream", 
       "stream": "stdout", 
       "text": [
        "20 "
       ]
      }, 
      {
       "output_type": "stream", 
       "stream": "stdout", 
       "text": [
        "21 "
       ]
      }, 
      {
       "output_type": "stream", 
       "stream": "stdout", 
       "text": [
        "22 "
       ]
      }, 
      {
       "output_type": "stream", 
       "stream": "stdout", 
       "text": [
        "23 "
       ]
      }, 
      {
       "output_type": "stream", 
       "stream": "stdout", 
       "text": [
        "24 "
       ]
      }, 
      {
       "output_type": "stream", 
       "stream": "stdout", 
       "text": [
        "25 "
       ]
      }, 
      {
       "output_type": "stream", 
       "stream": "stdout", 
       "text": [
        "26 "
       ]
      }, 
      {
       "output_type": "stream", 
       "stream": "stdout", 
       "text": [
        "27 "
       ]
      }, 
      {
       "output_type": "stream", 
       "stream": "stdout", 
       "text": [
        "28 "
       ]
      }, 
      {
       "output_type": "stream", 
       "stream": "stdout", 
       "text": [
        "29 "
       ]
      }, 
      {
       "output_type": "stream", 
       "stream": "stdout", 
       "text": [
        "30 "
       ]
      }, 
      {
       "output_type": "stream", 
       "stream": "stdout", 
       "text": [
        "31 "
       ]
      }, 
      {
       "output_type": "stream", 
       "stream": "stdout", 
       "text": [
        "32 "
       ]
      }, 
      {
       "output_type": "stream", 
       "stream": "stdout", 
       "text": [
        "33 "
       ]
      }, 
      {
       "output_type": "stream", 
       "stream": "stdout", 
       "text": [
        "34 "
       ]
      }, 
      {
       "output_type": "stream", 
       "stream": "stdout", 
       "text": [
        "35 "
       ]
      }, 
      {
       "output_type": "stream", 
       "stream": "stdout", 
       "text": [
        "36 "
       ]
      }, 
      {
       "output_type": "stream", 
       "stream": "stdout", 
       "text": [
        "37 "
       ]
      }, 
      {
       "output_type": "stream", 
       "stream": "stdout", 
       "text": [
        "38 "
       ]
      }, 
      {
       "output_type": "stream", 
       "stream": "stdout", 
       "text": [
        "39 "
       ]
      }, 
      {
       "output_type": "stream", 
       "stream": "stdout", 
       "text": [
        "40 "
       ]
      }, 
      {
       "output_type": "stream", 
       "stream": "stdout", 
       "text": [
        "41 "
       ]
      }, 
      {
       "output_type": "stream", 
       "stream": "stdout", 
       "text": [
        "42 "
       ]
      }, 
      {
       "output_type": "stream", 
       "stream": "stdout", 
       "text": [
        "43 "
       ]
      }, 
      {
       "output_type": "stream", 
       "stream": "stdout", 
       "text": [
        "44 "
       ]
      }, 
      {
       "output_type": "stream", 
       "stream": "stdout", 
       "text": [
        "45 "
       ]
      }, 
      {
       "output_type": "stream", 
       "stream": "stdout", 
       "text": [
        "46 "
       ]
      }, 
      {
       "output_type": "stream", 
       "stream": "stdout", 
       "text": [
        "47 "
       ]
      }, 
      {
       "output_type": "stream", 
       "stream": "stdout", 
       "text": [
        "48 "
       ]
      }, 
      {
       "output_type": "stream", 
       "stream": "stdout", 
       "text": [
        "49 "
       ]
      }, 
      {
       "output_type": "stream", 
       "stream": "stdout", 
       "text": [
        "", 
        "1501"
       ]
      }, 
      {
       "output_type": "stream", 
       "stream": "stdout", 
       "text": [
        " 0 "
       ]
      }, 
      {
       "output_type": "stream", 
       "stream": "stdout", 
       "text": [
        "1 "
       ]
      }, 
      {
       "output_type": "stream", 
       "stream": "stdout", 
       "text": [
        "2 "
       ]
      }, 
      {
       "output_type": "stream", 
       "stream": "stdout", 
       "text": [
        "3 "
       ]
      }, 
      {
       "output_type": "stream", 
       "stream": "stdout", 
       "text": [
        "4 "
       ]
      }, 
      {
       "output_type": "stream", 
       "stream": "stdout", 
       "text": [
        "5 "
       ]
      }, 
      {
       "output_type": "stream", 
       "stream": "stdout", 
       "text": [
        "6 "
       ]
      }, 
      {
       "output_type": "stream", 
       "stream": "stdout", 
       "text": [
        "7 "
       ]
      }, 
      {
       "output_type": "stream", 
       "stream": "stdout", 
       "text": [
        "8 "
       ]
      }, 
      {
       "output_type": "stream", 
       "stream": "stdout", 
       "text": [
        "9 "
       ]
      }, 
      {
       "output_type": "stream", 
       "stream": "stdout", 
       "text": [
        "10 "
       ]
      }, 
      {
       "output_type": "stream", 
       "stream": "stdout", 
       "text": [
        "11 "
       ]
      }, 
      {
       "output_type": "stream", 
       "stream": "stdout", 
       "text": [
        "12 "
       ]
      }, 
      {
       "output_type": "stream", 
       "stream": "stdout", 
       "text": [
        "13 "
       ]
      }, 
      {
       "output_type": "stream", 
       "stream": "stdout", 
       "text": [
        "14 "
       ]
      }, 
      {
       "output_type": "stream", 
       "stream": "stdout", 
       "text": [
        "15 "
       ]
      }, 
      {
       "output_type": "stream", 
       "stream": "stdout", 
       "text": [
        "16 "
       ]
      }, 
      {
       "output_type": "stream", 
       "stream": "stdout", 
       "text": [
        "17 "
       ]
      }, 
      {
       "output_type": "stream", 
       "stream": "stdout", 
       "text": [
        "18 "
       ]
      }, 
      {
       "output_type": "stream", 
       "stream": "stdout", 
       "text": [
        "19 "
       ]
      }, 
      {
       "output_type": "stream", 
       "stream": "stdout", 
       "text": [
        "20 "
       ]
      }, 
      {
       "output_type": "stream", 
       "stream": "stdout", 
       "text": [
        "21 "
       ]
      }, 
      {
       "output_type": "stream", 
       "stream": "stdout", 
       "text": [
        "22 "
       ]
      }, 
      {
       "output_type": "stream", 
       "stream": "stdout", 
       "text": [
        "23 "
       ]
      }, 
      {
       "output_type": "stream", 
       "stream": "stdout", 
       "text": [
        "24 "
       ]
      }, 
      {
       "output_type": "stream", 
       "stream": "stdout", 
       "text": [
        "25 "
       ]
      }, 
      {
       "output_type": "stream", 
       "stream": "stdout", 
       "text": [
        "26 "
       ]
      }, 
      {
       "output_type": "stream", 
       "stream": "stdout", 
       "text": [
        "27 "
       ]
      }, 
      {
       "output_type": "stream", 
       "stream": "stdout", 
       "text": [
        "28 "
       ]
      }, 
      {
       "output_type": "stream", 
       "stream": "stdout", 
       "text": [
        "29 "
       ]
      }, 
      {
       "output_type": "stream", 
       "stream": "stdout", 
       "text": [
        "30 "
       ]
      }, 
      {
       "output_type": "stream", 
       "stream": "stdout", 
       "text": [
        "31 "
       ]
      }, 
      {
       "output_type": "stream", 
       "stream": "stdout", 
       "text": [
        "32 "
       ]
      }, 
      {
       "output_type": "stream", 
       "stream": "stdout", 
       "text": [
        "33 "
       ]
      }, 
      {
       "output_type": "stream", 
       "stream": "stdout", 
       "text": [
        "34 "
       ]
      }, 
      {
       "output_type": "stream", 
       "stream": "stdout", 
       "text": [
        "35 "
       ]
      }, 
      {
       "output_type": "stream", 
       "stream": "stdout", 
       "text": [
        "36 "
       ]
      }, 
      {
       "output_type": "stream", 
       "stream": "stdout", 
       "text": [
        "37 "
       ]
      }, 
      {
       "output_type": "stream", 
       "stream": "stdout", 
       "text": [
        "38 "
       ]
      }, 
      {
       "output_type": "stream", 
       "stream": "stdout", 
       "text": [
        "39 "
       ]
      }, 
      {
       "output_type": "stream", 
       "stream": "stdout", 
       "text": [
        "40 "
       ]
      }, 
      {
       "output_type": "stream", 
       "stream": "stdout", 
       "text": [
        "41 "
       ]
      }, 
      {
       "output_type": "stream", 
       "stream": "stdout", 
       "text": [
        "42 "
       ]
      }, 
      {
       "output_type": "stream", 
       "stream": "stdout", 
       "text": [
        "43 "
       ]
      }, 
      {
       "output_type": "stream", 
       "stream": "stdout", 
       "text": [
        "44 "
       ]
      }, 
      {
       "output_type": "stream", 
       "stream": "stdout", 
       "text": [
        "45 "
       ]
      }, 
      {
       "output_type": "stream", 
       "stream": "stdout", 
       "text": [
        "46 "
       ]
      }, 
      {
       "output_type": "stream", 
       "stream": "stdout", 
       "text": [
        "47 "
       ]
      }, 
      {
       "output_type": "stream", 
       "stream": "stdout", 
       "text": [
        "48 "
       ]
      }, 
      {
       "output_type": "stream", 
       "stream": "stdout", 
       "text": [
        "49 "
       ]
      }, 
      {
       "output_type": "stream", 
       "stream": "stdout", 
       "text": [
        "", 
        "1601"
       ]
      }, 
      {
       "output_type": "stream", 
       "stream": "stdout", 
       "text": [
        " 0 "
       ]
      }, 
      {
       "output_type": "stream", 
       "stream": "stdout", 
       "text": [
        "1 "
       ]
      }, 
      {
       "output_type": "stream", 
       "stream": "stdout", 
       "text": [
        "2 "
       ]
      }, 
      {
       "output_type": "stream", 
       "stream": "stdout", 
       "text": [
        "3 "
       ]
      }, 
      {
       "output_type": "stream", 
       "stream": "stdout", 
       "text": [
        "4 "
       ]
      }, 
      {
       "output_type": "stream", 
       "stream": "stdout", 
       "text": [
        "5 "
       ]
      }, 
      {
       "output_type": "stream", 
       "stream": "stdout", 
       "text": [
        "6 "
       ]
      }, 
      {
       "output_type": "stream", 
       "stream": "stdout", 
       "text": [
        "7 "
       ]
      }, 
      {
       "output_type": "stream", 
       "stream": "stdout", 
       "text": [
        "8 "
       ]
      }, 
      {
       "output_type": "stream", 
       "stream": "stdout", 
       "text": [
        "9 "
       ]
      }, 
      {
       "output_type": "stream", 
       "stream": "stdout", 
       "text": [
        "10 "
       ]
      }, 
      {
       "output_type": "stream", 
       "stream": "stdout", 
       "text": [
        "11 "
       ]
      }, 
      {
       "output_type": "stream", 
       "stream": "stdout", 
       "text": [
        "12 "
       ]
      }, 
      {
       "output_type": "stream", 
       "stream": "stdout", 
       "text": [
        "13 "
       ]
      }, 
      {
       "output_type": "stream", 
       "stream": "stdout", 
       "text": [
        "14 "
       ]
      }, 
      {
       "output_type": "stream", 
       "stream": "stdout", 
       "text": [
        "15 "
       ]
      }, 
      {
       "output_type": "stream", 
       "stream": "stdout", 
       "text": [
        "16 "
       ]
      }, 
      {
       "output_type": "stream", 
       "stream": "stdout", 
       "text": [
        "17 "
       ]
      }, 
      {
       "output_type": "stream", 
       "stream": "stdout", 
       "text": [
        "18 "
       ]
      }, 
      {
       "output_type": "stream", 
       "stream": "stdout", 
       "text": [
        "19 "
       ]
      }, 
      {
       "output_type": "stream", 
       "stream": "stdout", 
       "text": [
        "20 "
       ]
      }, 
      {
       "output_type": "stream", 
       "stream": "stdout", 
       "text": [
        "21 "
       ]
      }, 
      {
       "output_type": "stream", 
       "stream": "stdout", 
       "text": [
        "22 "
       ]
      }, 
      {
       "output_type": "stream", 
       "stream": "stdout", 
       "text": [
        "23 "
       ]
      }, 
      {
       "output_type": "stream", 
       "stream": "stdout", 
       "text": [
        "24 "
       ]
      }, 
      {
       "output_type": "stream", 
       "stream": "stdout", 
       "text": [
        "25 "
       ]
      }, 
      {
       "output_type": "stream", 
       "stream": "stdout", 
       "text": [
        "26 "
       ]
      }, 
      {
       "output_type": "stream", 
       "stream": "stdout", 
       "text": [
        "27 "
       ]
      }, 
      {
       "output_type": "stream", 
       "stream": "stdout", 
       "text": [
        "28 "
       ]
      }, 
      {
       "output_type": "stream", 
       "stream": "stdout", 
       "text": [
        "29 "
       ]
      }, 
      {
       "output_type": "stream", 
       "stream": "stdout", 
       "text": [
        "30 "
       ]
      }, 
      {
       "output_type": "stream", 
       "stream": "stdout", 
       "text": [
        "31 "
       ]
      }, 
      {
       "output_type": "stream", 
       "stream": "stdout", 
       "text": [
        "32 "
       ]
      }, 
      {
       "output_type": "stream", 
       "stream": "stdout", 
       "text": [
        "33 "
       ]
      }, 
      {
       "output_type": "stream", 
       "stream": "stdout", 
       "text": [
        "34 "
       ]
      }, 
      {
       "output_type": "stream", 
       "stream": "stdout", 
       "text": [
        "35 "
       ]
      }, 
      {
       "output_type": "stream", 
       "stream": "stdout", 
       "text": [
        "36 "
       ]
      }, 
      {
       "output_type": "stream", 
       "stream": "stdout", 
       "text": [
        "37 "
       ]
      }, 
      {
       "output_type": "stream", 
       "stream": "stdout", 
       "text": [
        "38 "
       ]
      }, 
      {
       "output_type": "stream", 
       "stream": "stdout", 
       "text": [
        "39 "
       ]
      }, 
      {
       "output_type": "stream", 
       "stream": "stdout", 
       "text": [
        "40 "
       ]
      }, 
      {
       "output_type": "stream", 
       "stream": "stdout", 
       "text": [
        "41 "
       ]
      }, 
      {
       "output_type": "stream", 
       "stream": "stdout", 
       "text": [
        "42 "
       ]
      }, 
      {
       "output_type": "stream", 
       "stream": "stdout", 
       "text": [
        "43 "
       ]
      }, 
      {
       "output_type": "stream", 
       "stream": "stdout", 
       "text": [
        "44 "
       ]
      }, 
      {
       "output_type": "stream", 
       "stream": "stdout", 
       "text": [
        "45 "
       ]
      }, 
      {
       "output_type": "stream", 
       "stream": "stdout", 
       "text": [
        "46 "
       ]
      }, 
      {
       "output_type": "stream", 
       "stream": "stdout", 
       "text": [
        "47 "
       ]
      }, 
      {
       "output_type": "stream", 
       "stream": "stdout", 
       "text": [
        "48 "
       ]
      }, 
      {
       "output_type": "stream", 
       "stream": "stdout", 
       "text": [
        "49 "
       ]
      }, 
      {
       "output_type": "stream", 
       "stream": "stdout", 
       "text": [
        "", 
        "1701"
       ]
      }, 
      {
       "output_type": "stream", 
       "stream": "stdout", 
       "text": [
        " 0 "
       ]
      }, 
      {
       "output_type": "stream", 
       "stream": "stdout", 
       "text": [
        "1 "
       ]
      }, 
      {
       "output_type": "stream", 
       "stream": "stdout", 
       "text": [
        "2 "
       ]
      }, 
      {
       "output_type": "stream", 
       "stream": "stdout", 
       "text": [
        "3 "
       ]
      }, 
      {
       "output_type": "stream", 
       "stream": "stdout", 
       "text": [
        "4 "
       ]
      }, 
      {
       "output_type": "stream", 
       "stream": "stdout", 
       "text": [
        "5 "
       ]
      }, 
      {
       "output_type": "stream", 
       "stream": "stdout", 
       "text": [
        "6 "
       ]
      }, 
      {
       "output_type": "stream", 
       "stream": "stdout", 
       "text": [
        "7 "
       ]
      }, 
      {
       "output_type": "stream", 
       "stream": "stdout", 
       "text": [
        "8 "
       ]
      }, 
      {
       "output_type": "stream", 
       "stream": "stdout", 
       "text": [
        "9 "
       ]
      }, 
      {
       "output_type": "stream", 
       "stream": "stdout", 
       "text": [
        "10 "
       ]
      }, 
      {
       "output_type": "stream", 
       "stream": "stdout", 
       "text": [
        "11 "
       ]
      }, 
      {
       "output_type": "stream", 
       "stream": "stdout", 
       "text": [
        "12 "
       ]
      }, 
      {
       "output_type": "stream", 
       "stream": "stdout", 
       "text": [
        "13 "
       ]
      }, 
      {
       "output_type": "stream", 
       "stream": "stdout", 
       "text": [
        "14 "
       ]
      }, 
      {
       "output_type": "stream", 
       "stream": "stdout", 
       "text": [
        "15 "
       ]
      }, 
      {
       "output_type": "stream", 
       "stream": "stdout", 
       "text": [
        "16 "
       ]
      }, 
      {
       "output_type": "stream", 
       "stream": "stdout", 
       "text": [
        "17 "
       ]
      }, 
      {
       "output_type": "stream", 
       "stream": "stdout", 
       "text": [
        "18 "
       ]
      }, 
      {
       "output_type": "stream", 
       "stream": "stdout", 
       "text": [
        "19 "
       ]
      }, 
      {
       "output_type": "stream", 
       "stream": "stdout", 
       "text": [
        "20 "
       ]
      }, 
      {
       "output_type": "stream", 
       "stream": "stdout", 
       "text": [
        "21 "
       ]
      }, 
      {
       "output_type": "stream", 
       "stream": "stdout", 
       "text": [
        "22 "
       ]
      }, 
      {
       "output_type": "stream", 
       "stream": "stdout", 
       "text": [
        "23 "
       ]
      }, 
      {
       "output_type": "stream", 
       "stream": "stdout", 
       "text": [
        "24 "
       ]
      }, 
      {
       "output_type": "stream", 
       "stream": "stdout", 
       "text": [
        "25 "
       ]
      }, 
      {
       "output_type": "stream", 
       "stream": "stdout", 
       "text": [
        "26 "
       ]
      }, 
      {
       "output_type": "stream", 
       "stream": "stdout", 
       "text": [
        "27 "
       ]
      }, 
      {
       "output_type": "stream", 
       "stream": "stdout", 
       "text": [
        "28 "
       ]
      }, 
      {
       "output_type": "stream", 
       "stream": "stdout", 
       "text": [
        "29 "
       ]
      }, 
      {
       "output_type": "stream", 
       "stream": "stdout", 
       "text": [
        "30 "
       ]
      }, 
      {
       "output_type": "stream", 
       "stream": "stdout", 
       "text": [
        "31 "
       ]
      }, 
      {
       "output_type": "stream", 
       "stream": "stdout", 
       "text": [
        "32 "
       ]
      }, 
      {
       "output_type": "stream", 
       "stream": "stdout", 
       "text": [
        "33 "
       ]
      }, 
      {
       "output_type": "stream", 
       "stream": "stdout", 
       "text": [
        "34 "
       ]
      }, 
      {
       "output_type": "stream", 
       "stream": "stdout", 
       "text": [
        "35 "
       ]
      }, 
      {
       "output_type": "stream", 
       "stream": "stdout", 
       "text": [
        "36 "
       ]
      }, 
      {
       "output_type": "stream", 
       "stream": "stdout", 
       "text": [
        "37 "
       ]
      }, 
      {
       "output_type": "stream", 
       "stream": "stdout", 
       "text": [
        "38 "
       ]
      }, 
      {
       "output_type": "stream", 
       "stream": "stdout", 
       "text": [
        "39 "
       ]
      }, 
      {
       "output_type": "stream", 
       "stream": "stdout", 
       "text": [
        "40 "
       ]
      }, 
      {
       "output_type": "stream", 
       "stream": "stdout", 
       "text": [
        "41 "
       ]
      }, 
      {
       "output_type": "stream", 
       "stream": "stdout", 
       "text": [
        "42 "
       ]
      }, 
      {
       "output_type": "stream", 
       "stream": "stdout", 
       "text": [
        "43 "
       ]
      }, 
      {
       "output_type": "stream", 
       "stream": "stdout", 
       "text": [
        "44 "
       ]
      }, 
      {
       "output_type": "stream", 
       "stream": "stdout", 
       "text": [
        "45 "
       ]
      }, 
      {
       "output_type": "stream", 
       "stream": "stdout", 
       "text": [
        "46 "
       ]
      }, 
      {
       "output_type": "stream", 
       "stream": "stdout", 
       "text": [
        "47 "
       ]
      }, 
      {
       "output_type": "stream", 
       "stream": "stdout", 
       "text": [
        "48 "
       ]
      }, 
      {
       "output_type": "stream", 
       "stream": "stdout", 
       "text": [
        "49 "
       ]
      }, 
      {
       "output_type": "stream", 
       "stream": "stdout", 
       "text": [
        ""
       ]
      }
     ], 
     "prompt_number": 107
    }, 
    {
     "cell_type": "code", 
     "collapsed": false, 
     "input": [
      "figsize(6,5)", 
      "results = pd.DataFrame({'max_features':p, 'train':trn_means, 'test':tst_means})", 
      "results.plot(x='max_features')"
     ], 
     "language": "python", 
     "outputs": [
      {
       "output_type": "pyout", 
       "prompt_number": 108, 
       "text": [
        "<matplotlib.axes.AxesSubplot at 0xe12c230>"
       ]
      }, 
      {
       "output_type": "display_data", 
       "png": "[encoded data removed]"
      }
     ], 
     "prompt_number": 108
    }, 
    {
     "cell_type": "code", 
     "collapsed": false, 
     "input": [
      "results"
     ], 
     "language": "python", 
     "outputs": [
      {
       "html": [
        "<div style=\"max-height:1000px;max-width:1500px;overflow:auto;\">", 
        "<table border=\"1\" class=\"dataframe\">", 
        "  <thead>", 
        "    <tr style=\"text-align: right;\">", 
        "      <th></th>", 
        "      <th>max_features</th>", 
        "      <th>test</th>", 
        "      <th>train</th>", 
        "    </tr>", 
        "  </thead>", 
        "  <tbody>", 
        "    <tr>", 
        "      <th>0 </th>", 
        "      <td>    1</td>", 
        "      <td> 0.3650</td>", 
        "      <td> 0.517460</td>", 
        "    </tr>", 
        "    <tr>", 
        "      <th>1 </th>", 
        "      <td>  101</td>", 
        "      <td> 0.7625</td>", 
        "      <td> 0.876508</td>", 
        "    </tr>", 
        "    <tr>", 
        "      <th>2 </th>", 
        "      <td>  201</td>", 
        "      <td> 0.8250</td>", 
        "      <td> 0.938095</td>", 
        "    </tr>", 
        "    <tr>", 
        "      <th>3 </th>", 
        "      <td>  301</td>", 
        "      <td> 0.7600</td>", 
        "      <td> 0.947619</td>", 
        "    </tr>", 
        "    <tr>", 
        "      <th>4 </th>", 
        "      <td>  401</td>", 
        "      <td> 0.7975</td>", 
        "      <td> 0.944127</td>", 
        "    </tr>", 
        "    <tr>", 
        "      <th>5 </th>", 
        "      <td>  501</td>", 
        "      <td> 0.8675</td>", 
        "      <td> 0.961905</td>", 
        "    </tr>", 
        "    <tr>", 
        "      <th>6 </th>", 
        "      <td>  601</td>", 
        "      <td> 0.8275</td>", 
        "      <td> 0.965079</td>", 
        "    </tr>", 
        "    <tr>", 
        "      <th>7 </th>", 
        "      <td>  701</td>", 
        "      <td> 0.8275</td>", 
        "      <td> 0.968254</td>", 
        "    </tr>", 
        "    <tr>", 
        "      <th>8 </th>", 
        "      <td>  801</td>", 
        "      <td> 0.8250</td>", 
        "      <td> 0.969206</td>", 
        "    </tr>", 
        "    <tr>", 
        "      <th>9 </th>", 
        "      <td>  901</td>", 
        "      <td> 0.7900</td>", 
        "      <td> 0.972063</td>", 
        "    </tr>", 
        "    <tr>", 
        "      <th>10</th>", 
        "      <td> 1001</td>", 
        "      <td> 0.7950</td>", 
        "      <td> 0.971429</td>", 
        "    </tr>", 
        "    <tr>", 
        "      <th>11</th>", 
        "      <td> 1101</td>", 
        "      <td> 0.8225</td>", 
        "      <td> 0.972063</td>", 
        "    </tr>", 
        "    <tr>", 
        "      <th>12</th>", 
        "      <td> 1201</td>", 
        "      <td> 0.8450</td>", 
        "      <td> 0.970794</td>", 
        "    </tr>", 
        "    <tr>", 
        "      <th>13</th>", 
        "      <td> 1301</td>", 
        "      <td> 0.7950</td>", 
        "      <td> 0.975238</td>", 
        "    </tr>", 
        "    <tr>", 
        "      <th>14</th>", 
        "      <td> 1401</td>", 
        "      <td> 0.8400</td>", 
        "      <td> 0.976190</td>", 
        "    </tr>", 
        "    <tr>", 
        "      <th>15</th>", 
        "      <td> 1501</td>", 
        "      <td> 0.7950</td>", 
        "      <td> 0.981270</td>", 
        "    </tr>", 
        "    <tr>", 
        "      <th>16</th>", 
        "      <td> 1601</td>", 
        "      <td> 0.8100</td>", 
        "      <td> 0.981587</td>", 
        "    </tr>", 
        "    <tr>", 
        "      <th>17</th>", 
        "      <td> 1701</td>", 
        "      <td> 0.8075</td>", 
        "      <td> 0.986032</td>", 
        "    </tr>", 
        "  </tbody>", 
        "</table>", 
        "</div>"
       ], 
       "output_type": "pyout", 
       "prompt_number": 109, 
       "text": [
        "    max_features    test     train", 
        "0              1  0.3650  0.517460", 
        "1            101  0.7625  0.876508", 
        "2            201  0.8250  0.938095", 
        "3            301  0.7600  0.947619", 
        "4            401  0.7975  0.944127", 
        "5            501  0.8675  0.961905", 
        "6            601  0.8275  0.965079", 
        "7            701  0.8275  0.968254", 
        "8            801  0.8250  0.969206", 
        "9            901  0.7900  0.972063", 
        "10          1001  0.7950  0.971429", 
        "11          1101  0.8225  0.972063", 
        "12          1201  0.8450  0.970794", 
        "13          1301  0.7950  0.975238", 
        "14          1401  0.8400  0.976190", 
        "15          1501  0.7950  0.981270", 
        "16          1601  0.8100  0.981587", 
        "17          1701  0.8075  0.986032"
       ]
      }
     ], 
     "prompt_number": 109
    }, 
    {
     "cell_type": "markdown", 
     "source": [
      "It looks like going past ~700 unigram features is not helpful, and by then we are overfitting on train."
     ]
    }, 
    {
     "cell_type": "code", 
     "collapsed": true, 
     "input": [], 
     "language": "python", 
     "outputs": []
    }
   ]
  }
 ]
}